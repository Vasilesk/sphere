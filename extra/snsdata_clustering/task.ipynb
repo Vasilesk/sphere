{
 "cells": [
  {
   "cell_type": "code",
   "execution_count": 1,
   "metadata": {},
   "outputs": [],
   "source": [
    "import pandas as pd\n",
    "import numpy as np\n",
    "\n",
    "from sklearn.cluster import KMeans, DBSCAN\n",
    "from sklearn.mixture import GaussianMixture\n",
    "from sklearn.feature_extraction.text import TfidfTransformer\n",
    "from sklearn.utils import shuffle\n",
    "from sklearn.metrics import silhouette_score\n",
    "\n",
    "import matplotlib.pyplot as plt\n",
    "%matplotlib inline\n",
    "\n",
    "plt.style.use('ggplot')\n",
    "plt.rcParams['figure.figsize'] = (12,5)\n",
    "\n",
    "RAND_INIT = 123456"
   ]
  },
  {
   "cell_type": "code",
   "execution_count": 2,
   "metadata": {},
   "outputs": [],
   "source": [
    "def get_alg(name, k, random_state, max_iter, extra_params={}):\n",
    "    if name == 'km':\n",
    "        return KMeans(n_clusters=k, random_state=random_state, max_iter=max_iter, **extra_params)\n",
    "    elif name == 'gm':\n",
    "        return GaussianMixture(n_components=k, random_state=random_state, max_iter=max_iter, **extra_params)\n",
    "    elif name == 'db':\n",
    "        return DBSCAN(eps=2.4, **extra_params)\n",
    "    else:\n",
    "        raise Exception('unknown alg')"
   ]
  },
  {
   "cell_type": "code",
   "execution_count": 3,
   "metadata": {},
   "outputs": [],
   "source": [
    "def norm_X(df):\n",
    "    real_X = df.iloc[:, 4:].as_matrix().astype(float)\n",
    "    \n",
    "    for i in xrange(real_X.shape[1]):\n",
    "        col = real_X[:,i]\n",
    "        col_std = np.std(col)\n",
    "        col_mean = np.mean(col)\n",
    "        real_X[:,i] = (col - col_mean) / col_std\n",
    "        \n",
    "    return real_X\n",
    "\n",
    "def tfidf_X(df):\n",
    "    real_X = df.iloc[:, 4:].as_matrix()\n",
    "    trf = TfidfTransformer()\n",
    "    real_X = trf.fit_transform(real_X).toarray()\n",
    "\n",
    "    return real_X\n",
    "\n",
    "def norm_tfidf_X(df):\n",
    "    real_X = df.iloc[:, 4:].as_matrix()\n",
    "    trf = TfidfTransformer()\n",
    "    real_X = trf.fit_transform(real_X).toarray()\n",
    "\n",
    "    for i in xrange(real_X.shape[1]):\n",
    "        col = real_X[:,i]\n",
    "        col_std = np.std(col)\n",
    "        col_mean = np.mean(col)\n",
    "        real_X[:,i] = (col - col_mean) / col_std\n",
    "\n",
    "    return real_X"
   ]
  },
  {
   "cell_type": "code",
   "execution_count": 4,
   "metadata": {},
   "outputs": [],
   "source": [
    "def cls_explore(df, y):\n",
    "    df_clusters = df.copy()\n",
    "    df_clusters['cluster'] = y\n",
    "    interests = df_clusters.columns[4:-1]\n",
    "    aggs = {key : np.sum for key in interests}\n",
    "    aggs['cluster'] = {'size': len}\n",
    "\n",
    "    res = df_clusters.groupby('cluster').agg(aggs)\n",
    "    res.columns = res.columns.get_level_values(0)\n",
    "\n",
    "    for interest in interests:\n",
    "    #     res[interest] = res[interest] / res['cluster'] * 100000\n",
    "    #     col_std = np.std(res[interest])\n",
    "    #     col_mean = np.mean(res[interest])\n",
    "    #     res[interest] = (res[interest] - col_mean) / col_std\n",
    "\n",
    "        res[interest] = res[interest] / np.sum(res[interest]) / res['cluster'] * 100000\n",
    "    #     res[interest] = res[interest] / np.sum(res[interest])\n",
    "\n",
    "    from IPython import display\n",
    "    with pd.option_context('display.max_rows', None, 'display.max_columns', None):\n",
    "        display.display(res)\n",
    "\n",
    "    for i, row in enumerate(res.as_matrix().argsort(axis=1)):\n",
    "        top_inds = row[::-1][1:6]\n",
    "        print('Кластер {} : {}'.format(i, ' '.join(res.columns[top_inds])))"
   ]
  },
  {
   "cell_type": "code",
   "execution_count": 5,
   "metadata": {},
   "outputs": [],
   "source": [
    "def k_plot(X, alg_name, quality, k_start, k_end, random_state, max_iter):\n",
    "    ks = xrange(k_start, k_end + 1)\n",
    "    criteria = np.empty(len(ks))\n",
    "\n",
    "    for i, k in enumerate(ks):\n",
    "        x = X[:]\n",
    "        cls = get_alg(alg_name, k=k, random_state=random_state, max_iter=max_iter)\n",
    "        yl = cls.fit(x).predict(x)\n",
    "        x, yl = shuffle(x, yl, random_state=RAND_INIT)\n",
    "        criteria[i] = quality(x[:10000], yl[:10000])\n",
    "\n",
    "    plt.figure(figsize=(8, 6))\n",
    "    plt.plot(ks, criteria)\n",
    "    plt.title(\"$J(k)$\")\n",
    "    plt.ylabel(\"Criteria $J$\")\n",
    "    plt.xlabel(\"Number of clusters $k$\")\n",
    "    plt.grid()\n",
    "    plt.show()"
   ]
  },
  {
   "cell_type": "code",
   "execution_count": 6,
   "metadata": {},
   "outputs": [],
   "source": [
    "def quality(x, y):\n",
    "    x, y = shuffle(x, y, random_state=RAND_INIT)\n",
    "    return silhouette_score(x[:10000], y[:10000])"
   ]
  },
  {
   "cell_type": "code",
   "execution_count": null,
   "metadata": {},
   "outputs": [],
   "source": []
  },
  {
   "cell_type": "code",
   "execution_count": null,
   "metadata": {},
   "outputs": [],
   "source": []
  },
  {
   "cell_type": "code",
   "execution_count": null,
   "metadata": {},
   "outputs": [],
   "source": []
  },
  {
   "cell_type": "code",
   "execution_count": 7,
   "metadata": {},
   "outputs": [],
   "source": [
    "df_sns = pd.read_csv('snsdata.csv', sep=',')\n",
    "df_sns = df_sns.drop(df_sns.index[24337])\n",
    "df_sns = df_sns.drop(df_sns.index[14187])\n",
    "df_sns = df_sns.drop(df_sns.index[13224])\n",
    "df_sns = df_sns.drop(df_sns.index[11195])\n",
    "df_sns = df_sns.drop(df_sns.index[4950])\n",
    "df_sns = df_sns.drop(df_sns.index[4129])\n",
    "df_sns = df_sns.drop(df_sns.index[1777])\n",
    "df_sns = df_sns.drop(df_sns.index[1169])"
   ]
  },
  {
   "cell_type": "code",
   "execution_count": 9,
   "metadata": {},
   "outputs": [],
   "source": [
    "X = norm_X(df_sns)"
   ]
  },
  {
   "cell_type": "code",
   "execution_count": 10,
   "metadata": {},
   "outputs": [],
   "source": [
    "from sklearn.model_selection import train_test_split\n",
    "X, X_test = train_test_split(\n",
    "    X, test_size=0.25, random_state=RAND_INIT)"
   ]
  },
  {
   "cell_type": "code",
   "execution_count": 10,
   "metadata": {},
   "outputs": [
    {
     "data": {
      "text/html": [
       "<div>\n",
       "<style scoped>\n",
       "    .dataframe tbody tr th:only-of-type {\n",
       "        vertical-align: middle;\n",
       "    }\n",
       "\n",
       "    .dataframe tbody tr th {\n",
       "        vertical-align: top;\n",
       "    }\n",
       "\n",
       "    .dataframe thead th {\n",
       "        text-align: right;\n",
       "    }\n",
       "</style>\n",
       "<table border=\"1\" class=\"dataframe\">\n",
       "  <thead>\n",
       "    <tr style=\"text-align: right;\">\n",
       "      <th></th>\n",
       "      <th>14187</th>\n",
       "    </tr>\n",
       "  </thead>\n",
       "  <tbody>\n",
       "    <tr>\n",
       "      <th>gradyear</th>\n",
       "      <td>2007</td>\n",
       "    </tr>\n",
       "    <tr>\n",
       "      <th>gender</th>\n",
       "      <td>F</td>\n",
       "    </tr>\n",
       "    <tr>\n",
       "      <th>age</th>\n",
       "      <td>18.119</td>\n",
       "    </tr>\n",
       "    <tr>\n",
       "      <th>friends</th>\n",
       "      <td>44</td>\n",
       "    </tr>\n",
       "    <tr>\n",
       "      <th>basketball</th>\n",
       "      <td>0</td>\n",
       "    </tr>\n",
       "    <tr>\n",
       "      <th>football</th>\n",
       "      <td>2</td>\n",
       "    </tr>\n",
       "    <tr>\n",
       "      <th>soccer</th>\n",
       "      <td>0</td>\n",
       "    </tr>\n",
       "    <tr>\n",
       "      <th>softball</th>\n",
       "      <td>0</td>\n",
       "    </tr>\n",
       "    <tr>\n",
       "      <th>volleyball</th>\n",
       "      <td>0</td>\n",
       "    </tr>\n",
       "    <tr>\n",
       "      <th>swimming</th>\n",
       "      <td>1</td>\n",
       "    </tr>\n",
       "    <tr>\n",
       "      <th>cheerleading</th>\n",
       "      <td>0</td>\n",
       "    </tr>\n",
       "    <tr>\n",
       "      <th>baseball</th>\n",
       "      <td>0</td>\n",
       "    </tr>\n",
       "    <tr>\n",
       "      <th>tennis</th>\n",
       "      <td>0</td>\n",
       "    </tr>\n",
       "    <tr>\n",
       "      <th>sports</th>\n",
       "      <td>0</td>\n",
       "    </tr>\n",
       "    <tr>\n",
       "      <th>cute</th>\n",
       "      <td>1</td>\n",
       "    </tr>\n",
       "    <tr>\n",
       "      <th>sex</th>\n",
       "      <td>22</td>\n",
       "    </tr>\n",
       "    <tr>\n",
       "      <th>sexy</th>\n",
       "      <td>1</td>\n",
       "    </tr>\n",
       "    <tr>\n",
       "      <th>hot</th>\n",
       "      <td>0</td>\n",
       "    </tr>\n",
       "    <tr>\n",
       "      <th>kissed</th>\n",
       "      <td>0</td>\n",
       "    </tr>\n",
       "    <tr>\n",
       "      <th>dance</th>\n",
       "      <td>1</td>\n",
       "    </tr>\n",
       "    <tr>\n",
       "      <th>band</th>\n",
       "      <td>1</td>\n",
       "    </tr>\n",
       "    <tr>\n",
       "      <th>marching</th>\n",
       "      <td>0</td>\n",
       "    </tr>\n",
       "    <tr>\n",
       "      <th>music</th>\n",
       "      <td>0</td>\n",
       "    </tr>\n",
       "    <tr>\n",
       "      <th>rock</th>\n",
       "      <td>1</td>\n",
       "    </tr>\n",
       "    <tr>\n",
       "      <th>god</th>\n",
       "      <td>10</td>\n",
       "    </tr>\n",
       "    <tr>\n",
       "      <th>church</th>\n",
       "      <td>0</td>\n",
       "    </tr>\n",
       "    <tr>\n",
       "      <th>jesus</th>\n",
       "      <td>1</td>\n",
       "    </tr>\n",
       "    <tr>\n",
       "      <th>bible</th>\n",
       "      <td>0</td>\n",
       "    </tr>\n",
       "    <tr>\n",
       "      <th>hair</th>\n",
       "      <td>12</td>\n",
       "    </tr>\n",
       "    <tr>\n",
       "      <th>dress</th>\n",
       "      <td>2</td>\n",
       "    </tr>\n",
       "    <tr>\n",
       "      <th>blonde</th>\n",
       "      <td>327</td>\n",
       "    </tr>\n",
       "    <tr>\n",
       "      <th>mall</th>\n",
       "      <td>0</td>\n",
       "    </tr>\n",
       "    <tr>\n",
       "      <th>shopping</th>\n",
       "      <td>0</td>\n",
       "    </tr>\n",
       "    <tr>\n",
       "      <th>clothes</th>\n",
       "      <td>1</td>\n",
       "    </tr>\n",
       "    <tr>\n",
       "      <th>hollister</th>\n",
       "      <td>0</td>\n",
       "    </tr>\n",
       "    <tr>\n",
       "      <th>abercrombie</th>\n",
       "      <td>0</td>\n",
       "    </tr>\n",
       "    <tr>\n",
       "      <th>die</th>\n",
       "      <td>6</td>\n",
       "    </tr>\n",
       "    <tr>\n",
       "      <th>death</th>\n",
       "      <td>6</td>\n",
       "    </tr>\n",
       "    <tr>\n",
       "      <th>drunk</th>\n",
       "      <td>6</td>\n",
       "    </tr>\n",
       "    <tr>\n",
       "      <th>drugs</th>\n",
       "      <td>0</td>\n",
       "    </tr>\n",
       "  </tbody>\n",
       "</table>\n",
       "</div>"
      ],
      "text/plain": [
       "               14187\n",
       "gradyear        2007\n",
       "gender             F\n",
       "age           18.119\n",
       "friends           44\n",
       "basketball         0\n",
       "football           2\n",
       "soccer             0\n",
       "softball           0\n",
       "volleyball         0\n",
       "swimming           1\n",
       "cheerleading       0\n",
       "baseball           0\n",
       "tennis             0\n",
       "sports             0\n",
       "cute               1\n",
       "sex               22\n",
       "sexy               1\n",
       "hot                0\n",
       "kissed             0\n",
       "dance              1\n",
       "band               1\n",
       "marching           0\n",
       "music              0\n",
       "rock               1\n",
       "god               10\n",
       "church             0\n",
       "jesus              1\n",
       "bible              0\n",
       "hair              12\n",
       "dress              2\n",
       "blonde           327\n",
       "mall               0\n",
       "shopping           0\n",
       "clothes            1\n",
       "hollister          0\n",
       "abercrombie        0\n",
       "die                6\n",
       "death              6\n",
       "drunk              6\n",
       "drugs              0"
      ]
     },
     "execution_count": 10,
     "metadata": {},
     "output_type": "execute_result"
    }
   ],
   "source": [
    "df_sns[:10].T[22:]\n",
    "df_sns.head().T[18:25]"
   ]
  },
  {
   "cell_type": "code",
   "execution_count": 7,
   "metadata": {},
   "outputs": [],
   "source": []
  },
  {
   "cell_type": "code",
   "execution_count": 11,
   "metadata": {},
   "outputs": [
    {
     "name": "stdout",
     "output_type": "stream",
     "text": [
      "CPU times: user 5.62 s, sys: 62.5 ms, total: 5.68 s\n",
      "Wall time: 4.5 s\n"
     ]
    }
   ],
   "source": [
    "kmeans = get_alg('km', k=8,random_state=RAND_INIT, max_iter=300)\n",
    "%time kmeans.fit(X)\n",
    "y = kmeans.predict(X_test)"
   ]
  },
  {
   "cell_type": "code",
   "execution_count": 12,
   "metadata": {},
   "outputs": [
    {
     "name": "stdout",
     "output_type": "stream",
     "text": [
      "CPU times: user 3.27 s, sys: 792 ms, total: 4.06 s\n",
      "Wall time: 11.6 s\n"
     ]
    },
    {
     "data": {
      "text/plain": [
       "0.24365617419852562"
      ]
     },
     "execution_count": 12,
     "metadata": {},
     "output_type": "execute_result"
    }
   ],
   "source": [
    "%time quality(X_test, y)"
   ]
  },
  {
   "cell_type": "code",
   "execution_count": 17,
   "metadata": {},
   "outputs": [
    {
     "data": {
      "text/plain": [
       "(7498, 36)"
      ]
     },
     "execution_count": 17,
     "metadata": {},
     "output_type": "execute_result"
    }
   ],
   "source": [
    "X_test.shape"
   ]
  },
  {
   "cell_type": "code",
   "execution_count": 13,
   "metadata": {},
   "outputs": [
    {
     "name": "stdout",
     "output_type": "stream",
     "text": [
      "CPU times: user 13.8 s, sys: 211 ms, total: 14 s\n",
      "Wall time: 9.08 s\n"
     ]
    }
   ],
   "source": [
    "gm = get_alg('gm', k=8,random_state=RAND_INIT, max_iter=300)\n",
    "%time gm.fit(X)\n",
    "y = gm.predict(X_test)"
   ]
  },
  {
   "cell_type": "code",
   "execution_count": 14,
   "metadata": {},
   "outputs": [
    {
     "name": "stdout",
     "output_type": "stream",
     "text": [
      "CPU times: user 3.27 s, sys: 465 ms, total: 3.73 s\n",
      "Wall time: 3.42 s\n"
     ]
    },
    {
     "data": {
      "text/plain": [
       "0.12960739388307818"
      ]
     },
     "execution_count": 14,
     "metadata": {},
     "output_type": "execute_result"
    }
   ],
   "source": [
    "%time quality(X_test, y)"
   ]
  },
  {
   "cell_type": "code",
   "execution_count": 19,
   "metadata": {},
   "outputs": [
    {
     "name": "stdout",
     "output_type": "stream",
     "text": [
      "CPU times: user 15 s, sys: 86 ms, total: 15.1 s\n",
      "Wall time: 15.2 s\n"
     ]
    }
   ],
   "source": [
    "db = DBSCAN(eps=2.4)\n",
    "%time db.fit(X[:10000])\n",
    "y = db.labels_"
   ]
  },
  {
   "cell_type": "code",
   "execution_count": 56,
   "metadata": {
    "scrolled": true
   },
   "outputs": [
    {
     "data": {
      "text/html": [
       "<div>\n",
       "<style scoped>\n",
       "    .dataframe tbody tr th:only-of-type {\n",
       "        vertical-align: middle;\n",
       "    }\n",
       "\n",
       "    .dataframe tbody tr th {\n",
       "        vertical-align: top;\n",
       "    }\n",
       "\n",
       "    .dataframe thead th {\n",
       "        text-align: right;\n",
       "    }\n",
       "</style>\n",
       "<table border=\"1\" class=\"dataframe\">\n",
       "  <thead>\n",
       "    <tr style=\"text-align: right;\">\n",
       "      <th></th>\n",
       "      <th>cluster</th>\n",
       "      <th>size</th>\n",
       "    </tr>\n",
       "  </thead>\n",
       "  <tbody>\n",
       "    <tr>\n",
       "      <th>0</th>\n",
       "      <td>1</td>\n",
       "      <td>16195</td>\n",
       "    </tr>\n",
       "    <tr>\n",
       "      <th>1</th>\n",
       "      <td>6</td>\n",
       "      <td>4450</td>\n",
       "    </tr>\n",
       "    <tr>\n",
       "      <th>2</th>\n",
       "      <td>4</td>\n",
       "      <td>4088</td>\n",
       "    </tr>\n",
       "    <tr>\n",
       "      <th>3</th>\n",
       "      <td>2</td>\n",
       "      <td>2189</td>\n",
       "    </tr>\n",
       "    <tr>\n",
       "      <th>4</th>\n",
       "      <td>0</td>\n",
       "      <td>1223</td>\n",
       "    </tr>\n",
       "    <tr>\n",
       "      <th>5</th>\n",
       "      <td>5</td>\n",
       "      <td>1056</td>\n",
       "    </tr>\n",
       "    <tr>\n",
       "      <th>6</th>\n",
       "      <td>7</td>\n",
       "      <td>476</td>\n",
       "    </tr>\n",
       "    <tr>\n",
       "      <th>7</th>\n",
       "      <td>3</td>\n",
       "      <td>315</td>\n",
       "    </tr>\n",
       "  </tbody>\n",
       "</table>\n",
       "</div>"
      ],
      "text/plain": [
       "   cluster   size\n",
       "0        1  16195\n",
       "1        6   4450\n",
       "2        4   4088\n",
       "3        2   2189\n",
       "4        0   1223\n",
       "5        5   1056\n",
       "6        7    476\n",
       "7        3    315"
      ]
     },
     "execution_count": 56,
     "metadata": {},
     "output_type": "execute_result"
    }
   ],
   "source": [
    "represent = df_sns.iloc[:, :4]\n",
    "represent['cluster'] = y\n",
    "rg = represent.groupby('cluster').agg({'cluster':{'size': len}})\n",
    "rg.columns = rg.columns.get_level_values(1)\n",
    "rg.sort_values(by=['size'], ascending=False).reset_index()\n",
    "# rg.sort_values(by=['size'], ascending=False).reset_index().drop(columns='cluster')\n"
   ]
  },
  {
   "cell_type": "code",
   "execution_count": null,
   "metadata": {},
   "outputs": [],
   "source": []
  },
  {
   "cell_type": "code",
   "execution_count": 14,
   "metadata": {},
   "outputs": [],
   "source": []
  },
  {
   "cell_type": "code",
   "execution_count": 42,
   "metadata": {},
   "outputs": [],
   "source": []
  },
  {
   "cell_type": "code",
   "execution_count": null,
   "metadata": {},
   "outputs": [],
   "source": []
  },
  {
   "cell_type": "code",
   "execution_count": 57,
   "metadata": {},
   "outputs": [
    {
     "data": {
      "text/html": [
       "<div>\n",
       "<style scoped>\n",
       "    .dataframe tbody tr th:only-of-type {\n",
       "        vertical-align: middle;\n",
       "    }\n",
       "\n",
       "    .dataframe tbody tr th {\n",
       "        vertical-align: top;\n",
       "    }\n",
       "\n",
       "    .dataframe thead th {\n",
       "        text-align: right;\n",
       "    }\n",
       "</style>\n",
       "<table border=\"1\" class=\"dataframe\">\n",
       "  <thead>\n",
       "    <tr style=\"text-align: right;\">\n",
       "      <th></th>\n",
       "      <th>cute</th>\n",
       "      <th>drunk</th>\n",
       "      <th>dance</th>\n",
       "      <th>sex</th>\n",
       "      <th>hair</th>\n",
       "      <th>cluster</th>\n",
       "      <th>church</th>\n",
       "      <th>blonde</th>\n",
       "      <th>kissed</th>\n",
       "      <th>dress</th>\n",
       "      <th>marching</th>\n",
       "      <th>basketball</th>\n",
       "      <th>god</th>\n",
       "      <th>tennis</th>\n",
       "      <th>sports</th>\n",
       "      <th>hot</th>\n",
       "      <th>music</th>\n",
       "      <th>abercrombie</th>\n",
       "      <th>soccer</th>\n",
       "      <th>shopping</th>\n",
       "      <th>drugs</th>\n",
       "      <th>football</th>\n",
       "      <th>cheerleading</th>\n",
       "      <th>band</th>\n",
       "      <th>death</th>\n",
       "      <th>baseball</th>\n",
       "      <th>softball</th>\n",
       "      <th>sexy</th>\n",
       "      <th>jesus</th>\n",
       "      <th>bible</th>\n",
       "      <th>die</th>\n",
       "      <th>volleyball</th>\n",
       "      <th>mall</th>\n",
       "      <th>rock</th>\n",
       "      <th>hollister</th>\n",
       "      <th>clothes</th>\n",
       "      <th>swimming</th>\n",
       "    </tr>\n",
       "    <tr>\n",
       "      <th>cluster</th>\n",
       "      <th></th>\n",
       "      <th></th>\n",
       "      <th></th>\n",
       "      <th></th>\n",
       "      <th></th>\n",
       "      <th></th>\n",
       "      <th></th>\n",
       "      <th></th>\n",
       "      <th></th>\n",
       "      <th></th>\n",
       "      <th></th>\n",
       "      <th></th>\n",
       "      <th></th>\n",
       "      <th></th>\n",
       "      <th></th>\n",
       "      <th></th>\n",
       "      <th></th>\n",
       "      <th></th>\n",
       "      <th></th>\n",
       "      <th></th>\n",
       "      <th></th>\n",
       "      <th></th>\n",
       "      <th></th>\n",
       "      <th></th>\n",
       "      <th></th>\n",
       "      <th></th>\n",
       "      <th></th>\n",
       "      <th></th>\n",
       "      <th></th>\n",
       "      <th></th>\n",
       "      <th></th>\n",
       "      <th></th>\n",
       "      <th></th>\n",
       "      <th></th>\n",
       "      <th></th>\n",
       "      <th></th>\n",
       "      <th></th>\n",
       "    </tr>\n",
       "  </thead>\n",
       "  <tbody>\n",
       "    <tr>\n",
       "      <th>0</th>\n",
       "      <td>5.775901</td>\n",
       "      <td>20.837480</td>\n",
       "      <td>5.386946</td>\n",
       "      <td>18.253646</td>\n",
       "      <td>11.737170</td>\n",
       "      <td>1223</td>\n",
       "      <td>4.061196</td>\n",
       "      <td>12.229318</td>\n",
       "      <td>19.106957</td>\n",
       "      <td>6.832278</td>\n",
       "      <td>0.00000</td>\n",
       "      <td>8.044076</td>\n",
       "      <td>4.982421</td>\n",
       "      <td>15.578965</td>\n",
       "      <td>10.710022</td>\n",
       "      <td>7.341300</td>\n",
       "      <td>6.999422</td>\n",
       "      <td>0.000000</td>\n",
       "      <td>12.161537</td>\n",
       "      <td>4.842941</td>\n",
       "      <td>20.836161</td>\n",
       "      <td>6.677875</td>\n",
       "      <td>0.000000</td>\n",
       "      <td>5.308061</td>\n",
       "      <td>6.959330</td>\n",
       "      <td>10.129860</td>\n",
       "      <td>13.576968</td>\n",
       "      <td>8.900636</td>\n",
       "      <td>3.878430</td>\n",
       "      <td>0.00000</td>\n",
       "      <td>9.249833</td>\n",
       "      <td>10.263613</td>\n",
       "      <td>6.269338</td>\n",
       "      <td>10.761654</td>\n",
       "      <td>0.000000</td>\n",
       "      <td>8.268487</td>\n",
       "      <td>10.489603</td>\n",
       "    </tr>\n",
       "    <tr>\n",
       "      <th>1</th>\n",
       "      <td>2.104375</td>\n",
       "      <td>0.000000</td>\n",
       "      <td>2.042751</td>\n",
       "      <td>0.718582</td>\n",
       "      <td>1.334170</td>\n",
       "      <td>16195</td>\n",
       "      <td>1.903650</td>\n",
       "      <td>0.000000</td>\n",
       "      <td>0.000000</td>\n",
       "      <td>0.000000</td>\n",
       "      <td>0.00000</td>\n",
       "      <td>2.004867</td>\n",
       "      <td>2.101594</td>\n",
       "      <td>0.000000</td>\n",
       "      <td>1.971977</td>\n",
       "      <td>1.591647</td>\n",
       "      <td>2.584400</td>\n",
       "      <td>0.000000</td>\n",
       "      <td>1.830341</td>\n",
       "      <td>2.273678</td>\n",
       "      <td>0.000000</td>\n",
       "      <td>2.080825</td>\n",
       "      <td>0.772084</td>\n",
       "      <td>1.613091</td>\n",
       "      <td>1.939654</td>\n",
       "      <td>0.000000</td>\n",
       "      <td>0.734177</td>\n",
       "      <td>1.877939</td>\n",
       "      <td>1.837038</td>\n",
       "      <td>0.00000</td>\n",
       "      <td>1.950037</td>\n",
       "      <td>0.910250</td>\n",
       "      <td>2.026526</td>\n",
       "      <td>2.146008</td>\n",
       "      <td>0.000000</td>\n",
       "      <td>1.644286</td>\n",
       "      <td>1.867746</td>\n",
       "    </tr>\n",
       "    <tr>\n",
       "      <th>2</th>\n",
       "      <td>3.552543</td>\n",
       "      <td>0.000000</td>\n",
       "      <td>3.711964</td>\n",
       "      <td>2.448505</td>\n",
       "      <td>3.002704</td>\n",
       "      <td>2189</td>\n",
       "      <td>4.834765</td>\n",
       "      <td>2.733021</td>\n",
       "      <td>3.263069</td>\n",
       "      <td>4.874497</td>\n",
       "      <td>36.74907</td>\n",
       "      <td>5.639168</td>\n",
       "      <td>4.545815</td>\n",
       "      <td>0.000000</td>\n",
       "      <td>5.189515</td>\n",
       "      <td>3.259632</td>\n",
       "      <td>3.983052</td>\n",
       "      <td>0.000000</td>\n",
       "      <td>2.788964</td>\n",
       "      <td>3.681047</td>\n",
       "      <td>0.000000</td>\n",
       "      <td>4.962521</td>\n",
       "      <td>8.696756</td>\n",
       "      <td>15.954975</td>\n",
       "      <td>3.286928</td>\n",
       "      <td>8.939232</td>\n",
       "      <td>25.401464</td>\n",
       "      <td>2.642816</td>\n",
       "      <td>9.051562</td>\n",
       "      <td>0.00000</td>\n",
       "      <td>2.451442</td>\n",
       "      <td>8.883389</td>\n",
       "      <td>3.153609</td>\n",
       "      <td>3.469750</td>\n",
       "      <td>0.000000</td>\n",
       "      <td>3.202940</td>\n",
       "      <td>3.389381</td>\n",
       "    </tr>\n",
       "    <tr>\n",
       "      <th>3</th>\n",
       "      <td>12.687921</td>\n",
       "      <td>20.979147</td>\n",
       "      <td>14.640523</td>\n",
       "      <td>32.625409</td>\n",
       "      <td>21.568642</td>\n",
       "      <td>315</td>\n",
       "      <td>10.483194</td>\n",
       "      <td>31.974420</td>\n",
       "      <td>35.603985</td>\n",
       "      <td>16.602974</td>\n",
       "      <td>29.73745</td>\n",
       "      <td>12.627162</td>\n",
       "      <td>10.062789</td>\n",
       "      <td>19.394292</td>\n",
       "      <td>16.028004</td>\n",
       "      <td>10.281100</td>\n",
       "      <td>10.588245</td>\n",
       "      <td>24.404116</td>\n",
       "      <td>7.315411</td>\n",
       "      <td>8.216902</td>\n",
       "      <td>38.347385</td>\n",
       "      <td>9.733156</td>\n",
       "      <td>15.679503</td>\n",
       "      <td>19.825698</td>\n",
       "      <td>17.734695</td>\n",
       "      <td>14.420847</td>\n",
       "      <td>11.422269</td>\n",
       "      <td>14.992223</td>\n",
       "      <td>8.768042</td>\n",
       "      <td>65.61183</td>\n",
       "      <td>23.826790</td>\n",
       "      <td>11.237533</td>\n",
       "      <td>8.840043</td>\n",
       "      <td>17.539965</td>\n",
       "      <td>21.204411</td>\n",
       "      <td>16.408061</td>\n",
       "      <td>10.555752</td>\n",
       "    </tr>\n",
       "    <tr>\n",
       "      <th>4</th>\n",
       "      <td>3.756558</td>\n",
       "      <td>0.000000</td>\n",
       "      <td>3.967614</td>\n",
       "      <td>0.000000</td>\n",
       "      <td>2.933566</td>\n",
       "      <td>4088</td>\n",
       "      <td>5.575008</td>\n",
       "      <td>6.428064</td>\n",
       "      <td>0.000000</td>\n",
       "      <td>4.860017</td>\n",
       "      <td>0.00000</td>\n",
       "      <td>6.060558</td>\n",
       "      <td>3.200681</td>\n",
       "      <td>16.009008</td>\n",
       "      <td>5.604260</td>\n",
       "      <td>4.766130</td>\n",
       "      <td>3.250198</td>\n",
       "      <td>11.601446</td>\n",
       "      <td>8.704213</td>\n",
       "      <td>4.940432</td>\n",
       "      <td>0.000000</td>\n",
       "      <td>6.145362</td>\n",
       "      <td>0.000000</td>\n",
       "      <td>1.697710</td>\n",
       "      <td>2.647230</td>\n",
       "      <td>13.217786</td>\n",
       "      <td>0.000000</td>\n",
       "      <td>2.801415</td>\n",
       "      <td>3.326693</td>\n",
       "      <td>0.00000</td>\n",
       "      <td>2.190745</td>\n",
       "      <td>9.889556</td>\n",
       "      <td>4.349968</td>\n",
       "      <td>2.877469</td>\n",
       "      <td>11.892469</td>\n",
       "      <td>3.787462</td>\n",
       "      <td>6.428062</td>\n",
       "    </tr>\n",
       "    <tr>\n",
       "      <th>5</th>\n",
       "      <td>7.060953</td>\n",
       "      <td>9.135218</td>\n",
       "      <td>5.340166</td>\n",
       "      <td>10.942692</td>\n",
       "      <td>9.605855</td>\n",
       "      <td>1056</td>\n",
       "      <td>4.459947</td>\n",
       "      <td>16.493982</td>\n",
       "      <td>13.681172</td>\n",
       "      <td>5.692634</td>\n",
       "      <td>0.00000</td>\n",
       "      <td>6.293452</td>\n",
       "      <td>3.796651</td>\n",
       "      <td>6.291437</td>\n",
       "      <td>6.472501</td>\n",
       "      <td>8.028548</td>\n",
       "      <td>4.922165</td>\n",
       "      <td>42.320600</td>\n",
       "      <td>7.042405</td>\n",
       "      <td>8.283525</td>\n",
       "      <td>12.326798</td>\n",
       "      <td>6.807870</td>\n",
       "      <td>23.740847</td>\n",
       "      <td>2.558804</td>\n",
       "      <td>5.622546</td>\n",
       "      <td>7.821224</td>\n",
       "      <td>10.691593</td>\n",
       "      <td>5.612500</td>\n",
       "      <td>3.297763</td>\n",
       "      <td>0.00000</td>\n",
       "      <td>5.115971</td>\n",
       "      <td>7.961250</td>\n",
       "      <td>8.916552</td>\n",
       "      <td>7.023726</td>\n",
       "      <td>42.243162</td>\n",
       "      <td>9.746340</td>\n",
       "      <td>7.049402</td>\n",
       "    </tr>\n",
       "    <tr>\n",
       "      <th>6</th>\n",
       "      <td>5.154406</td>\n",
       "      <td>12.426548</td>\n",
       "      <td>5.513109</td>\n",
       "      <td>8.379544</td>\n",
       "      <td>6.092874</td>\n",
       "      <td>4450</td>\n",
       "      <td>3.454878</td>\n",
       "      <td>5.454182</td>\n",
       "      <td>9.609029</td>\n",
       "      <td>10.847577</td>\n",
       "      <td>0.00000</td>\n",
       "      <td>1.790468</td>\n",
       "      <td>4.511295</td>\n",
       "      <td>0.000000</td>\n",
       "      <td>1.675091</td>\n",
       "      <td>5.828023</td>\n",
       "      <td>3.803534</td>\n",
       "      <td>0.000000</td>\n",
       "      <td>0.521195</td>\n",
       "      <td>3.683050</td>\n",
       "      <td>10.461275</td>\n",
       "      <td>2.346083</td>\n",
       "      <td>8.563069</td>\n",
       "      <td>2.635454</td>\n",
       "      <td>6.244023</td>\n",
       "      <td>0.000000</td>\n",
       "      <td>0.000000</td>\n",
       "      <td>6.669939</td>\n",
       "      <td>1.936187</td>\n",
       "      <td>0.00000</td>\n",
       "      <td>6.253514</td>\n",
       "      <td>0.000000</td>\n",
       "      <td>4.860522</td>\n",
       "      <td>4.005139</td>\n",
       "      <td>0.000000</td>\n",
       "      <td>5.383159</td>\n",
       "      <td>2.252767</td>\n",
       "    </tr>\n",
       "    <tr>\n",
       "      <th>7</th>\n",
       "      <td>2.798806</td>\n",
       "      <td>6.223530</td>\n",
       "      <td>2.521008</td>\n",
       "      <td>3.271264</td>\n",
       "      <td>2.987449</td>\n",
       "      <td>476</td>\n",
       "      <td>15.637599</td>\n",
       "      <td>2.147773</td>\n",
       "      <td>2.240715</td>\n",
       "      <td>3.346695</td>\n",
       "      <td>21.40544</td>\n",
       "      <td>4.165008</td>\n",
       "      <td>20.129632</td>\n",
       "      <td>5.775506</td>\n",
       "      <td>2.851819</td>\n",
       "      <td>2.046632</td>\n",
       "      <td>4.455491</td>\n",
       "      <td>0.410588</td>\n",
       "      <td>3.646528</td>\n",
       "      <td>2.679137</td>\n",
       "      <td>6.025576</td>\n",
       "      <td>3.053951</td>\n",
       "      <td>0.722390</td>\n",
       "      <td>10.175614</td>\n",
       "      <td>5.775928</td>\n",
       "      <td>2.535957</td>\n",
       "      <td>2.128643</td>\n",
       "      <td>2.381118</td>\n",
       "      <td>36.201812</td>\n",
       "      <td>166.66444</td>\n",
       "      <td>4.303752</td>\n",
       "      <td>1.859151</td>\n",
       "      <td>2.095126</td>\n",
       "      <td>4.118730</td>\n",
       "      <td>0.200462</td>\n",
       "      <td>2.832594</td>\n",
       "      <td>5.108743</td>\n",
       "    </tr>\n",
       "  </tbody>\n",
       "</table>\n",
       "</div>"
      ],
      "text/plain": [
       "              cute      drunk      dance        sex       hair  cluster  \\\n",
       "cluster                                                                   \n",
       "0         5.775901  20.837480   5.386946  18.253646  11.737170     1223   \n",
       "1         2.104375   0.000000   2.042751   0.718582   1.334170    16195   \n",
       "2         3.552543   0.000000   3.711964   2.448505   3.002704     2189   \n",
       "3        12.687921  20.979147  14.640523  32.625409  21.568642      315   \n",
       "4         3.756558   0.000000   3.967614   0.000000   2.933566     4088   \n",
       "5         7.060953   9.135218   5.340166  10.942692   9.605855     1056   \n",
       "6         5.154406  12.426548   5.513109   8.379544   6.092874     4450   \n",
       "7         2.798806   6.223530   2.521008   3.271264   2.987449      476   \n",
       "\n",
       "            church     blonde     kissed      dress  marching  basketball  \\\n",
       "cluster                                                                     \n",
       "0         4.061196  12.229318  19.106957   6.832278   0.00000    8.044076   \n",
       "1         1.903650   0.000000   0.000000   0.000000   0.00000    2.004867   \n",
       "2         4.834765   2.733021   3.263069   4.874497  36.74907    5.639168   \n",
       "3        10.483194  31.974420  35.603985  16.602974  29.73745   12.627162   \n",
       "4         5.575008   6.428064   0.000000   4.860017   0.00000    6.060558   \n",
       "5         4.459947  16.493982  13.681172   5.692634   0.00000    6.293452   \n",
       "6         3.454878   5.454182   9.609029  10.847577   0.00000    1.790468   \n",
       "7        15.637599   2.147773   2.240715   3.346695  21.40544    4.165008   \n",
       "\n",
       "               god     tennis     sports        hot      music  abercrombie  \\\n",
       "cluster                                                                       \n",
       "0         4.982421  15.578965  10.710022   7.341300   6.999422     0.000000   \n",
       "1         2.101594   0.000000   1.971977   1.591647   2.584400     0.000000   \n",
       "2         4.545815   0.000000   5.189515   3.259632   3.983052     0.000000   \n",
       "3        10.062789  19.394292  16.028004  10.281100  10.588245    24.404116   \n",
       "4         3.200681  16.009008   5.604260   4.766130   3.250198    11.601446   \n",
       "5         3.796651   6.291437   6.472501   8.028548   4.922165    42.320600   \n",
       "6         4.511295   0.000000   1.675091   5.828023   3.803534     0.000000   \n",
       "7        20.129632   5.775506   2.851819   2.046632   4.455491     0.410588   \n",
       "\n",
       "            soccer  shopping      drugs  football  cheerleading       band  \\\n",
       "cluster                                                                      \n",
       "0        12.161537  4.842941  20.836161  6.677875      0.000000   5.308061   \n",
       "1         1.830341  2.273678   0.000000  2.080825      0.772084   1.613091   \n",
       "2         2.788964  3.681047   0.000000  4.962521      8.696756  15.954975   \n",
       "3         7.315411  8.216902  38.347385  9.733156     15.679503  19.825698   \n",
       "4         8.704213  4.940432   0.000000  6.145362      0.000000   1.697710   \n",
       "5         7.042405  8.283525  12.326798  6.807870     23.740847   2.558804   \n",
       "6         0.521195  3.683050  10.461275  2.346083      8.563069   2.635454   \n",
       "7         3.646528  2.679137   6.025576  3.053951      0.722390  10.175614   \n",
       "\n",
       "             death   baseball   softball       sexy      jesus      bible  \\\n",
       "cluster                                                                     \n",
       "0         6.959330  10.129860  13.576968   8.900636   3.878430    0.00000   \n",
       "1         1.939654   0.000000   0.734177   1.877939   1.837038    0.00000   \n",
       "2         3.286928   8.939232  25.401464   2.642816   9.051562    0.00000   \n",
       "3        17.734695  14.420847  11.422269  14.992223   8.768042   65.61183   \n",
       "4         2.647230  13.217786   0.000000   2.801415   3.326693    0.00000   \n",
       "5         5.622546   7.821224  10.691593   5.612500   3.297763    0.00000   \n",
       "6         6.244023   0.000000   0.000000   6.669939   1.936187    0.00000   \n",
       "7         5.775928   2.535957   2.128643   2.381118  36.201812  166.66444   \n",
       "\n",
       "               die  volleyball      mall       rock  hollister    clothes  \\\n",
       "cluster                                                                     \n",
       "0         9.249833   10.263613  6.269338  10.761654   0.000000   8.268487   \n",
       "1         1.950037    0.910250  2.026526   2.146008   0.000000   1.644286   \n",
       "2         2.451442    8.883389  3.153609   3.469750   0.000000   3.202940   \n",
       "3        23.826790   11.237533  8.840043  17.539965  21.204411  16.408061   \n",
       "4         2.190745    9.889556  4.349968   2.877469  11.892469   3.787462   \n",
       "5         5.115971    7.961250  8.916552   7.023726  42.243162   9.746340   \n",
       "6         6.253514    0.000000  4.860522   4.005139   0.000000   5.383159   \n",
       "7         4.303752    1.859151  2.095126   4.118730   0.200462   2.832594   \n",
       "\n",
       "          swimming  \n",
       "cluster             \n",
       "0        10.489603  \n",
       "1         1.867746  \n",
       "2         3.389381  \n",
       "3        10.555752  \n",
       "4         6.428062  \n",
       "5         7.049402  \n",
       "6         2.252767  \n",
       "7         5.108743  "
      ]
     },
     "metadata": {},
     "output_type": "display_data"
    },
    {
     "name": "stdout",
     "output_type": "stream",
     "text": [
      "Кластер 0 : drunk drugs kissed sex tennis\n",
      "Кластер 1 : music shopping rock cute god\n",
      "Кластер 2 : marching softball band jesus baseball\n",
      "Кластер 3 : bible drugs kissed sex blonde\n",
      "Кластер 4 : tennis baseball hollister abercrombie volleyball\n",
      "Кластер 5 : abercrombie hollister cheerleading blonde kissed\n",
      "Кластер 6 : drunk dress drugs kissed cheerleading\n",
      "Кластер 7 : bible jesus marching god church\n"
     ]
    }
   ],
   "source": [
    "# km\n",
    "cls_explore(df_sns,y)"
   ]
  },
  {
   "cell_type": "code",
   "execution_count": 15,
   "metadata": {},
   "outputs": [],
   "source": []
  },
  {
   "cell_type": "code",
   "execution_count": 9,
   "metadata": {},
   "outputs": [
    {
     "name": "stdout",
     "output_type": "stream",
     "text": [
      "CPU times: user 5.54 s, sys: 3.43 s, total: 8.97 s\n",
      "Wall time: 1min 24s\n"
     ]
    },
    {
     "data": {
      "text/plain": [
       "0.28861422570206391"
      ]
     },
     "execution_count": 9,
     "metadata": {},
     "output_type": "execute_result"
    }
   ],
   "source": [
    "%time silhouette_score(X[:10000], y[:10000])"
   ]
  },
  {
   "cell_type": "code",
   "execution_count": 27,
   "metadata": {},
   "outputs": [
    {
     "data": {
      "image/png": "[encoded data removed]",
      "text/plain": [
       "<matplotlib.figure.Figure at 0x7f9b72300350>"
      ]
     },
     "metadata": {},
     "output_type": "display_data"
    },
    {
     "name": "stdout",
     "output_type": "stream",
     "text": [
      "CPU times: user 3min 19s, sys: 14.6 s, total: 3min 34s\n",
      "Wall time: 3min 53s\n"
     ]
    }
   ],
   "source": [
    "%time k_plot(X=X, \\\n",
    "    alg_name='km', \\\n",
    "    quality=silhouette_score, \\\n",
    "    k_start=2, \\\n",
    "    k_end=16, \\\n",
    "    random_state=RAND_INIT, \\\n",
    "    max_iter=300 \\\n",
    ")"
   ]
  },
  {
   "cell_type": "code",
   "execution_count": 28,
   "metadata": {},
   "outputs": [
    {
     "data": {
      "image/png": "[encoded data removed]",
      "text/plain": [
       "<matplotlib.figure.Figure at 0x7f9b72d46d10>"
      ]
     },
     "metadata": {},
     "output_type": "display_data"
    },
    {
     "name": "stdout",
     "output_type": "stream",
     "text": [
      "CPU times: user 8min 50s, sys: 17.6 s, total: 9min 7s\n",
      "Wall time: 8min 54s\n"
     ]
    }
   ],
   "source": [
    "%time k_plot(X=X, \\\n",
    "    alg_name='gm', \\\n",
    "    quality=silhouette_score, \\\n",
    "    k_start=2, \\\n",
    "    k_end=16, \\\n",
    "    random_state=RAND_INIT, \\\n",
    "    max_iter=300 \\\n",
    ")"
   ]
  },
  {
   "cell_type": "code",
   "execution_count": 21,
   "metadata": {},
   "outputs": [
    {
     "name": "stdout",
     "output_type": "stream",
     "text": [
      "CPU times: user 5.56 s, sys: 1.01 s, total: 6.57 s\n",
      "Wall time: 5.7 s\n"
     ]
    },
    {
     "data": {
      "text/plain": [
       "0.017228049478748612"
      ]
     },
     "execution_count": 21,
     "metadata": {},
     "output_type": "execute_result"
    }
   ],
   "source": [
    "# db\n",
    "# 0.45324793458963125\n",
    "# 0.017228049478748612\n",
    "%time quality(X[:10000], y[:10000])"
   ]
  },
  {
   "cell_type": "code",
   "execution_count": 58,
   "metadata": {},
   "outputs": [
    {
     "name": "stdout",
     "output_type": "stream",
     "text": [
      "CPU times: user 5.9 s, sys: 2.13 s, total: 8.03 s\n",
      "Wall time: 2min 58s\n"
     ]
    },
    {
     "data": {
      "text/plain": [
       "0.14139469217332198"
      ]
     },
     "execution_count": 58,
     "metadata": {},
     "output_type": "execute_result"
    }
   ],
   "source": [
    "# gm\n",
    "# 0.10211761067446326\n",
    "# 0.13033928925836913\n",
    "%time quality(X, y)"
   ]
  },
  {
   "cell_type": "code",
   "execution_count": 34,
   "metadata": {
    "scrolled": true
   },
   "outputs": [
    {
     "name": "stdout",
     "output_type": "stream",
     "text": [
      "CPU times: user 6.29 s, sys: 2.08 s, total: 8.36 s\n",
      "Wall time: 1min 6s\n"
     ]
    },
    {
     "data": {
      "text/plain": [
       "0.2886142256155253"
      ]
     },
     "execution_count": 34,
     "metadata": {},
     "output_type": "execute_result"
    }
   ],
   "source": [
    "# kmeans normilized\n",
    "# 0.19731772479319534\n",
    "# 0.23474696836911094\n",
    "%time quality(X[:10000], y[:10000])"
   ]
  },
  {
   "cell_type": "code",
   "execution_count": 52,
   "metadata": {},
   "outputs": [
    {
     "name": "stdout",
     "output_type": "stream",
     "text": [
      "CPU times: user 6.27 s, sys: 919 ms, total: 7.19 s\n",
      "Wall time: 11.4 s\n"
     ]
    },
    {
     "data": {
      "text/plain": [
       "0.027161106877676245"
      ]
     },
     "execution_count": 52,
     "metadata": {},
     "output_type": "execute_result"
    }
   ],
   "source": [
    "# tf.idf\n",
    "%time quality(X, y)"
   ]
  },
  {
   "cell_type": "code",
   "execution_count": 81,
   "metadata": {},
   "outputs": [
    {
     "name": "stdout",
     "output_type": "stream",
     "text": [
      "CPU times: user 7.17 s, sys: 888 ms, total: 8.06 s\n",
      "Wall time: 8.11 s\n"
     ]
    },
    {
     "data": {
      "text/plain": [
       "0.05269691015032827"
      ]
     },
     "execution_count": 81,
     "metadata": {},
     "output_type": "execute_result"
    }
   ],
   "source": [
    "# normilized tf.idf\n",
    "# from sklearn.metrics import silhouette_score\n",
    "# silhouette_score(X, kmeans.labels_)\n",
    "%time quality(X, kmeans.labels_)"
   ]
  },
  {
   "cell_type": "code",
   "execution_count": null,
   "metadata": {},
   "outputs": [],
   "source": []
  },
  {
   "cell_type": "code",
   "execution_count": null,
   "metadata": {},
   "outputs": [],
   "source": []
  },
  {
   "cell_type": "code",
   "execution_count": 6,
   "metadata": {},
   "outputs": [],
   "source": [
    "df_sns = pd.read_csv('snsdata.csv', sep=',')\n",
    "X = tfidf_X(df_sns)\n",
    "X = np.concatenate((X[:14187], X[14188:]))\n",
    "df_sns = df_sns.drop(df_sns.index[14187])"
   ]
  },
  {
   "cell_type": "code",
   "execution_count": 7,
   "metadata": {},
   "outputs": [
    {
     "data": {
      "image/png": "[encoded data removed]",
      "text/plain": [
       "<matplotlib.figure.Figure at 0x7f1695e4ee50>"
      ]
     },
     "metadata": {},
     "output_type": "display_data"
    },
    {
     "name": "stdout",
     "output_type": "stream",
     "text": [
      "CPU times: user 2min 36s, sys: 13.3 s, total: 2min 49s\n",
      "Wall time: 2min 54s\n"
     ]
    }
   ],
   "source": [
    "%time k_plot(X=X, \\\n",
    "    alg_name='km', \\\n",
    "    quality=silhouette_score, \\\n",
    "    k_start=2, \\\n",
    "    k_end=16, \\\n",
    "    random_state=RAND_INIT, \\\n",
    "    max_iter=300 \\\n",
    ")"
   ]
  },
  {
   "cell_type": "code",
   "execution_count": 8,
   "metadata": {},
   "outputs": [
    {
     "data": {
      "image/png": "[encoded data removed]",
      "text/plain": [
       "<matplotlib.figure.Figure at 0x7f16b4188f50>"
      ]
     },
     "metadata": {},
     "output_type": "display_data"
    },
    {
     "name": "stdout",
     "output_type": "stream",
     "text": [
      "CPU times: user 7min 49s, sys: 15.7 s, total: 8min 4s\n",
      "Wall time: 8min 7s\n"
     ]
    }
   ],
   "source": [
    "%time k_plot(X=X, \\\n",
    "    alg_name='gm', \\\n",
    "    quality=silhouette_score, \\\n",
    "    k_start=2, \\\n",
    "    k_end=16, \\\n",
    "    random_state=RAND_INIT, \\\n",
    "    max_iter=300 \\\n",
    ")"
   ]
  },
  {
   "cell_type": "code",
   "execution_count": null,
   "metadata": {},
   "outputs": [],
   "source": []
  },
  {
   "cell_type": "code",
   "execution_count": null,
   "metadata": {},
   "outputs": [],
   "source": []
  },
  {
   "cell_type": "code",
   "execution_count": 9,
   "metadata": {},
   "outputs": [],
   "source": [
    "df_sns = pd.read_csv('snsdata.csv', sep=',')\n",
    "X = norm_tfidf_X(df_sns)\n",
    "X = np.concatenate((X[:14187], X[14188:]))\n",
    "df_sns = df_sns.drop(df_sns.index[14187])"
   ]
  },
  {
   "cell_type": "code",
   "execution_count": 10,
   "metadata": {},
   "outputs": [
    {
     "data": {
      "image/png": "[encoded data removed]",
      "text/plain": [
       "<matplotlib.figure.Figure at 0x7f169361e5d0>"
      ]
     },
     "metadata": {},
     "output_type": "display_data"
    },
    {
     "name": "stdout",
     "output_type": "stream",
     "text": [
      "CPU times: user 2min 46s, sys: 13.5 s, total: 3min\n",
      "Wall time: 3min 10s\n"
     ]
    }
   ],
   "source": [
    "%time k_plot(X=X, \\\n",
    "    alg_name='km', \\\n",
    "    quality=silhouette_score, \\\n",
    "    k_start=2, \\\n",
    "    k_end=16, \\\n",
    "    random_state=RAND_INIT, \\\n",
    "    max_iter=300 \\\n",
    ")"
   ]
  },
  {
   "cell_type": "code",
   "execution_count": 11,
   "metadata": {},
   "outputs": [
    {
     "data": {
      "image/png": "[encoded data removed]",
      "text/plain": [
       "<matplotlib.figure.Figure at 0x7f1693620110>"
      ]
     },
     "metadata": {},
     "output_type": "display_data"
    },
    {
     "name": "stdout",
     "output_type": "stream",
     "text": [
      "CPU times: user 6min 18s, sys: 15.2 s, total: 6min 34s\n",
      "Wall time: 6min 44s\n"
     ]
    }
   ],
   "source": [
    "%time k_plot(X=X, \\\n",
    "    alg_name='gm', \\\n",
    "    quality=silhouette_score, \\\n",
    "    k_start=2, \\\n",
    "    k_end=16, \\\n",
    "    random_state=RAND_INIT, \\\n",
    "    max_iter=300 \\\n",
    ")"
   ]
  },
  {
   "cell_type": "code",
   "execution_count": null,
   "metadata": {},
   "outputs": [],
   "source": []
  },
  {
   "cell_type": "code",
   "execution_count": null,
   "metadata": {},
   "outputs": [],
   "source": []
  },
  {
   "cell_type": "code",
   "execution_count": 42,
   "metadata": {},
   "outputs": [],
   "source": [
    "with open('idf.data', 'w') as f:\n",
    "    np.save(f, X)\n",
    "with open('idf.labels', 'w') as f:\n",
    "    np.save(f, kmeans.labels_)  "
   ]
  },
  {
   "cell_type": "markdown",
   "metadata": {},
   "source": [
    "## Дополнительно\n"
   ]
  },
  {
   "cell_type": "code",
   "execution_count": 32,
   "metadata": {},
   "outputs": [],
   "source": [
    "from scipy.spatial.distance import pdist, squareform\n",
    "from itertools import combinations\n",
    "import gc\n",
    "from sklearn.utils import shuffle\n",
    "\n",
    "def quality(x, y):\n",
    "    x, y = shuffle(x, y, random_state=RAND_INIT)    \n",
    "    x = x[:10000]\n",
    "    y = y[:10000]\n",
    "    gc.collect()\n",
    "    \n",
    "    n, d = x.shape\n",
    "    k = y.max() + 1\n",
    "    classmasks = np.empty((k, n), dtype=bool)\n",
    "    means = np.empty(n, k)\n",
    "    \n",
    "    dists = squareform(pdist(x))\n",
    "    gc.collect()\n",
    "\n",
    "        \n",
    "    classmasks = np.array(xrange(k))[:, None] == y\n",
    "    gc.collect()\n",
    "\n",
    "    class_dists = np.array([dists[:,classmasks[i]].mean(axis=1) for i in xrange(k)])\n",
    "    dists = None\n",
    "    gc.collect()\n",
    "    \n",
    "    a_x = (class_dists * classmasks).max(axis=0)\n",
    "    gc.collect()\n",
    "    \n",
    "    max_val = class_dists.max()\n",
    "    gc.collect()\n",
    "    b_x = (class_dists + (classmasks * max_val)).min(axis=0)\n",
    "    \n",
    "    class_dists = None\n",
    "    gc.collect()\n",
    "    \n",
    "    sil_x = (b_x - a_x) / np.amax((a_x, b_x), axis=0)\n",
    "    a_x = None\n",
    "    b_x = None\n",
    "    gc.collect()\n",
    "    \n",
    "    return sil_x.mean()"
   ]
  },
  {
   "cell_type": "code",
   "execution_count": 196,
   "metadata": {
    "scrolled": true
   },
   "outputs": [
    {
     "name": "stdout",
     "output_type": "stream",
     "text": [
      "baseball\n"
     ]
    },
    {
     "data": {
      "image/png": "[encoded data removed]",
      "text/plain": [
       "<matplotlib.figure.Figure at 0x7f86da1dc250>"
      ]
     },
     "metadata": {},
     "output_type": "display_data"
    }
   ],
   "source": [
    "from IPython import display\n",
    "# %pylab inline\n",
    "pylab.rcParams['figure.figsize'] = (9, 6)\n",
    "attrs = df_sns.columns[4:]\n",
    "# fig, axs = plt.subplots(attrs.size, 1)\n",
    "\n",
    "for i, attr in enumerate(attrs[6:7]):\n",
    "    vals = df_sns[attr].values\n",
    "#     plt.plot(np.linspace(0, vals.max(), 10, dtype=int), vals)\n",
    "#     vals = np.sort(vals)\n",
    "    bins = np.linspace(-1, vals.max(), 11, dtype=int)\n",
    "    c = pd.DataFrame(vals,columns=['counts'])\n",
    "    c = c.groupby(pd.cut(c['counts'], bins=bins)).counts.count()\n",
    "#     c[c>100] = 100\n",
    "    \n",
    "#     print type(c)\n",
    "#     c.plot(kind='bar', ax=axs[i])\n",
    "#     c.plot(kind='bar')\n",
    "    plt.bar(xrange(1,10), c.values[1:])\n",
    "print attrs[7]\n",
    "#     display.display(c.plot(kind='bar', ax=axs[i]))    "
   ]
  },
  {
   "cell_type": "code",
   "execution_count": 209,
   "metadata": {
    "scrolled": true
   },
   "outputs": [
    {
     "name": "stdout",
     "output_type": "stream",
     "text": [
      "[  9.38900000e-01   3.65666667e-02   1.36000000e-02   5.60000000e-03\n",
      "   2.70000000e-03   1.33333333e-03   8.33333333e-04   2.00000000e-04\n",
      "   2.00000000e-04   6.66666667e-05]\n",
      "[  9.58243524e-01   4.08722804e-02   8.71669501e-04   1.23932033e-05\n",
      "   1.32152857e-07   1.12735198e-09   8.01421993e-12   4.88333134e-14\n",
      "   2.60362950e-16   1.23392752e-18]\n"
     ]
    },
    {
     "data": {
      "text/plain": [
       "Power_divergenceResult(statistic=3756407412.3934646, pvalue=0.0)"
      ]
     },
     "execution_count": 209,
     "metadata": {},
     "output_type": "execute_result"
    },
    {
     "data": {
      "image/png": "[encoded data removed]",
      "text/plain": [
       "<matplotlib.figure.Figure at 0x7f86d7172c10>"
      ]
     },
     "metadata": {},
     "output_type": "display_data"
    }
   ],
   "source": [
    "from scipy.stats import chisquare\n",
    "from scipy.stats import norm\n",
    "vals = np.array(c.values[:], dtype=np.float) / 30000\n",
    "vals_m = 0.0\n",
    "for i, el in enumerate(vals):\n",
    "    vals_m += el * i\n",
    "vals_m /= vals.sum()\n",
    "# vals_m\n",
    "# vals\n",
    "\n",
    "vals2 = norm.pdf(xrange(10), vals_m)\n",
    "vals2 = poisson.pmf(xrange(10), vals_m * 0.40)\n",
    "\n",
    "# print vals\n",
    "# vals = poisson.pmf(xrange(10), vals_m * 1.5)\n",
    "\n",
    "plt.plot(xrange(10), vals, label=u'Частота встречаемости слова baseball')\n",
    "plt.plot(xrange(10), vals2, label=u'Распределение Пуассона 1')\n",
    "plt.legend()\n",
    "# vals_m[1]\n",
    "# vals2 = numpy.random.poisson(np.random.poisson(vals.mean(), 9))\n",
    "print vals\n",
    "print vals2\n",
    "chisquare(vals, vals2)\n",
    "# vals_m"
   ]
  },
  {
   "cell_type": "code",
   "execution_count": 135,
   "metadata": {},
   "outputs": [
    {
     "data": {
      "text/plain": [
       "array([ 0.09584793,  0.00511029,  0.00018164])"
      ]
     },
     "execution_count": 135,
     "metadata": {},
     "output_type": "execute_result"
    }
   ],
   "source": [
    "from scipy.stats import poisson\n",
    "# import matplotlib.pyplot as plt\n",
    "# fig, ax = plt.subplots(1, 1)\n",
    "mu = 0.6\n",
    "mean, var, skew, kurt = poisson.stats(mu, moments='mvsk')\n",
    "poisson.pmf((1,2,3), 0.10663333333333333)\n",
    "# x = np.arange(poisson.ppf(0.01, mu),\n",
    "#               poisson.ppf(0.99, mu))\n",
    "# ax.plot(x, poisson.pmf(x, mu), 'bo', ms=8, label='poisson pmf')\n",
    "# ax.vlines(x, 0, poisson.pmf(x, mu), colors='b', lw=5, alpha=0.5)"
   ]
  },
  {
   "cell_type": "code",
   "execution_count": 60,
   "metadata": {},
   "outputs": [
    {
     "name": "stdout",
     "output_type": "stream",
     "text": [
      "39\n",
      "20\n",
      "god\n"
     ]
    },
    {
     "data": {
      "text/html": [
       "<div>\n",
       "<style scoped>\n",
       "    .dataframe tbody tr th:only-of-type {\n",
       "        vertical-align: middle;\n",
       "    }\n",
       "\n",
       "    .dataframe tbody tr th {\n",
       "        vertical-align: top;\n",
       "    }\n",
       "\n",
       "    .dataframe thead th {\n",
       "        text-align: right;\n",
       "    }\n",
       "</style>\n",
       "<table border=\"1\" class=\"dataframe\">\n",
       "  <thead>\n",
       "    <tr style=\"text-align: right;\">\n",
       "      <th></th>\n",
       "      <th>14283</th>\n",
       "    </tr>\n",
       "  </thead>\n",
       "  <tbody>\n",
       "    <tr>\n",
       "      <th>gradyear</th>\n",
       "      <td>2007</td>\n",
       "    </tr>\n",
       "    <tr>\n",
       "      <th>gender</th>\n",
       "      <td>M</td>\n",
       "    </tr>\n",
       "    <tr>\n",
       "      <th>age</th>\n",
       "      <td>17.621</td>\n",
       "    </tr>\n",
       "    <tr>\n",
       "      <th>friends</th>\n",
       "      <td>43</td>\n",
       "    </tr>\n",
       "    <tr>\n",
       "      <th>basketball</th>\n",
       "      <td>0</td>\n",
       "    </tr>\n",
       "    <tr>\n",
       "      <th>football</th>\n",
       "      <td>1</td>\n",
       "    </tr>\n",
       "    <tr>\n",
       "      <th>soccer</th>\n",
       "      <td>0</td>\n",
       "    </tr>\n",
       "    <tr>\n",
       "      <th>softball</th>\n",
       "      <td>0</td>\n",
       "    </tr>\n",
       "    <tr>\n",
       "      <th>volleyball</th>\n",
       "      <td>0</td>\n",
       "    </tr>\n",
       "    <tr>\n",
       "      <th>swimming</th>\n",
       "      <td>0</td>\n",
       "    </tr>\n",
       "    <tr>\n",
       "      <th>cheerleading</th>\n",
       "      <td>0</td>\n",
       "    </tr>\n",
       "    <tr>\n",
       "      <th>baseball</th>\n",
       "      <td>1</td>\n",
       "    </tr>\n",
       "    <tr>\n",
       "      <th>tennis</th>\n",
       "      <td>0</td>\n",
       "    </tr>\n",
       "    <tr>\n",
       "      <th>sports</th>\n",
       "      <td>0</td>\n",
       "    </tr>\n",
       "    <tr>\n",
       "      <th>cute</th>\n",
       "      <td>0</td>\n",
       "    </tr>\n",
       "    <tr>\n",
       "      <th>sex</th>\n",
       "      <td>2</td>\n",
       "    </tr>\n",
       "    <tr>\n",
       "      <th>sexy</th>\n",
       "      <td>1</td>\n",
       "    </tr>\n",
       "    <tr>\n",
       "      <th>hot</th>\n",
       "      <td>0</td>\n",
       "    </tr>\n",
       "    <tr>\n",
       "      <th>kissed</th>\n",
       "      <td>0</td>\n",
       "    </tr>\n",
       "    <tr>\n",
       "      <th>dance</th>\n",
       "      <td>0</td>\n",
       "    </tr>\n",
       "    <tr>\n",
       "      <th>band</th>\n",
       "      <td>0</td>\n",
       "    </tr>\n",
       "    <tr>\n",
       "      <th>marching</th>\n",
       "      <td>0</td>\n",
       "    </tr>\n",
       "    <tr>\n",
       "      <th>music</th>\n",
       "      <td>1</td>\n",
       "    </tr>\n",
       "    <tr>\n",
       "      <th>rock</th>\n",
       "      <td>1</td>\n",
       "    </tr>\n",
       "    <tr>\n",
       "      <th>god</th>\n",
       "      <td>39</td>\n",
       "    </tr>\n",
       "    <tr>\n",
       "      <th>church</th>\n",
       "      <td>1</td>\n",
       "    </tr>\n",
       "    <tr>\n",
       "      <th>jesus</th>\n",
       "      <td>9</td>\n",
       "    </tr>\n",
       "    <tr>\n",
       "      <th>bible</th>\n",
       "      <td>1</td>\n",
       "    </tr>\n",
       "    <tr>\n",
       "      <th>hair</th>\n",
       "      <td>0</td>\n",
       "    </tr>\n",
       "    <tr>\n",
       "      <th>dress</th>\n",
       "      <td>0</td>\n",
       "    </tr>\n",
       "    <tr>\n",
       "      <th>blonde</th>\n",
       "      <td>0</td>\n",
       "    </tr>\n",
       "    <tr>\n",
       "      <th>mall</th>\n",
       "      <td>0</td>\n",
       "    </tr>\n",
       "    <tr>\n",
       "      <th>shopping</th>\n",
       "      <td>0</td>\n",
       "    </tr>\n",
       "    <tr>\n",
       "      <th>clothes</th>\n",
       "      <td>0</td>\n",
       "    </tr>\n",
       "    <tr>\n",
       "      <th>hollister</th>\n",
       "      <td>0</td>\n",
       "    </tr>\n",
       "    <tr>\n",
       "      <th>abercrombie</th>\n",
       "      <td>0</td>\n",
       "    </tr>\n",
       "    <tr>\n",
       "      <th>die</th>\n",
       "      <td>2</td>\n",
       "    </tr>\n",
       "    <tr>\n",
       "      <th>death</th>\n",
       "      <td>0</td>\n",
       "    </tr>\n",
       "    <tr>\n",
       "      <th>drunk</th>\n",
       "      <td>0</td>\n",
       "    </tr>\n",
       "    <tr>\n",
       "      <th>drugs</th>\n",
       "      <td>0</td>\n",
       "    </tr>\n",
       "  </tbody>\n",
       "</table>\n",
       "</div>"
      ],
      "text/plain": [
       "               14283\n",
       "gradyear        2007\n",
       "gender             M\n",
       "age           17.621\n",
       "friends           43\n",
       "basketball         0\n",
       "football           1\n",
       "soccer             0\n",
       "softball           0\n",
       "volleyball         0\n",
       "swimming           0\n",
       "cheerleading       0\n",
       "baseball           1\n",
       "tennis             0\n",
       "sports             0\n",
       "cute               0\n",
       "sex                2\n",
       "sexy               1\n",
       "hot                0\n",
       "kissed             0\n",
       "dance              0\n",
       "band               0\n",
       "marching           0\n",
       "music              1\n",
       "rock               1\n",
       "god               39\n",
       "church             1\n",
       "jesus              9\n",
       "bible              1\n",
       "hair               0\n",
       "dress              0\n",
       "blonde             0\n",
       "mall               0\n",
       "shopping           0\n",
       "clothes            0\n",
       "hollister          0\n",
       "abercrombie        0\n",
       "die                2\n",
       "death              0\n",
       "drunk              0\n",
       "drugs              0"
      ]
     },
     "execution_count": 60,
     "metadata": {},
     "output_type": "execute_result"
    }
   ],
   "source": [
    "# attrs = df_sns.columns[4:]\n",
    "# anom = 40\n",
    "# counter = 0\n",
    "# for i, attr in enumerate(attrs):\n",
    "#     val = df_sns.query('{} > {}'.format(attr, anom)).shape[0]\n",
    "#     counter += val\n",
    "# print counter\n",
    "attrs = df_sns.columns[4:]\n",
    "val_max = 0\n",
    "i_max = 0\n",
    "for i, attr in enumerate(attrs):\n",
    "    val = df_sns.loc[:,attr].max()\n",
    "    if val > val_max:\n",
    "        val_max = val\n",
    "        i_max = i\n",
    "print val_max\n",
    "print i_max\n",
    "print attrs[i_max]\n",
    "df_sns.query('{} == {}'.format(attrs[i_max], val_max)).T"
   ]
  },
  {
   "cell_type": "code",
   "execution_count": 28,
   "metadata": {
    "scrolled": true
   },
   "outputs": [
    {
     "data": {
      "image/png": "[encoded data removed]",
      "text/plain": [
       "<matplotlib.figure.Figure at 0x7f3f4f7bbed0>"
      ]
     },
     "metadata": {},
     "output_type": "display_data"
    }
   ],
   "source": [
    "for i, attr in enumerate(attrs):\n",
    "    counts = np.zeros(120, dtype=np.int32)\n",
    "    for i in df_sns[attr].values:\n",
    "        counts[i] += 1\n",
    "    bins = np.linspace(0, 120, 31, dtype=int)\n",
    "    c = pd.DataFrame(counts,columns=['counts'])\n",
    "    c\n",
    "    c = c.groupby(pd.cut(c['counts'], bins=bins)).counts.count()\n",
    "    c.plot(kind='bar')\n",
    "    bins"
   ]
  },
  {
   "cell_type": "code",
   "execution_count": 38,
   "metadata": {
    "scrolled": true
   },
   "outputs": [
    {
     "name": "stdout",
     "output_type": "stream",
     "text": [
      "bible: 640\n",
      "marching: 1218\n",
      "abercrombie: 1535\n",
      "drugs: 1813\n",
      "hollister: 2096\n",
      "tennis: 2620\n",
      "drunk: 2639\n",
      "blonde: 2968\n",
      "kissed: 3096\n",
      "baseball: 3148\n",
      "cheerleading: 3199\n",
      "dress: 3329\n",
      "jesus: 3362\n",
      "death: 3427\n",
      "hot: 3798\n",
      "swimming: 4032\n",
      "sports: 4199\n",
      "sexy: 4236\n",
      "volleyball: 4294\n",
      "clothes: 4455\n",
      "softball: 4836\n",
      "die: 5523\n",
      "sex: 6282\n",
      "soccer: 6683\n",
      "rock: 7300\n",
      "church: 7445\n",
      "football: 7569\n",
      "mall: 7721\n",
      "basketball: 8020\n",
      "band: 8988\n",
      "cute: 9686\n",
      "shopping: 10590\n",
      "hair: 12677\n",
      "dance: 12755\n",
      "god: 13959\n",
      "music: 22135\n"
     ]
    }
   ],
   "source": [
    "attrs = df_sns.columns[4:]\n",
    "len_attrs = attrs.size\n",
    "counts = np.empty(len_attrs, dtype=np.int32)\n",
    "\n",
    "for i, attr in enumerate(attrs):\n",
    "    val = np.sum(df_sns.loc[:,attr].values)\n",
    "    counts[i] = val\n",
    "#     val = df_sns.loc[:,'music'].values\n",
    "#     print '{}: {}'.format(attr, val)\n",
    "for i in np.argsort(counts):\n",
    "    print '{}: {}'.format(attrs[i], counts[i])"
   ]
  },
  {
   "cell_type": "code",
   "execution_count": 78,
   "metadata": {
    "scrolled": true
   },
   "outputs": [
    {
     "data": {
      "text/plain": [
       "array([    0,   862,  1724,  2586,  3448,  4310,  5172,  6034,  6896,\n",
       "        7758,  8620,  9482, 10344, 11206, 12068, 12931, 13793, 14655,\n",
       "       15517, 16379, 17241, 18103, 18965, 19827, 20689, 21551, 22413,\n",
       "       23275, 24137, 25000])"
      ]
     },
     "execution_count": 78,
     "metadata": {},
     "output_type": "execute_result"
    },
    {
     "data": {
      "image/png": "[encoded data removed]",
      "text/plain": [
       "<matplotlib.figure.Figure at 0x7f69162eab50>"
      ]
     },
     "metadata": {},
     "output_type": "display_data"
    }
   ],
   "source": [
    "bins = [0,10000,20000,23000]\n",
    "bins = np.linspace(0, 25000, 30, dtype=int)\n",
    "c = pd.DataFrame(counts,columns=['counts'])\n",
    "c\n",
    "c = c.groupby(pd.cut(c['counts'], bins=bins)).counts.count()\n",
    "c.plot(kind='bar')\n",
    "bins"
   ]
  },
  {
   "cell_type": "code",
   "execution_count": null,
   "metadata": {},
   "outputs": [],
   "source": []
  },
  {
   "cell_type": "code",
   "execution_count": 23,
   "metadata": {
    "scrolled": true
   },
   "outputs": [
    {
     "data": {
      "text/plain": [
       "'basketball, football, soccer, softball, volleyball, swimming, cheerleading, baseball, tennis, sports, cute, sex, sexy, hot, kissed, dance, band, marching, music, rock, god, church, jesus, bible, hair, dress, blonde, mall, shopping, clothes, hollister, abercrombie, die, death, drunk, drugs'"
      ]
     },
     "execution_count": 23,
     "metadata": {},
     "output_type": "execute_result"
    }
   ],
   "source": [
    "# for el in df_sns.columns[4:]:\n",
    "#     print el\n",
    "', '.join(df_sns.columns[4:])"
   ]
  },
  {
   "cell_type": "code",
   "execution_count": 6,
   "metadata": {},
   "outputs": [],
   "source": [
    "X = norm_X(df_sns)\n",
    "X = np.concatenate((X[:14187], X[14188:]))\n",
    "df_sns = df_sns.drop(df_sns.index[14187])"
   ]
  }
 ],
 "metadata": {
  "anaconda-cloud": {},
  "kernelspec": {
   "display_name": "Python 2",
   "language": "python",
   "name": "python2"
  },
  "language_info": {
   "codemirror_mode": {
    "name": "ipython",
    "version": 2
   },
   "file_extension": ".py",
   "mimetype": "text/x-python",
   "name": "python",
   "nbconvert_exporter": "python",
   "pygments_lexer": "ipython2",
   "version": "2.7.14"
  },
  "nav_menu": {},
  "toc": {
   "navigate_menu": true,
   "number_sections": false,
   "sideBar": true,
   "threshold": 6,
   "toc_cell": false,
   "toc_section_display": "block",
   "toc_window_display": true
  }
 },
 "nbformat": 4,
 "nbformat_minor": 2
}
