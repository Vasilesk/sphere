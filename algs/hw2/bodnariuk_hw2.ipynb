{
 "cells": [
  {
   "cell_type": "markdown",
   "metadata": {},
   "source": [
    "# Алгоритмы интеллектуальной обработки больших объемов данных\n",
    "## Домашнее задание №2 - Алгоритмы кластеризации\n"
   ]
  },
  {
   "cell_type": "markdown",
   "metadata": {},
   "source": [
    "###### <hr\\>\n",
    "**Общая информация**\n",
    "\n",
    "**Срок сдачи:** 23 октября 2017, 06:00 <br\\>\n",
    "**Штраф за опоздание:** -2 балла после 06:00 23 октября, -4 балла после 06:00 30 октября, -6 баллов после 06:00 6 ноября\n",
    "\n",
    "При отправлении ДЗ указывайте фамилию в названии файла\n",
    "Присылать ДЗ необходимо в виде ссылки на свой github репозиторий в slack @alkhamush Необходимо в slack создать таск в приватный чат:\n",
    "/todo Фамилия Имя ссылка на гитхаб @alkhamush\n",
    "Пример:\n",
    "/todo Ксения Стройкова https://github.com/stroykova/spheremailru/stroykova_hw1.ipynb @alkhamush\n",
    "\n",
    "Используйте данный Ipython Notebook при оформлении домашнего задания.\n",
    "<hr\\>"
   ]
  },
  {
   "cell_type": "markdown",
   "metadata": {},
   "source": [
    "###### Задание 1 (4 балла)\n",
    "Реализовать алгоритм кластеризации, который относится к вашему варианту. Проверить работоспособность алгоритма на \"Iris\". Сравните свой алгоритм кластеризации с алгоритмом из scikit-learn по времени выполнения, использую timeit. Ваша реализация не должна работать сильно дольше, а в идеале должна быть даже немного быстрее.\n",
    "\n",
    "###### Задание 2 (2 балла)\n",
    "Выбрать, имплементировать и использовать критерий качества\n",
    "\n",
    "###### Задание 3 (3 балла)\n",
    "Применить алгоритм кластеризации к данным по странам.   \n",
    "Подход следующий: фиксируем год, для каждой страны берём индикаторы по зафиксированному году, кластеризуем по индикаторам.   \n",
    "Разбиение должно быть объяснимым, в противном случае, скорее всего нужно лучше настроить параметры кластеризации.   \n",
    "Данные нужно скачать тут https://data.worldbank.org/data-catalog/world-development-indicators.   \n",
    "Также необходимо показать, какие страны попали в общий кластер.\n",
    "Визуализировать результат с помощью T-SNE. Внимание! На полном объеме данных данный алгоритм может работать существенное время.\n",
    "\n",
    "###### Задание 4 (1 балл)\n",
    "Опишите в выводе почему и какие страны попали в общий кластер."
   ]
  },
  {
   "cell_type": "markdown",
   "metadata": {},
   "source": [
    "Основная задача этого задания - реализация одного из алгоритмов кластеризации. Кроме того, мы научимся подбирать параметры алгоритма, визуализируем результат кластеризации и попытаемся проанализировать природу полученных кластеров."
   ]
  },
  {
   "cell_type": "code",
   "execution_count": 1,
   "metadata": {},
   "outputs": [
    {
     "name": "stdout",
     "output_type": "stream",
     "text": [
      "Populating the interactive namespace from numpy and matplotlib\n"
     ]
    }
   ],
   "source": [
    "import pandas as pd\n",
    "import pylab as pl\n",
    "import numpy as np\n",
    "import scipy.spatial as ss\n",
    "import sklearn.cluster as sc\n",
    "import sklearn.manifold as sm\n",
    "import sklearn.datasets as ds\n",
    "import sklearn.metrics as smt\n",
    "\n",
    "import matplotlib.pyplot as plt\n",
    "import mpl_toolkits.basemap as bm\n",
    "\n",
    "%matplotlib inline\n",
    "\n",
    "plt.style.use('ggplot')\n",
    "plt.rcParams['figure.figsize'] = (12,5)\n",
    "\n",
    "# Plotting config\n",
    "%pylab inline"
   ]
  },
  {
   "cell_type": "markdown",
   "metadata": {},
   "source": [
    "## Реализация алгоритма"
   ]
  },
  {
   "cell_type": "markdown",
   "metadata": {},
   "source": [
    "Алгоритм кластеризации, который необходимо реализовать, выбирается на основании Вашего порядкового номера в списке группы."
   ]
  },
  {
   "cell_type": "markdown",
   "metadata": {},
   "source": [
    "1. Авилова Екатерина\n",
    "2. Адаменко Павел\n",
    "3. Акиньщиков Алексей\n",
    "4. Афанасьева Анастасия\n",
    "5. Балес Александр\n",
    "6. Беляев Владимир\n",
    "7. Беспалова Анастасия\n",
    "8. Богомолов Эмиль\n",
    "9. Боднарюк Василий\n",
    "10. Бучкин Александр\n",
    "11. Валинуров Денис\n",
    "12. Волков Глеб\n",
    "13. Голенков Кирилл\n",
    "14. Горбушин Михаил\n",
    "15. Димов Илья\n",
    "16. Докшина Елизавета\n",
    "17. Дорожинский Владислав\n",
    "18. Жирнов Михаил\n",
    "19. Жолковский Евгений\n",
    "20. Зайдель Петр\n",
    "21. Зимнюков Максим\n",
    "22. Иванов Илья\n",
    "23. Кашипов Артем\n",
    "24. Комов Евгений\n",
    "25. Кошман Дима\n",
    "26. Кузнецова Екатерина\n",
    "27. Кулагин Алексей\n",
    "28. Лавреновъ Виталiй\n",
    "29. Лебедь Федор\n",
    "30. Лешков Михаил\n",
    "31. Лозинский Иван\n",
    "32. Лоскутов Антон\n",
    "33. Лютов Владимир\n",
    "34. Мажаров Иван\n",
    "35. Манкевич Павел\n",
    "36. Муравьев Никита\n",
    "37. Находнов Максим\n",
    "38. Оплачко Николай\n",
    "39. Павлов Евгений\n",
    "40. Петряйкин Федор\n",
    "41. Рахматуллин Фарид\n",
    "42. Секретарев Тихон\n",
    "43. Сенюшкин Дмитрий\n",
    "44. Серов Николай\n",
    "45. Смирнов Александр\n",
    "46. Соловьев Павел\n",
    "47. Сомов Иван\n",
    "48. Спиркин Роман\n",
    "49. Терёшина Мария\n",
    "50. Торбунова Екатерина\n",
    "51. Тюгаев Антон\n",
    "52. Фельдман Борис\n",
    "53. Филин Максим\n",
    "54. Фролов Михаил\n",
    "55. Хохлов Олег\n",
    "56. Черемнов Андрей\n",
    "57. Шевцов Антон\n",
    "58. Шурыгин Александр"
   ]
  },
  {
   "cell_type": "code",
   "execution_count": 2,
   "metadata": {},
   "outputs": [],
   "source": [
    "N = 9 # put your index here"
   ]
  },
  {
   "cell_type": "code",
   "execution_count": 3,
   "metadata": {},
   "outputs": [
    {
     "name": "stdout",
     "output_type": "stream",
     "text": [
      "Реализуем алгоритм кластеризации 'Gaussian Mixture Model с использованием maximum a-posteriori для выбора кластера (параметр - k)'\n"
     ]
    }
   ],
   "source": [
    "algorithms = [\n",
    "    u\"Gaussian Mixture Model с использованием maximum a-posteriori для выбора кластера (параметр - k)\",\n",
    "    u\"Hierarchical clustering с поддержкой single-linkage, complete-linkage, average-linkage (параметры - k, linkage)\",\n",
    "    u\"DBSCAN. (параметры - epsilon, min_pts)\"\n",
    "]\n",
    "\n",
    "my_algorithm = algorithms[N % len(algorithms)]\n",
    "print u\"Реализуем алгоритм кластеризации '%s'\" % my_algorithm"
   ]
  },
  {
   "cell_type": "markdown",
   "metadata": {},
   "source": [
    "Алгоритм кластеризации должен удовлетворять следующему интерфейсу. Конструктор принимает набор параметров, необходимых для работы алгоритма кластеризации. Метод `fit` подсчитывает параметры модели и возвращает `self`. Метод `predict` возвращает вектор с индексами кластеров для поданных в него объектов `x`"
   ]
  },
  {
   "cell_type": "code",
   "execution_count": 4,
   "metadata": {},
   "outputs": [],
   "source": [
    "## Задание 1 - EM\n",
    "from itertools import izip\n",
    "import scipy.stats as sst\n",
    "\n",
    "from sklearn.base import BaseEstimator, ClusterMixin\n",
    "\n",
    "class Clustering(BaseEstimator, ClusterMixin):\n",
    "    \"\"\"\n",
    "    Implement clustering algorithm according \n",
    "    \"\"\"\n",
    "    \n",
    "    def __init__(self, **kwargs):\n",
    "        \"\"\"\n",
    "        Please add necessary algoritm parameters to class constructor.\n",
    "        \"\"\"\n",
    "        self.k = kwargs['n_components']\n",
    "        self.random_state = kwargs['random_state'] if 'random_state' in kwargs else None\n",
    "        self.max_iter = kwargs['max_iter'] if 'max_iter' in kwargs else 10000\n",
    "        return\n",
    "    \n",
    "    def pick_random_elems(self, count, elems_array):\n",
    "        return elems_array[np.random.choice(elems_array.shape[0], count, replace=False)]\n",
    "    \n",
    "    def init_params(self, x):\n",
    "        np.random.seed(self.random_state)\n",
    "        self.x = x\n",
    "        self.n, self.d = x.shape\n",
    "        \n",
    "        p = np.empty(self.k)\n",
    "\n",
    "        self.m = self.pick_random_elems(self.k, x)\n",
    "        \n",
    "        self.g = np.random.rand(self.n, self.k)\n",
    "        \n",
    "        g_sums = self.g.sum(axis=1, keepdims=True)\n",
    "        \n",
    "        self.g = self.g / g_sums\n",
    "        \n",
    "        self.gmean = 0.0\n",
    "\n",
    "    def s_step(self):\n",
    "        new_gmean = self.g.max(axis=1).mean()\n",
    "        if self.gmean / new_gmean == 1:\n",
    "            return True\n",
    "        self.gmean = new_gmean\n",
    "        \n",
    "    def e_step(self):\n",
    "        mn_pdfs = np.array([Pdf_getter(m_el, s_el, p_el) for m_el, s_el, p_el in izip(self.m, self.s, self.p)])\n",
    "        \n",
    "        pmn = np.array([mn_pdfs[k_el].value(self.x) for k_el in xrange(self.k)])\n",
    "        pmn_sums = pmn.sum(axis=0)\n",
    "        self.g = (pmn / pmn_sums).T\n",
    "        \n",
    "    def m_step(self):\n",
    "        self.ns = self.g.sum(axis=0)\n",
    "        gt = self.g.T\n",
    "        self.m = np.dot(gt, self.x)\n",
    "        self.m = self.m / np.repeat(self.ns, self.d).reshape(self.k, self.d)\n",
    "        \n",
    "        s_elems = np.repeat(self.x[None, :, :], self.k,axis=0) - self.m[:,None]\n",
    "\n",
    "        s_elems = s_elems[:,:,:,np.newaxis] * s_elems[:,:,np.newaxis,:]\n",
    "    \n",
    "        multiplier = np.repeat(gt, self.d ** 2).reshape(self.k,self.n,self.d,self.d)\n",
    "        s_elems = s_elems * multiplier\n",
    "        \n",
    "        self.s = s_elems.sum(axis=1)\n",
    "\n",
    "        self.s /= np.repeat(self.ns, self.d ** 2).reshape(self.k,self.d,self.d)\n",
    "                \n",
    "        self.p = self.ns / self.n\n",
    "                \n",
    "    def fit(self, x, y=None):\n",
    "        \"\"\"\n",
    "        Use data matrix x to compute model parameters\n",
    "        \"\"\"        \n",
    "        self.init_params(x)\n",
    "        self.m_step()\n",
    "        \n",
    "        for _ in xrange(self.max_iter):\n",
    "            self.e_step()\n",
    "            self.m_step()\n",
    "            if self.s_step():\n",
    "                break\n",
    "    \n",
    "        return self\n",
    "    \n",
    "    def predict(self, x = None):\n",
    "        \"\"\"\n",
    "        Using computed model parameters predict cluster\n",
    "        for all objects from x\n",
    "        \"\"\"\n",
    "        if x is None:\n",
    "            return self.g.argmax(axis=1)\n",
    "        \n",
    "        mn_pdfs = np.array([Pdf_getter(m_el, s_el, p_el) for m_el, s_el, p_el in izip(self.m, self.s, self.p)])\n",
    "        \n",
    "        pmn = np.array([mn_pdfs[k_el].value(x) for k_el in xrange(self.k)])\n",
    "\n",
    "        return pmn.argmax(axis=0)\n",
    "    \n",
    "    def fit_predict(self, x, y=None):\n",
    "        self.fit(x, y)\n",
    "        return self.predict(x)\n",
    "    \n",
    "class Pdf_getter:\n",
    "    def __init__(self, m_el, s_el, p):\n",
    "        self.p = p\n",
    "        try:\n",
    "            self.mn = sst.multivariate_normal(mean=m_el, cov=s_el)\n",
    "        except Exception as e:\n",
    "            if 'singular matrix' in str(e):\n",
    "                c = m_el.shape[0]\n",
    "                eps = s_el.min() / 100\n",
    "                diag = np.repeat(eps, c)\n",
    "                s_el = s_el - np.diag(diag)\n",
    "            else:\n",
    "                eigvals = np.linalg.eigvals(s_el)\n",
    "                eigvals_real = np.real(eigvals)\n",
    "                min_eig = np.min(eigvals_real)\n",
    "                if min_eig == 0:\n",
    "                    min_eig = s_el.min() / 100\n",
    "                s_el -= 10 * min_eig * np.eye(*s_el.shape)\n",
    "                \n",
    "            try: \n",
    "                self.mn = sst.multivariate_normal(mean=m_el, cov=s_el)\n",
    "            except Exception as e:\n",
    "                self.p = 0\n",
    "        \n",
    "    def value(self, x):\n",
    "        if self.p == 0:\n",
    "            return np.repeat(1.0/x.shape[0],x.shape[0])\n",
    "        return self.mn.pdf(x) * self.p"
   ]
  },
  {
   "cell_type": "markdown",
   "metadata": {},
   "source": [
    "Сначала проверим реализованный алгоритм кластеризации на классическом наборе данных [Iris](http://www.wikiwand.com/en/Iris_flower_data_set). Загрузим данные (они включены в библиотеку sklearn) и посмотрим на то, как они выглядят в двух проекциях (для простоты используем 2 класса из 3)."
   ]
  },
  {
   "cell_type": "code",
   "execution_count": 5,
   "metadata": {},
   "outputs": [
    {
     "data": {
      "image/png": "[encoded data removed]",
      "text/plain": [
       "<matplotlib.figure.Figure at 0x7f3f94d4e490>"
      ]
     },
     "metadata": {},
     "output_type": "display_data"
    }
   ],
   "source": [
    "iris = ds.load_iris()\n",
    "x_iris = iris.data[:100]\n",
    "y_iris = iris.target[:100]\n",
    "\n",
    "pl.figure(figsize=(10, 5))\n",
    "\n",
    "pl.subplot(1, 2, 1)\n",
    "pl.scatter(x_iris[:, 0], x_iris[:, 1], c=y_iris, cmap=pl.cm.PuOr, lw=0, s=30)\n",
    "plt.xlabel('Sepal length')\n",
    "plt.ylabel('Sepal width')\n",
    "\n",
    "pl.subplot(1, 2, 2)\n",
    "pl.scatter(x_iris[:, 2], x_iris[:, 3], c=y_iris, cmap=pl.cm.PuOr, lw=0, s=30)\n",
    "plt.xlabel('Petal length')\n",
    "plt.ylabel('Petal width')\n",
    "pl.show()"
   ]
  },
  {
   "cell_type": "code",
   "execution_count": 6,
   "metadata": {},
   "outputs": [
    {
     "data": {
      "image/png": "[encoded data removed]",
      "text/plain": [
       "<matplotlib.figure.Figure at 0x7f3f94d4c590>"
      ]
     },
     "metadata": {},
     "output_type": "display_data"
    }
   ],
   "source": [
    "mygm = Clustering(max_iter=30, random_state=1234,n_components=2)\n",
    "labels = mygm.fit_predict(x_iris[:, 0:2])\n",
    "\n",
    "pl.figure(figsize=(10, 5))\n",
    "pl.subplot(1, 2, 1)\n",
    "pl.scatter(x_iris[:, 0], x_iris[:, 1], c=labels, cmap=pl.cm.PuOr, lw=0, s=30)\n",
    "plt.xlabel('Sepal length')\n",
    "plt.ylabel('Sepal width')\n",
    "\n",
    "mygm = Clustering(max_iter=30, random_state=1234,n_components=2)\n",
    "labels = mygm.fit_predict(x_iris[:, 1:3])\n",
    "\n",
    "pl.subplot(1, 2, 2)\n",
    "pl.scatter(x_iris[:, 2], x_iris[:, 3], c=labels, cmap=pl.cm.PuOr, lw=0, s=30)\n",
    "plt.xlabel('Petal length')\n",
    "plt.ylabel('Petal width')\n",
    "pl.show()"
   ]
  },
  {
   "cell_type": "markdown",
   "metadata": {},
   "source": [
    "Видно, что классы разделяются, поэтому можно надеяться, что наш алгоритм \"найдет\" кластеры, соответствующие исходным классам. Результат работы реализованного алгоритма кластеризации предлагается сравнить с эталонной кластеризацией. Для этого предлагается изучить метрику ([adjusted rand score](http://scikit-learn.org/stable/modules/generated/sklearn.metrics.adjusted_rand_score.html)). В случае если значение этой метрики отличается от 1, предлагается поработать над улучшением реализации своего алгоритма."
   ]
  },
  {
   "cell_type": "code",
   "execution_count": 7,
   "metadata": {},
   "outputs": [
    {
     "name": "stdout",
     "output_type": "stream",
     "text": [
      "Adjusted Rand index for iris is: 1.00\n"
     ]
    }
   ],
   "source": [
    "pred_iris = Clustering(n_components=2,max_iter=300, random_state=1234).fit_predict(x_iris)\n",
    "print \"Adjusted Rand index for iris is: %.2f\" % smt.adjusted_rand_score(y_iris, pred_iris)"
   ]
  },
  {
   "cell_type": "markdown",
   "metadata": {},
   "source": [
    "Выбрать и реализовать критерий качества, на основании которого будут подбираться параметры модели. Варианты критериев:\n",
    "- Инерция (сумма квадратов расстояний от каждой из точек до ближайшего к этой точке центроида)\n",
    "- Средний диаметр (максимальное расстояние между точками в кластере) или радиус (расстояние от центроида до самой дальней от него точки в кластере)\n",
    "- Sihouette\n",
    "\n",
    "**Критерий качества необходимо выбрать таким образом, чтобы он подходил для реализованного алгоритма**"
   ]
  },
  {
   "cell_type": "code",
   "execution_count": 8,
   "metadata": {},
   "outputs": [],
   "source": [
    "## Задание 2\n",
    "from scipy.spatial.distance import pdist, squareform\n",
    "from itertools import combinations\n",
    "def quality(x, y):\n",
    "    \"\"\"\n",
    "    Implement quality criterion of your choice\n",
    "    \"\"\"\n",
    "    k = y.max() + 1\n",
    "    \n",
    "    n, d = x.shape\n",
    "    dists = squareform(pdist(x))\n",
    "    \n",
    "    classmasks = np.empty((k, n), dtype=bool)\n",
    "    \n",
    "    means = np.empty(n, k)\n",
    "\n",
    "        \n",
    "    classmasks = np.array(xrange(k))[:, None] == y\n",
    "\n",
    "    class_dists = np.array([dists[:,classmasks[i]].mean(axis=1) for i in xrange(k)])\n",
    "\n",
    "    \n",
    "    a_x = (class_dists * classmasks).max(axis=0)\n",
    "    \n",
    "    max_val = class_dists.max()\n",
    "    b_x = (class_dists + (classmasks * max_val)).min(axis=0)\n",
    "    \n",
    "    sil_x = (b_x - a_x) / np.amax((a_x, b_x), axis=0)\n",
    "    \n",
    "    return sil_x.mean()"
   ]
  },
  {
   "cell_type": "markdown",
   "metadata": {},
   "source": [
    "Применим критерий для выбора параметров алгоритма. Предлагается изменить следующий код таким образом, чтобы кластеризация вызывалась с верным набором параметров. На графике можно будет увидеть зависимость критерия от параметров алгоритма. Необходимо выбрать оптимальные значения этих параметров."
   ]
  },
  {
   "cell_type": "code",
   "execution_count": 10,
   "metadata": {},
   "outputs": [
    {
     "data": {
      "image/png": "[encoded data removed]",
      "text/plain": [
       "<matplotlib.figure.Figure at 0x7f3f5cdabf50>"
      ]
     },
     "metadata": {},
     "output_type": "display_data"
    }
   ],
   "source": [
    "from sklearn.mixture import GaussianMixture\n",
    "x = x_iris\n",
    "ks = range(1, 9)\n",
    "criteria = np.zeros(len(ks))\n",
    "\n",
    "for i, k in enumerate(ks):\n",
    "    cls = Clustering(n_components=k, random_state=1234)\n",
    "    try:\n",
    "        y = cls.fit(x)\n",
    "        y = cls.predict(x)\n",
    "        criteria[i] = quality(x, y)\n",
    "    except Exception as e:\n",
    "        print 'oops'\n",
    "        print k\n",
    "        raise e\n",
    "    \n",
    "pl.figure(figsize=(8, 6))\n",
    "pl.plot(ks, criteria)\n",
    "pl.title(\"$J(k)$\")\n",
    "pl.ylabel(\"Criteria $J$\")\n",
    "pl.xlabel(\"Number of clusters $k$\")\n",
    "pl.grid()\n",
    "pl.show()"
   ]
  },
  {
   "cell_type": "code",
   "execution_count": 11,
   "metadata": {},
   "outputs": [],
   "source": [
    "## Задание 3"
   ]
  },
  {
   "cell_type": "code",
   "execution_count": 12,
   "metadata": {},
   "outputs": [],
   "source": [
    "## Задание 4"
   ]
  },
  {
   "cell_type": "markdown",
   "metadata": {},
   "source": [
    "Поздравляем, Вы завершили домашние задания по модулю \"Алгоритмы кластеризации\". Надеемся, что это было интересно."
   ]
  }
 ],
 "metadata": {
  "kernelspec": {
   "display_name": "Python 2",
   "language": "python",
   "name": "python2"
  },
  "language_info": {
   "codemirror_mode": {
    "name": "ipython",
    "version": 2
   },
   "file_extension": ".py",
   "mimetype": "text/x-python",
   "name": "python",
   "nbconvert_exporter": "python",
   "pygments_lexer": "ipython2",
   "version": "2.7.14"
  }
 },
 "nbformat": 4,
 "nbformat_minor": 1
}
