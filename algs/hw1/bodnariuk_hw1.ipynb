{
 "cells": [
  {
   "cell_type": "markdown",
   "metadata": {},
   "source": [
    "# Алгоритмы интеллектуальной обработки больших объемов данных\n",
    "## Домашнее задание №1 - Метод k-средних, предобработка признаков\n"
   ]
  },
  {
   "cell_type": "markdown",
   "metadata": {},
   "source": [
    "# <hr\\>\n",
    "**Общая информация**\n",
    "\n",
    "**Срок сдачи:** до 7 октября 2017, 06:00   \n",
    "**Штраф за опоздание:** -2 балла после 06:00 7 октября, -4 балла после 06:00 14 октября, -6 баллов после 06:00 21 октября\n",
    "\n",
    "При отправлении ДЗ указывайте фамилию в названии файла   \n",
    "\n",
    "\n",
    "Присылать ДЗ необходимо в виде ссылки на свой github репозиторий в slack @alkhamush\n",
    "Необходимо в slack создать таск в приватный чат:   \n",
    "/todo Фамилия Имя *ссылка на гитхаб* @alkhamush   \n",
    "Пример:   \n",
    "/todo Ксения Стройкова https://github.com/stroykova/spheremailru/stroykova_hw1.ipynb @alkhamush   \n",
    "\n",
    "Используйте данный Ipython Notebook при оформлении домашнего задания.\n",
    "<hr\\>"
   ]
  },
  {
   "cell_type": "markdown",
   "metadata": {},
   "source": [
    "# Первое задание - указать фамилию в имени файла"
   ]
  },
  {
   "cell_type": "code",
   "execution_count": 1,
   "metadata": {},
   "outputs": [],
   "source": [
    "import pandas as pd\n",
    "import numpy as np\n",
    "import matplotlib.pyplot as plt\n",
    "\n",
    "%matplotlib inline\n",
    "\n",
    "plt.style.use('ggplot')\n",
    "plt.rcParams['figure.figsize'] = (12,5)"
   ]
  },
  {
   "cell_type": "markdown",
   "metadata": {},
   "source": [
    "# Пролог: Модуль sklearn\n",
    "На наших практических занятиях мы будем использовать [sklearn](http://scikit-learn.org/stable/index.html) (scikit-learn) - наиболее популярный модуль для работы с методами машинного обучения и анализа данных.\n",
    "\n",
    "Этот модуль регулярно обновляется, расширяется и сопровождается примерами использования тех или иных методов. Помимо самих алгоритмов (например k-средних или линейной регрессии) в нем есть множество вспомогательных функций по работе с данными."
   ]
  },
  {
   "cell_type": "markdown",
   "metadata": {},
   "source": [
    "# Туториал: Работа с различными типами признаков"
   ]
  },
  {
   "cell_type": "markdown",
   "metadata": {},
   "source": [
    "Вспомним, какие типы признаков могут встретится при описании объектов исследования и как их представить в доступной для обработки компьютером форме"
   ]
  },
  {
   "cell_type": "markdown",
   "metadata": {},
   "source": [
    "Типы признаков мы будем рассматривать на примере довольно популярного набора данных [titanic](https://www.kaggle.com/c/titanic/download/train.csv) - информации о выживаемости пассажиров после известной трагедии корабля Titanic."
   ]
  },
  {
   "cell_type": "raw",
   "metadata": {},
   "source": [
    "ARIABLE DESCRIPTIONS:\n",
    "survival        Survival\n",
    "                (0 = No; 1 = Yes)\n",
    "pclass          Passenger Class\n",
    "                (1 = 1st; 2 = 2nd; 3 = 3rd)\n",
    "name            Name\n",
    "sex             Sex\n",
    "age             Age\n",
    "sibsp           Number of Siblings/Spouses Aboard\n",
    "parch           Number of Parents/Children Aboard\n",
    "ticket          Ticket Number\n",
    "fare            Passenger Fare\n",
    "cabin           Cabin\n",
    "embarked        Port of Embarkation\n",
    "                (C = Cherbourg; Q = Queenstown; S = Southampton)"
   ]
  },
  {
   "cell_type": "code",
   "execution_count": 2,
   "metadata": {},
   "outputs": [
    {
     "data": {
      "text/html": [
       "<div>\n",
       "<style>\n",
       "    .dataframe thead tr:only-child th {\n",
       "        text-align: right;\n",
       "    }\n",
       "\n",
       "    .dataframe thead th {\n",
       "        text-align: left;\n",
       "    }\n",
       "\n",
       "    .dataframe tbody tr th {\n",
       "        vertical-align: top;\n",
       "    }\n",
       "</style>\n",
       "<table border=\"1\" class=\"dataframe\">\n",
       "  <thead>\n",
       "    <tr style=\"text-align: right;\">\n",
       "      <th></th>\n",
       "      <th>PassengerId</th>\n",
       "      <th>Survived</th>\n",
       "      <th>Pclass</th>\n",
       "      <th>Name</th>\n",
       "      <th>Sex</th>\n",
       "      <th>Age</th>\n",
       "      <th>SibSp</th>\n",
       "      <th>Parch</th>\n",
       "      <th>Ticket</th>\n",
       "      <th>Fare</th>\n",
       "      <th>Cabin</th>\n",
       "      <th>Embarked</th>\n",
       "    </tr>\n",
       "  </thead>\n",
       "  <tbody>\n",
       "    <tr>\n",
       "      <th>1</th>\n",
       "      <td>2</td>\n",
       "      <td>1</td>\n",
       "      <td>1</td>\n",
       "      <td>Cumings, Mrs. John Bradley (Florence Briggs Th...</td>\n",
       "      <td>female</td>\n",
       "      <td>38.0</td>\n",
       "      <td>1</td>\n",
       "      <td>0</td>\n",
       "      <td>PC 17599</td>\n",
       "      <td>71.2833</td>\n",
       "      <td>C85</td>\n",
       "      <td>C</td>\n",
       "    </tr>\n",
       "    <tr>\n",
       "      <th>3</th>\n",
       "      <td>4</td>\n",
       "      <td>1</td>\n",
       "      <td>1</td>\n",
       "      <td>Futrelle, Mrs. Jacques Heath (Lily May Peel)</td>\n",
       "      <td>female</td>\n",
       "      <td>35.0</td>\n",
       "      <td>1</td>\n",
       "      <td>0</td>\n",
       "      <td>113803</td>\n",
       "      <td>53.1000</td>\n",
       "      <td>C123</td>\n",
       "      <td>S</td>\n",
       "    </tr>\n",
       "    <tr>\n",
       "      <th>6</th>\n",
       "      <td>7</td>\n",
       "      <td>0</td>\n",
       "      <td>1</td>\n",
       "      <td>McCarthy, Mr. Timothy J</td>\n",
       "      <td>male</td>\n",
       "      <td>54.0</td>\n",
       "      <td>0</td>\n",
       "      <td>0</td>\n",
       "      <td>17463</td>\n",
       "      <td>51.8625</td>\n",
       "      <td>E46</td>\n",
       "      <td>S</td>\n",
       "    </tr>\n",
       "    <tr>\n",
       "      <th>10</th>\n",
       "      <td>11</td>\n",
       "      <td>1</td>\n",
       "      <td>3</td>\n",
       "      <td>Sandstrom, Miss. Marguerite Rut</td>\n",
       "      <td>female</td>\n",
       "      <td>4.0</td>\n",
       "      <td>1</td>\n",
       "      <td>1</td>\n",
       "      <td>PP 9549</td>\n",
       "      <td>16.7000</td>\n",
       "      <td>G6</td>\n",
       "      <td>S</td>\n",
       "    </tr>\n",
       "    <tr>\n",
       "      <th>11</th>\n",
       "      <td>12</td>\n",
       "      <td>1</td>\n",
       "      <td>1</td>\n",
       "      <td>Bonnell, Miss. Elizabeth</td>\n",
       "      <td>female</td>\n",
       "      <td>58.0</td>\n",
       "      <td>0</td>\n",
       "      <td>0</td>\n",
       "      <td>113783</td>\n",
       "      <td>26.5500</td>\n",
       "      <td>C103</td>\n",
       "      <td>S</td>\n",
       "    </tr>\n",
       "  </tbody>\n",
       "</table>\n",
       "</div>"
      ],
      "text/plain": [
       "    PassengerId  Survived  Pclass  \\\n",
       "1             2         1       1   \n",
       "3             4         1       1   \n",
       "6             7         0       1   \n",
       "10           11         1       3   \n",
       "11           12         1       1   \n",
       "\n",
       "                                                 Name     Sex   Age  SibSp  \\\n",
       "1   Cumings, Mrs. John Bradley (Florence Briggs Th...  female  38.0      1   \n",
       "3        Futrelle, Mrs. Jacques Heath (Lily May Peel)  female  35.0      1   \n",
       "6                             McCarthy, Mr. Timothy J    male  54.0      0   \n",
       "10                    Sandstrom, Miss. Marguerite Rut  female   4.0      1   \n",
       "11                           Bonnell, Miss. Elizabeth  female  58.0      0   \n",
       "\n",
       "    Parch    Ticket     Fare Cabin Embarked  \n",
       "1       0  PC 17599  71.2833   C85        C  \n",
       "3       0    113803  53.1000  C123        S  \n",
       "6       0     17463  51.8625   E46        S  \n",
       "10      1   PP 9549  16.7000    G6        S  \n",
       "11      0    113783  26.5500  C103        S  "
      ]
     },
     "execution_count": 2,
     "metadata": {},
     "output_type": "execute_result"
    }
   ],
   "source": [
    "df_titanic = pd.read_csv('train.csv', sep=',').dropna()\n",
    "df_titanic.head()"
   ]
  },
  {
   "cell_type": "markdown",
   "metadata": {},
   "source": [
    "## Бинарные признаки\n",
    "Это признаки с двумя возможными значениями\n",
    "* Пол (мужской, женский)\n",
    "* Выжил (да, нет)\n",
    "\n",
    "На вход в алгоритмы обычно подаются в виде значений `{0, 1}` (реже в виде `{-1, 1}`)"
   ]
  },
  {
   "cell_type": "code",
   "execution_count": 3,
   "metadata": {},
   "outputs": [
    {
     "data": {
      "text/plain": [
       "1    123\n",
       "0     60\n",
       "Name: Survived, dtype: int64"
      ]
     },
     "execution_count": 3,
     "metadata": {},
     "output_type": "execute_result"
    }
   ],
   "source": [
    "# Здесь все нормально\n",
    "df_titanic.Survived.value_counts()"
   ]
  },
  {
   "cell_type": "code",
   "execution_count": 4,
   "metadata": {},
   "outputs": [
    {
     "data": {
      "text/plain": [
       "male      95\n",
       "female    88\n",
       "Name: Sex, dtype: int64"
      ]
     },
     "execution_count": 4,
     "metadata": {},
     "output_type": "execute_result"
    }
   ],
   "source": [
    "# Тут стоит выполнить переобознаение\n",
    "df_titanic.Sex.value_counts()"
   ]
  },
  {
   "cell_type": "code",
   "execution_count": 5,
   "metadata": {},
   "outputs": [
    {
     "data": {
      "text/plain": [
       "0    95\n",
       "1    88\n",
       "Name: Sex, dtype: int64"
      ]
     },
     "execution_count": 5,
     "metadata": {},
     "output_type": "execute_result"
    }
   ],
   "source": [
    "# Например так\n",
    "df_titanic.Sex = df_titanic.Sex.replace({'male': 0, 'female': 1})\n",
    "df_titanic.Sex.value_counts()"
   ]
  },
  {
   "cell_type": "markdown",
   "metadata": {},
   "source": [
    "## Вещественные признаки\n",
    "\n",
    "* Возраст\n",
    "* Сумма, потраченная на билет\n",
    "* Количество родственников на борту\n",
    "\n",
    "Как правило остаются в том же виде или выполняется **нормализация** признаков, т.е. переход к одинаковой шкале, например:\n",
    "\n",
    "* $\\tilde{x} = \\frac{x - \\text{mean}(x)}{\\text{std}(x)}$\n",
    "* $\\tilde{x} = \\frac{x - \\text{min}(x)}{\\text{max}(x) - \\text{min}(x)}$"
   ]
  },
  {
   "cell_type": "markdown",
   "metadata": {},
   "source": [
    "## Категориальные признаки\n",
    "\n",
    "Принимают значения из *неупорядоченного* множества\n",
    "\n",
    "* Порт погрузки (C = Cherbourg; Q = Queenstown; S = Southampton)\n",
    "* Точка отправления (St Louis, MO; Montreal, PQ; .. }\n",
    "* Точка назначения (Chesterville, ON; Roseville, IL; .. }\n",
    "\n",
    "Обычно такие признаки кодируют с помощью так называемого One Hot Encoding: </br>\n",
    "для каждой категории создается бинарная маска-столбец, в которой стоит `1` если значение признака равно значению соответствующей категории категории.\n",
    "\n",
    "Например, для признака \"порт погрзки\" создается бинарная макска из трех стобцов для каждого из портов: С, Q, S<br/>\n",
    "Если пассажир заходил на кораблю в порту Southampton, то его признаковое описание будет соответственно: `[0, 0, 1]`"
   ]
  },
  {
   "cell_type": "code",
   "execution_count": 6,
   "metadata": {},
   "outputs": [
    {
     "data": {
      "text/plain": [
       "1     C\n",
       "3     S\n",
       "6     S\n",
       "10    S\n",
       "11    S\n",
       "Name: Embarked, dtype: object"
      ]
     },
     "execution_count": 6,
     "metadata": {},
     "output_type": "execute_result"
    }
   ],
   "source": [
    "df_titanic.Embarked.head()"
   ]
  },
  {
   "cell_type": "code",
   "execution_count": 7,
   "metadata": {},
   "outputs": [
    {
     "data": {
      "text/html": [
       "<div>\n",
       "<style>\n",
       "    .dataframe thead tr:only-child th {\n",
       "        text-align: right;\n",
       "    }\n",
       "\n",
       "    .dataframe thead th {\n",
       "        text-align: left;\n",
       "    }\n",
       "\n",
       "    .dataframe tbody tr th {\n",
       "        vertical-align: top;\n",
       "    }\n",
       "</style>\n",
       "<table border=\"1\" class=\"dataframe\">\n",
       "  <thead>\n",
       "    <tr style=\"text-align: right;\">\n",
       "      <th></th>\n",
       "      <th>Embarked=C</th>\n",
       "      <th>Embarked=Q</th>\n",
       "      <th>Embarked=S</th>\n",
       "    </tr>\n",
       "  </thead>\n",
       "  <tbody>\n",
       "    <tr>\n",
       "      <th>1</th>\n",
       "      <td>1</td>\n",
       "      <td>0</td>\n",
       "      <td>0</td>\n",
       "    </tr>\n",
       "    <tr>\n",
       "      <th>3</th>\n",
       "      <td>0</td>\n",
       "      <td>0</td>\n",
       "      <td>1</td>\n",
       "    </tr>\n",
       "    <tr>\n",
       "      <th>6</th>\n",
       "      <td>0</td>\n",
       "      <td>0</td>\n",
       "      <td>1</td>\n",
       "    </tr>\n",
       "    <tr>\n",
       "      <th>10</th>\n",
       "      <td>0</td>\n",
       "      <td>0</td>\n",
       "      <td>1</td>\n",
       "    </tr>\n",
       "    <tr>\n",
       "      <th>11</th>\n",
       "      <td>0</td>\n",
       "      <td>0</td>\n",
       "      <td>1</td>\n",
       "    </tr>\n",
       "  </tbody>\n",
       "</table>\n",
       "</div>"
      ],
      "text/plain": [
       "    Embarked=C  Embarked=Q  Embarked=S\n",
       "1            1           0           0\n",
       "3            0           0           1\n",
       "6            0           0           1\n",
       "10           0           0           1\n",
       "11           0           0           1"
      ]
     },
     "execution_count": 7,
     "metadata": {},
     "output_type": "execute_result"
    }
   ],
   "source": [
    "# Сделать в python это можно несколькими способами:\n",
    "\n",
    "# 1: Через pandas (не очень рекомендуется)\n",
    "emb = pd.get_dummies(df_titanic.Embarked, prefix='Embarked', prefix_sep='=')\n",
    "emb.head()"
   ]
  },
  {
   "cell_type": "code",
   "execution_count": 8,
   "metadata": {},
   "outputs": [
    {
     "data": {
      "text/plain": [
       "array([[ 1.,  0.,  0.],\n",
       "       [ 0.,  0.,  1.],\n",
       "       [ 0.,  0.,  1.],\n",
       "       [ 0.,  0.,  1.],\n",
       "       [ 0.,  0.,  1.]])"
      ]
     },
     "execution_count": 8,
     "metadata": {},
     "output_type": "execute_result"
    }
   ],
   "source": [
    "# 2: Функционал sklearn\n",
    "from sklearn.preprocessing import OneHotEncoder\n",
    "\n",
    "encoder = OneHotEncoder(sparse=False)\n",
    "\n",
    "emb = df_titanic.loc[:, ['Embarked']].replace({'C': 0, 'Q': 1, 'S': 2}).values\n",
    "emb_enc = encoder.fit_transform(emb)\n",
    "emb_enc[:5]"
   ]
  },
  {
   "cell_type": "markdown",
   "metadata": {},
   "source": [
    "Про другием способы работы с категориальными переменными можно прочитать вот [тут](https://alexanderdyakonov.wordpress.com/2016/08/03/python-%D0%BA%D0%B0%D1%82%D0%B5%D0%B3%D0%BE%D1%80%D0%B8%D0%B0%D0%BB%D1%8C%D0%BD%D1%8B%D0%B5-%D0%BF%D1%80%D0%B8%D0%B7%D0%BD%D0%B0%D0%BA%D0%B8/)"
   ]
  },
  {
   "cell_type": "markdown",
   "metadata": {},
   "source": [
    "## Порядковый признаки"
   ]
  },
  {
   "cell_type": "markdown",
   "metadata": {},
   "source": [
    "Принимают значения из *упорядоченного* множества\n",
    "\n",
    "* Класс каюты (1 > 2 > 3)\n",
    "\n",
    "В зависимости от метода остаются можно оставить в исходном виде или применить OneHotEncoding."
   ]
  },
  {
   "cell_type": "markdown",
   "metadata": {},
   "source": [
    "## Текстовые признаки - Bag of words"
   ]
  },
  {
   "cell_type": "markdown",
   "metadata": {},
   "source": [
    "Для демонстрации возьмем текст стихотворения Блока:\n",
    "\n",
    "Ночь, улица, фонарь, аптека,<br/>\n",
    "Бессмысленный и тусклый свет.<br/>\n",
    "Живи еще хоть четверть века -<br/>\n",
    "Все будет так. Исхода нет.<br/>\n",
    "\n",
    "Умрешь - начнешь опять сначала<br/>\n",
    "И повторится все, как встарь:<br/>\n",
    "Ночь, ледяная рябь канала,<br/>\n",
    "Аптека, улица, фонарь.<br/>\n",
    "\n",
    "Пусть каждая строчка - это будет условный документ. Переведем эти документы в числовое представление по методу мешка слов (Bag Of Words)"
   ]
  },
  {
   "cell_type": "code",
   "execution_count": 9,
   "metadata": {},
   "outputs": [],
   "source": [
    "from sklearn.feature_extraction.text import CountVectorizer\n",
    "from sklearn.feature_extraction.text import TfidfVectorizer\n",
    "\n",
    "corpus = \\\n",
    "[u'Ночь, улица, фонарь, аптека,',\n",
    " u'Бессмысленный и тусклый свет.',\n",
    " u'Живи еще хоть четверть века -',\n",
    " u'Все будет так. Исхода нет.',\n",
    " u'Умрешь - начнешь опять сначала',\n",
    " u'И повторится все, как встарь:',\n",
    " u'Ночь, ледяная рябь канала,',\n",
    " u'Аптека, улица, фонарь.']"
   ]
  },
  {
   "cell_type": "code",
   "execution_count": 10,
   "metadata": {},
   "outputs": [
    {
     "data": {
      "text/plain": [
       "(8, 27)"
      ]
     },
     "execution_count": 10,
     "metadata": {},
     "output_type": "execute_result"
    }
   ],
   "source": [
    "vect = CountVectorizer()\n",
    "\n",
    "bow = vect.fit_transform(corpus)\n",
    "# print(bow)\n",
    "bow = bow.toarray()\n",
    "bow.shape"
   ]
  },
  {
   "cell_type": "markdown",
   "metadata": {},
   "source": [
    "Получили матрицу размера $8 \\times 27$, так как у нас 8 строчек и выделилось 27 униальных слов. Элемент матрицы показывает сколько раз слово встречалось в соответствующем документе."
   ]
  },
  {
   "cell_type": "code",
   "execution_count": 11,
   "metadata": {},
   "outputs": [
    {
     "data": {
      "text/plain": [
       "array([[1, 0, 0, 0, 0, 0, 0, 0, 0, 0, 0, 0, 0, 0, 1, 0, 0, 0, 0, 0, 0, 0,\n",
       "        1, 0, 1, 0, 0],\n",
       "       [0, 1, 0, 0, 0, 0, 0, 0, 0, 0, 0, 0, 0, 0, 0, 0, 0, 0, 1, 0, 0, 1,\n",
       "        0, 0, 0, 0, 0],\n",
       "       [0, 0, 0, 1, 0, 0, 1, 1, 0, 0, 0, 0, 0, 0, 0, 0, 0, 0, 0, 0, 0, 0,\n",
       "        0, 0, 0, 1, 1],\n",
       "       [0, 0, 1, 0, 1, 0, 0, 0, 1, 0, 0, 0, 0, 1, 0, 0, 0, 0, 0, 0, 1, 0,\n",
       "        0, 0, 0, 0, 0],\n",
       "       [0, 0, 0, 0, 0, 0, 0, 0, 0, 0, 0, 0, 1, 0, 0, 1, 0, 0, 0, 1, 0, 0,\n",
       "        0, 1, 0, 0, 0],\n",
       "       [0, 0, 0, 0, 1, 1, 0, 0, 0, 1, 0, 0, 0, 0, 0, 0, 1, 0, 0, 0, 0, 0,\n",
       "        0, 0, 0, 0, 0],\n",
       "       [0, 0, 0, 0, 0, 0, 0, 0, 0, 0, 1, 1, 0, 0, 1, 0, 0, 1, 0, 0, 0, 0,\n",
       "        0, 0, 0, 0, 0],\n",
       "       [1, 0, 0, 0, 0, 0, 0, 0, 0, 0, 0, 0, 0, 0, 0, 0, 0, 0, 0, 0, 0, 0,\n",
       "        1, 0, 1, 0, 0]])"
      ]
     },
     "execution_count": 11,
     "metadata": {},
     "output_type": "execute_result"
    }
   ],
   "source": [
    "bow"
   ]
  },
  {
   "cell_type": "code",
   "execution_count": 12,
   "metadata": {},
   "outputs": [
    {
     "name": "stdout",
     "output_type": "stream",
     "text": [
      "столбец 0: аптека\n",
      "столбец 1: бессмысленный\n",
      "столбец 2: будет\n",
      "столбец 3: века\n",
      "столбец 4: все\n",
      "столбец 5: встарь\n",
      "столбец 6: еще\n",
      "столбец 7: живи\n",
      "столбец 8: исхода\n",
      "столбец 9: как\n",
      "столбец 10: канала\n",
      "столбец 11: ледяная\n",
      "столбец 12: начнешь\n",
      "столбец 13: нет\n",
      "столбец 14: ночь\n",
      "столбец 15: опять\n",
      "столбец 16: повторится\n",
      "столбец 17: рябь\n",
      "столбец 18: свет\n",
      "столбец 19: сначала\n",
      "столбец 20: так\n",
      "столбец 21: тусклый\n",
      "столбец 22: улица\n",
      "столбец 23: умрешь\n",
      "столбец 24: фонарь\n",
      "столбец 25: хоть\n",
      "столбец 26: четверть\n"
     ]
    }
   ],
   "source": [
    "# Посмотрим какие слова стоят по столбцам\n",
    "for i, w in enumerate(vect.get_feature_names()):\n",
    "    print u'столбец %d: %s' % (i, w)"
   ]
  },
  {
   "cell_type": "markdown",
   "metadata": {},
   "source": [
    "# Туториал: Имплементация собственного метода"
   ]
  },
  {
   "cell_type": "markdown",
   "metadata": {},
   "source": [
    "Для решения задач вида \"имплементируйте метод X\" крайне желательно (но необязательно) реализовывать методы с помощью интерфейса sklearn. Ниже вы увидите пример очень простого **классификатора**. Используйте эти наработи для выполнения задания."
   ]
  },
  {
   "cell_type": "markdown",
   "metadata": {},
   "source": [
    "Загрузите [датасет](https://archive.ics.uci.edu/ml/machine-learning-databases/wine-quality/winequality-red.csv) с информацией о характеристиках вина и его качестве. (В метод `pd.read_csv()` можно подать веб-ссылку на данные и пандас их скачает и преобразует в `DataFrame`)."
   ]
  },
  {
   "cell_type": "code",
   "execution_count": 13,
   "metadata": {},
   "outputs": [],
   "source": [
    "df_wine = pd.read_csv('https://archive.ics.uci.edu/ml/machine-learning-databases/wine-quality/winequality-red.csv', sep=';')"
   ]
  },
  {
   "cell_type": "code",
   "execution_count": 14,
   "metadata": {},
   "outputs": [
    {
     "data": {
      "text/html": [
       "<div>\n",
       "<style>\n",
       "    .dataframe thead tr:only-child th {\n",
       "        text-align: right;\n",
       "    }\n",
       "\n",
       "    .dataframe thead th {\n",
       "        text-align: left;\n",
       "    }\n",
       "\n",
       "    .dataframe tbody tr th {\n",
       "        vertical-align: top;\n",
       "    }\n",
       "</style>\n",
       "<table border=\"1\" class=\"dataframe\">\n",
       "  <thead>\n",
       "    <tr style=\"text-align: right;\">\n",
       "      <th></th>\n",
       "      <th>fixed acidity</th>\n",
       "      <th>volatile acidity</th>\n",
       "      <th>citric acid</th>\n",
       "      <th>residual sugar</th>\n",
       "      <th>chlorides</th>\n",
       "      <th>free sulfur dioxide</th>\n",
       "      <th>total sulfur dioxide</th>\n",
       "      <th>density</th>\n",
       "      <th>pH</th>\n",
       "      <th>sulphates</th>\n",
       "      <th>alcohol</th>\n",
       "      <th>quality</th>\n",
       "    </tr>\n",
       "  </thead>\n",
       "  <tbody>\n",
       "    <tr>\n",
       "      <th>0</th>\n",
       "      <td>7.4</td>\n",
       "      <td>0.70</td>\n",
       "      <td>0.00</td>\n",
       "      <td>1.9</td>\n",
       "      <td>0.076</td>\n",
       "      <td>11.0</td>\n",
       "      <td>34.0</td>\n",
       "      <td>0.9978</td>\n",
       "      <td>3.51</td>\n",
       "      <td>0.56</td>\n",
       "      <td>9.4</td>\n",
       "      <td>5</td>\n",
       "    </tr>\n",
       "    <tr>\n",
       "      <th>1</th>\n",
       "      <td>7.8</td>\n",
       "      <td>0.88</td>\n",
       "      <td>0.00</td>\n",
       "      <td>2.6</td>\n",
       "      <td>0.098</td>\n",
       "      <td>25.0</td>\n",
       "      <td>67.0</td>\n",
       "      <td>0.9968</td>\n",
       "      <td>3.20</td>\n",
       "      <td>0.68</td>\n",
       "      <td>9.8</td>\n",
       "      <td>5</td>\n",
       "    </tr>\n",
       "    <tr>\n",
       "      <th>2</th>\n",
       "      <td>7.8</td>\n",
       "      <td>0.76</td>\n",
       "      <td>0.04</td>\n",
       "      <td>2.3</td>\n",
       "      <td>0.092</td>\n",
       "      <td>15.0</td>\n",
       "      <td>54.0</td>\n",
       "      <td>0.9970</td>\n",
       "      <td>3.26</td>\n",
       "      <td>0.65</td>\n",
       "      <td>9.8</td>\n",
       "      <td>5</td>\n",
       "    </tr>\n",
       "    <tr>\n",
       "      <th>3</th>\n",
       "      <td>11.2</td>\n",
       "      <td>0.28</td>\n",
       "      <td>0.56</td>\n",
       "      <td>1.9</td>\n",
       "      <td>0.075</td>\n",
       "      <td>17.0</td>\n",
       "      <td>60.0</td>\n",
       "      <td>0.9980</td>\n",
       "      <td>3.16</td>\n",
       "      <td>0.58</td>\n",
       "      <td>9.8</td>\n",
       "      <td>6</td>\n",
       "    </tr>\n",
       "    <tr>\n",
       "      <th>4</th>\n",
       "      <td>7.4</td>\n",
       "      <td>0.70</td>\n",
       "      <td>0.00</td>\n",
       "      <td>1.9</td>\n",
       "      <td>0.076</td>\n",
       "      <td>11.0</td>\n",
       "      <td>34.0</td>\n",
       "      <td>0.9978</td>\n",
       "      <td>3.51</td>\n",
       "      <td>0.56</td>\n",
       "      <td>9.4</td>\n",
       "      <td>5</td>\n",
       "    </tr>\n",
       "  </tbody>\n",
       "</table>\n",
       "</div>"
      ],
      "text/plain": [
       "   fixed acidity  volatile acidity  citric acid  residual sugar  chlorides  \\\n",
       "0            7.4              0.70         0.00             1.9      0.076   \n",
       "1            7.8              0.88         0.00             2.6      0.098   \n",
       "2            7.8              0.76         0.04             2.3      0.092   \n",
       "3           11.2              0.28         0.56             1.9      0.075   \n",
       "4            7.4              0.70         0.00             1.9      0.076   \n",
       "\n",
       "   free sulfur dioxide  total sulfur dioxide  density    pH  sulphates  \\\n",
       "0                 11.0                  34.0   0.9978  3.51       0.56   \n",
       "1                 25.0                  67.0   0.9968  3.20       0.68   \n",
       "2                 15.0                  54.0   0.9970  3.26       0.65   \n",
       "3                 17.0                  60.0   0.9980  3.16       0.58   \n",
       "4                 11.0                  34.0   0.9978  3.51       0.56   \n",
       "\n",
       "   alcohol  quality  \n",
       "0      9.4        5  \n",
       "1      9.8        5  \n",
       "2      9.8        5  \n",
       "3      9.8        6  \n",
       "4      9.4        5  "
      ]
     },
     "execution_count": 14,
     "metadata": {},
     "output_type": "execute_result"
    }
   ],
   "source": [
    "df_wine.head()"
   ]
  },
  {
   "cell_type": "markdown",
   "metadata": {},
   "source": [
    "Наша задача состоит в предсказании целевого признака `quality` по остальным признакам. `quality` - это вещественная переменная (оценка качества от 0 до 10). Упростим себе задачу - создадим новый столбец `quality_cat` по следующим правилам:\n",
    "\n",
    "* `quality_cat = 1` если `quality > 5` \n",
    "* `quality_cat = 0` - иначе \n",
    "\n",
    "Таким образом, `quality_cat` характерует \"плохое\" и \"хорошее\" вино."
   ]
  },
  {
   "cell_type": "code",
   "execution_count": 15,
   "metadata": {},
   "outputs": [],
   "source": [
    "def prepocess_wine(df):\n",
    "    df.loc[:, 'quality_cat'] = (df.loc[:, 'quality'] > 5).astype(int)\n",
    "    df = df.drop('quality', axis=1)\n",
    "    \n",
    "    return df"
   ]
  },
  {
   "cell_type": "code",
   "execution_count": 16,
   "metadata": {},
   "outputs": [
    {
     "data": {
      "text/html": [
       "<div>\n",
       "<style>\n",
       "    .dataframe thead tr:only-child th {\n",
       "        text-align: right;\n",
       "    }\n",
       "\n",
       "    .dataframe thead th {\n",
       "        text-align: left;\n",
       "    }\n",
       "\n",
       "    .dataframe tbody tr th {\n",
       "        vertical-align: top;\n",
       "    }\n",
       "</style>\n",
       "<table border=\"1\" class=\"dataframe\">\n",
       "  <thead>\n",
       "    <tr style=\"text-align: right;\">\n",
       "      <th></th>\n",
       "      <th>fixed acidity</th>\n",
       "      <th>volatile acidity</th>\n",
       "      <th>citric acid</th>\n",
       "      <th>residual sugar</th>\n",
       "      <th>chlorides</th>\n",
       "      <th>free sulfur dioxide</th>\n",
       "      <th>total sulfur dioxide</th>\n",
       "      <th>density</th>\n",
       "      <th>pH</th>\n",
       "      <th>sulphates</th>\n",
       "      <th>alcohol</th>\n",
       "      <th>quality_cat</th>\n",
       "    </tr>\n",
       "  </thead>\n",
       "  <tbody>\n",
       "    <tr>\n",
       "      <th>0</th>\n",
       "      <td>7.4</td>\n",
       "      <td>0.70</td>\n",
       "      <td>0.00</td>\n",
       "      <td>1.9</td>\n",
       "      <td>0.076</td>\n",
       "      <td>11.0</td>\n",
       "      <td>34.0</td>\n",
       "      <td>0.9978</td>\n",
       "      <td>3.51</td>\n",
       "      <td>0.56</td>\n",
       "      <td>9.4</td>\n",
       "      <td>0</td>\n",
       "    </tr>\n",
       "    <tr>\n",
       "      <th>1</th>\n",
       "      <td>7.8</td>\n",
       "      <td>0.88</td>\n",
       "      <td>0.00</td>\n",
       "      <td>2.6</td>\n",
       "      <td>0.098</td>\n",
       "      <td>25.0</td>\n",
       "      <td>67.0</td>\n",
       "      <td>0.9968</td>\n",
       "      <td>3.20</td>\n",
       "      <td>0.68</td>\n",
       "      <td>9.8</td>\n",
       "      <td>0</td>\n",
       "    </tr>\n",
       "    <tr>\n",
       "      <th>2</th>\n",
       "      <td>7.8</td>\n",
       "      <td>0.76</td>\n",
       "      <td>0.04</td>\n",
       "      <td>2.3</td>\n",
       "      <td>0.092</td>\n",
       "      <td>15.0</td>\n",
       "      <td>54.0</td>\n",
       "      <td>0.9970</td>\n",
       "      <td>3.26</td>\n",
       "      <td>0.65</td>\n",
       "      <td>9.8</td>\n",
       "      <td>0</td>\n",
       "    </tr>\n",
       "    <tr>\n",
       "      <th>3</th>\n",
       "      <td>11.2</td>\n",
       "      <td>0.28</td>\n",
       "      <td>0.56</td>\n",
       "      <td>1.9</td>\n",
       "      <td>0.075</td>\n",
       "      <td>17.0</td>\n",
       "      <td>60.0</td>\n",
       "      <td>0.9980</td>\n",
       "      <td>3.16</td>\n",
       "      <td>0.58</td>\n",
       "      <td>9.8</td>\n",
       "      <td>1</td>\n",
       "    </tr>\n",
       "    <tr>\n",
       "      <th>4</th>\n",
       "      <td>7.4</td>\n",
       "      <td>0.70</td>\n",
       "      <td>0.00</td>\n",
       "      <td>1.9</td>\n",
       "      <td>0.076</td>\n",
       "      <td>11.0</td>\n",
       "      <td>34.0</td>\n",
       "      <td>0.9978</td>\n",
       "      <td>3.51</td>\n",
       "      <td>0.56</td>\n",
       "      <td>9.4</td>\n",
       "      <td>0</td>\n",
       "    </tr>\n",
       "  </tbody>\n",
       "</table>\n",
       "</div>"
      ],
      "text/plain": [
       "   fixed acidity  volatile acidity  citric acid  residual sugar  chlorides  \\\n",
       "0            7.4              0.70         0.00             1.9      0.076   \n",
       "1            7.8              0.88         0.00             2.6      0.098   \n",
       "2            7.8              0.76         0.04             2.3      0.092   \n",
       "3           11.2              0.28         0.56             1.9      0.075   \n",
       "4            7.4              0.70         0.00             1.9      0.076   \n",
       "\n",
       "   free sulfur dioxide  total sulfur dioxide  density    pH  sulphates  \\\n",
       "0                 11.0                  34.0   0.9978  3.51       0.56   \n",
       "1                 25.0                  67.0   0.9968  3.20       0.68   \n",
       "2                 15.0                  54.0   0.9970  3.26       0.65   \n",
       "3                 17.0                  60.0   0.9980  3.16       0.58   \n",
       "4                 11.0                  34.0   0.9978  3.51       0.56   \n",
       "\n",
       "   alcohol  quality_cat  \n",
       "0      9.4            0  \n",
       "1      9.8            0  \n",
       "2      9.8            0  \n",
       "3      9.8            1  \n",
       "4      9.4            0  "
      ]
     },
     "execution_count": 16,
     "metadata": {},
     "output_type": "execute_result"
    }
   ],
   "source": [
    "df_wine = df_wine.pipe(prepocess_wine)\n",
    "df_wine.head()"
   ]
  },
  {
   "cell_type": "markdown",
   "metadata": {},
   "source": [
    "Нарисуем распределение хорошего и плохого вина по признаку `alcohol`."
   ]
  },
  {
   "cell_type": "code",
   "execution_count": 17,
   "metadata": {},
   "outputs": [
    {
     "data": {
      "text/plain": [
       "<matplotlib.legend.Legend at 0x7f89f8b47bd0>"
      ]
     },
     "execution_count": 17,
     "metadata": {},
     "output_type": "execute_result"
    },
    {
     "data": {
      "image/png": "[encoded data removed]",
      "text/plain": [
       "<matplotlib.figure.Figure at 0x7f89bd1b2650>"
      ]
     },
     "metadata": {},
     "output_type": "display_data"
    }
   ],
   "source": [
    "_, ax = plt.subplots(1,1)\n",
    "df_wine.query('quality_cat == 1').hist('alcohol', alpha=0.3, bins=20, label='good', ax=ax)\n",
    "df_wine.query('quality_cat == 0').hist('alcohol', alpha=0.3, bins=20, label='bad', ax=ax)\n",
    "ax.set_xlabel('alcohol')\n",
    "ax.set_ylabel('count')\n",
    "plt.legend()"
   ]
  },
  {
   "cell_type": "markdown",
   "metadata": {},
   "source": [
    "Визуально кажется, что можно найти некоторое пороговое значение признака `alcohol` $\\theta$, чтобы хорошо дискриминировать между плохими и хорошим вином:\n",
    "* Если `alcohol >` $\\theta$ - то предсказываем, что вино хорошее\n",
    "* Если `alcohol <=` $\\theta$ - то предсказываем, что вино плохое\n",
    "\n",
    "Обучаеть классификатор будем очень просто: перебирать значения признака alchol и считать **ошибку** классификации. То значение, где ошибка минимальна и будет оптимальным.\n",
    "\n",
    "Разделим целевой признак от остальных признаков"
   ]
  },
  {
   "cell_type": "code",
   "execution_count": 18,
   "metadata": {},
   "outputs": [],
   "source": [
    "X, y = df_wine.iloc[:, :-1].values, df_wine.iloc[:, -1].values"
   ]
  },
  {
   "cell_type": "markdown",
   "metadata": {},
   "source": [
    "Далее вы увидете пример реализации этого простого классификатора."
   ]
  },
  {
   "cell_type": "code",
   "execution_count": 19,
   "metadata": {},
   "outputs": [],
   "source": [
    "from sklearn.base import BaseEstimator, ClassifierMixin\n",
    "\n",
    "class SimpleClassifier(BaseEstimator, ClassifierMixin): \n",
    "    \n",
    "    def __init__(self):\n",
    "        \"\"\"\n",
    "        Инициализация метода\n",
    "        \"\"\"\n",
    "        \n",
    "        self.threshold = 0\n",
    "\n",
    "    def fit(self, X, y=None):\n",
    "        \"\"\"\n",
    "        Выполняет процедуру обучения классификатора. В данном случае - перебор занчения признака alcohol.\n",
    "        Договоримся, что признак alcohol будет в последнем столбце матрицы X\n",
    "        \"\"\"\n",
    "        \n",
    "        alcohol = X[:,-1]\n",
    "        n = float(y.shape[0])\n",
    "        \n",
    "        # Задаем пространство поиска\n",
    "        alco_range = np.arange(alcohol.min(), alcohol.max(), 0.1)\n",
    "        \n",
    "        min_error_rate = 1\n",
    "                \n",
    "        #  Начинаем поиск\n",
    "        for theta in alco_range:\n",
    "            prediction = alcohol > theta\n",
    "            \n",
    "            error_rate = sum(prediction != y)/n\n",
    "            \n",
    "            if error_rate < min_error_rate:\n",
    "                min_error_rate = error_rate\n",
    "                self.threshold = theta  \n",
    "        \n",
    "        return self\n",
    "\n",
    "    def predict(self, X, y=None):\n",
    "        \"\"\"\n",
    "        Процедура предсказания класса по обученному порогу\n",
    "        \"\"\"\n",
    "        \n",
    "        return (X[:,-1] > self.threshold).astype(int)"
   ]
  },
  {
   "cell_type": "markdown",
   "metadata": {},
   "source": [
    "Обучаем модель"
   ]
  },
  {
   "cell_type": "code",
   "execution_count": 20,
   "metadata": {},
   "outputs": [
    {
     "name": "stdout",
     "output_type": "stream",
     "text": [
      "Оптимальный порог: 10.000000\n"
     ]
    }
   ],
   "source": [
    "model = SimpleClassifier()\n",
    "model.fit(X, y)\n",
    "\n",
    "print 'Оптимальный порог: %f' % model.threshold"
   ]
  },
  {
   "cell_type": "markdown",
   "metadata": {},
   "source": [
    "Получаем предсказание модели (на обучающей выборке)"
   ]
  },
  {
   "cell_type": "code",
   "execution_count": 21,
   "metadata": {},
   "outputs": [],
   "source": [
    "y_hat = model.predict(X)"
   ]
  },
  {
   "cell_type": "markdown",
   "metadata": {},
   "source": [
    "Оценим долю ошибок на обучающей выборке"
   ]
  },
  {
   "cell_type": "code",
   "execution_count": 22,
   "metadata": {},
   "outputs": [
    {
     "name": "stdout",
     "output_type": "stream",
     "text": [
      "Доля ошибок на обучающей выборке: 0.295184\n"
     ]
    }
   ],
   "source": [
    "error_rate = sum(y_hat != y)/float(y.shape[0])\n",
    "print 'Доля ошибок на обучающей выборке: %f' % error_rate"
   ]
  },
  {
   "cell_type": "markdown",
   "metadata": {},
   "source": [
    "## Проверка метода на контрольной выборке\n",
    "\n",
    "Мы обучили наш метод на данных о красном виде. \n",
    "\n",
    "Посмотрим, выполняется ли так же хорошо закономерность между качеством и уровнем алкоголя в белом вине."
   ]
  },
  {
   "cell_type": "code",
   "execution_count": 23,
   "metadata": {},
   "outputs": [
    {
     "data": {
      "text/html": [
       "<div>\n",
       "<style>\n",
       "    .dataframe thead tr:only-child th {\n",
       "        text-align: right;\n",
       "    }\n",
       "\n",
       "    .dataframe thead th {\n",
       "        text-align: left;\n",
       "    }\n",
       "\n",
       "    .dataframe tbody tr th {\n",
       "        vertical-align: top;\n",
       "    }\n",
       "</style>\n",
       "<table border=\"1\" class=\"dataframe\">\n",
       "  <thead>\n",
       "    <tr style=\"text-align: right;\">\n",
       "      <th></th>\n",
       "      <th>fixed acidity</th>\n",
       "      <th>volatile acidity</th>\n",
       "      <th>citric acid</th>\n",
       "      <th>residual sugar</th>\n",
       "      <th>chlorides</th>\n",
       "      <th>free sulfur dioxide</th>\n",
       "      <th>total sulfur dioxide</th>\n",
       "      <th>density</th>\n",
       "      <th>pH</th>\n",
       "      <th>sulphates</th>\n",
       "      <th>alcohol</th>\n",
       "      <th>quality_cat</th>\n",
       "    </tr>\n",
       "  </thead>\n",
       "  <tbody>\n",
       "    <tr>\n",
       "      <th>0</th>\n",
       "      <td>7.0</td>\n",
       "      <td>0.27</td>\n",
       "      <td>0.36</td>\n",
       "      <td>20.7</td>\n",
       "      <td>0.045</td>\n",
       "      <td>45.0</td>\n",
       "      <td>170.0</td>\n",
       "      <td>1.0010</td>\n",
       "      <td>3.00</td>\n",
       "      <td>0.45</td>\n",
       "      <td>8.8</td>\n",
       "      <td>1</td>\n",
       "    </tr>\n",
       "    <tr>\n",
       "      <th>1</th>\n",
       "      <td>6.3</td>\n",
       "      <td>0.30</td>\n",
       "      <td>0.34</td>\n",
       "      <td>1.6</td>\n",
       "      <td>0.049</td>\n",
       "      <td>14.0</td>\n",
       "      <td>132.0</td>\n",
       "      <td>0.9940</td>\n",
       "      <td>3.30</td>\n",
       "      <td>0.49</td>\n",
       "      <td>9.5</td>\n",
       "      <td>1</td>\n",
       "    </tr>\n",
       "    <tr>\n",
       "      <th>2</th>\n",
       "      <td>8.1</td>\n",
       "      <td>0.28</td>\n",
       "      <td>0.40</td>\n",
       "      <td>6.9</td>\n",
       "      <td>0.050</td>\n",
       "      <td>30.0</td>\n",
       "      <td>97.0</td>\n",
       "      <td>0.9951</td>\n",
       "      <td>3.26</td>\n",
       "      <td>0.44</td>\n",
       "      <td>10.1</td>\n",
       "      <td>1</td>\n",
       "    </tr>\n",
       "    <tr>\n",
       "      <th>3</th>\n",
       "      <td>7.2</td>\n",
       "      <td>0.23</td>\n",
       "      <td>0.32</td>\n",
       "      <td>8.5</td>\n",
       "      <td>0.058</td>\n",
       "      <td>47.0</td>\n",
       "      <td>186.0</td>\n",
       "      <td>0.9956</td>\n",
       "      <td>3.19</td>\n",
       "      <td>0.40</td>\n",
       "      <td>9.9</td>\n",
       "      <td>1</td>\n",
       "    </tr>\n",
       "    <tr>\n",
       "      <th>4</th>\n",
       "      <td>7.2</td>\n",
       "      <td>0.23</td>\n",
       "      <td>0.32</td>\n",
       "      <td>8.5</td>\n",
       "      <td>0.058</td>\n",
       "      <td>47.0</td>\n",
       "      <td>186.0</td>\n",
       "      <td>0.9956</td>\n",
       "      <td>3.19</td>\n",
       "      <td>0.40</td>\n",
       "      <td>9.9</td>\n",
       "      <td>1</td>\n",
       "    </tr>\n",
       "  </tbody>\n",
       "</table>\n",
       "</div>"
      ],
      "text/plain": [
       "   fixed acidity  volatile acidity  citric acid  residual sugar  chlorides  \\\n",
       "0            7.0              0.27         0.36            20.7      0.045   \n",
       "1            6.3              0.30         0.34             1.6      0.049   \n",
       "2            8.1              0.28         0.40             6.9      0.050   \n",
       "3            7.2              0.23         0.32             8.5      0.058   \n",
       "4            7.2              0.23         0.32             8.5      0.058   \n",
       "\n",
       "   free sulfur dioxide  total sulfur dioxide  density    pH  sulphates  \\\n",
       "0                 45.0                 170.0   1.0010  3.00       0.45   \n",
       "1                 14.0                 132.0   0.9940  3.30       0.49   \n",
       "2                 30.0                  97.0   0.9951  3.26       0.44   \n",
       "3                 47.0                 186.0   0.9956  3.19       0.40   \n",
       "4                 47.0                 186.0   0.9956  3.19       0.40   \n",
       "\n",
       "   alcohol  quality_cat  \n",
       "0      8.8            1  \n",
       "1      9.5            1  \n",
       "2     10.1            1  \n",
       "3      9.9            1  \n",
       "4      9.9            1  "
      ]
     },
     "execution_count": 23,
     "metadata": {},
     "output_type": "execute_result"
    }
   ],
   "source": [
    "df_wine_test = pd.read_csv('https://archive.ics.uci.edu/ml/machine-learning-databases/wine-quality/winequality-white.csv',\n",
    "                           sep=';')\n",
    "\n",
    "df_wine_test = df_wine_test.pipe(prepocess_wine)\n",
    "df_wine_test.head()"
   ]
  },
  {
   "cell_type": "code",
   "execution_count": 24,
   "metadata": {},
   "outputs": [],
   "source": [
    "X_test, y_test = df_wine_test.iloc[:, :-1].values, df_wine_test.iloc[:, -1].values\n",
    "y_hat = model.predict(X_test)"
   ]
  },
  {
   "cell_type": "code",
   "execution_count": 25,
   "metadata": {},
   "outputs": [
    {
     "name": "stdout",
     "output_type": "stream",
     "text": [
      "Доля ошибок на контрольной выборке: 0.312577\n"
     ]
    }
   ],
   "source": [
    "error_rate = sum(y_hat != y_test)/float(y_test.shape[0])\n",
    "print 'Доля ошибок на контрольной выборке: %f' % error_rate"
   ]
  },
  {
   "cell_type": "markdown",
   "metadata": {},
   "source": [
    "Получилось неплохо и это лишь наивный алгоритм на одном признаке! Ну а выводы делайте сами =)"
   ]
  },
  {
   "cell_type": "markdown",
   "metadata": {},
   "source": [
    "# Имплементация K-means\n",
    "\n",
    "Пользуясь наработками выше, имплементируйте метод k-means.  \n",
    "При инициализации необходимо задавать количество кластеров, функцию расстояния между кластерами (для оригинального k-means - евклидово расстояние) и начальное состояние генератора случайных чисел.\n",
    "\n",
    "После обучения, среди атрибутов класса `Kmeans` должны появится\n",
    "* Метки кластеров для объектов\n",
    "* Координаты центройдов кластеров\n",
    "\n",
    "k-means - это алгоритм **кластеризации**, а не классификации, а посему метод `.predict()` в нем фактически не нужен, но он может возвращать метки ближайшего кластера для объектов."
   ]
  },
  {
   "cell_type": "markdown",
   "metadata": {},
   "source": [
    "###### Задание 1 (2 баллов)\n",
    "Имплементируйте метод k-means\n",
    "\n",
    "Теория для выполнения задания 2 и 3 остаётся на самостоятельное изучение. Теории немного и она совсем простая.\n",
    "\n",
    "###### Задание 2 (2 балла)\n",
    "Имплементируйте класс MiniBatchKMeans, который является классом наследником Kmeans.\n",
    "\n",
    "###### Задание 3 (2 балла)\n",
    "Превратите k-means в k-means++. Для этого нужно реализовать метод в классе Kmeans, который будет инициализировать более \"хорошие\" значения центроидов. Чтобы использовался метод k-means++, в параметр init необходимо передать строковое значение 'k-means' (по умолчанию 'random').\n",
    "\n",
    "###### Задание 4 (2 балла)\n",
    "В пункте \"Проверка корректности метода\" нужно нарисовать графики, которые показывают зависимость времени выполнения алгоритма от количества сэмплов. Графики должны быть  нарисованы для различных комбинаций реализаций алгоритма (k-means, k-means++, k-means с MiniBatchKMeans, k-means++ с MiniBatchKMeans). Для этого рекомендуется использовать инструмент %timeit. График достаточно построить на 5-10 точках.\n",
    "\n",
    "###### Задание 5 (2 балла)\n",
    "В пункте \"Применение K-means на реальных данных\" нужно сравнить различные реализации k-means (k-means, k-means++, k-means с MiniBatchKMeans, k-means++ с MiniBatchKMeans). После чего написать вывод, в котором должно быть объяснение того, почему один алгоритм оказался лучше остальных или почему не было выявлено лучшего алгоритма."
   ]
  },
  {
   "cell_type": "code",
   "execution_count": 1,
   "metadata": {},
   "outputs": [],
   "source": [
    "import pandas as pd\n",
    "import numpy as np\n",
    "import matplotlib.pyplot as plt\n",
    "from sklearn.base import BaseEstimator\n",
    "from sklearn.base import ClusterMixin\n",
    "from scipy.spatial.distance import pdist, euclidean, cdist\n",
    "\n",
    "%matplotlib inline\n",
    "plt.style.use('ggplot')\n",
    "plt.rcParams['figure.figsize'] = (6,6)\n",
    "\n",
    "class Kmeans(BaseEstimator, ClusterMixin): \n",
    "    \n",
    "    def __init__(self, k=2, metric='euclidean', max_iter=1000, random_state=None, init='random'):\n",
    "        \"\"\"\n",
    "        Инициализация метода\n",
    "        :k - количество кластеров\n",
    "        :metric - функция расстояния между объектами\n",
    "        :max_iter - максимальное количество итераций\n",
    "        :random_state - seed для инициализации генератора случайных чисел\n",
    "        \"\"\"\n",
    "        \n",
    "        self.k = k\n",
    "        self.random_state = random_state\n",
    "        self.metric = metric\n",
    "        self.max_iter = max_iter\n",
    "        self.init = init\n",
    "\n",
    "    def fit(self, X, y=None):\n",
    "        \"\"\"\n",
    "        Процедура обучения k-means\n",
    "        \"\"\"\n",
    "        \n",
    "        # Инициализация генератора случайных чисел\n",
    "        np.random.seed(self.random_state)\n",
    "        \n",
    "        # Массив с метками кластеров для каждого объекта из X\n",
    "        self.labels = np.empty(X.shape[0], dtype=np.intc)\n",
    "        \n",
    "        # Массив с центройдами кластеров\n",
    "        self.centroids = np.empty((self.k, X.shape[1]))\n",
    "        \n",
    "        self.set_centroids(X)\n",
    "\n",
    "        self.make_iterations(X)\n",
    "                \n",
    "        return self\n",
    "\n",
    "    def predict(self, X, y=None):\n",
    "        \"\"\"\n",
    "        Процедура предсказания кластера\n",
    "        \n",
    "        Возвращает метку ближайшего кластера для каждого объекта\n",
    "        \"\"\"\n",
    "        \n",
    "    def set_centroids(self, X):\n",
    "        if self.init == 'k-means':\n",
    "            self.pp_centroids(X)\n",
    "        elif self.init == 'random':\n",
    "            self.centroids = self.pick_random_elems(self.k, X)\n",
    "        else:\n",
    "            raise ValueError('unknown value for init = `{}`'.format(self.init))\n",
    "\n",
    "    def pp_centroids(self, X):\n",
    "        len_X = X.shape[0]\n",
    "        dist_sq = np.empty(len_X)\n",
    "        self.centroids[0] = self.pick_random_elems(1, X)[0]\n",
    "        count_chosen = 1\n",
    "        while count_chosen < self.k:\n",
    "            probs = cdist(X, self.centroids[:count_chosen], metric=self.metric).min(axis=1)**2\n",
    "            probs = probs / probs.sum()\n",
    "            new_c_index = np.random.choice(len_X, 1, p=probs)\n",
    "#             for j, x in enumerate(X):\n",
    "# #                 min_dist = euclidean((self.centroids[0], x)\n",
    "                \n",
    "#                 min_dist = pdist((self.centroids[0], x), metric=self.metric)[0]\n",
    "#                 for i in range(1, count_chosen):\n",
    "#                     dist = pdist((self.centroids[i], x), metric=self.metric)[0]\n",
    "#                     if dist < min_dist:\n",
    "#                         min_dist = dist\n",
    "#                 dist_sq[j] = min_dist * min_dist\n",
    "                \n",
    "#             dist_sq_sum = np.sum(dist_sq)\n",
    "#             new_c_index = np.random.choice(len_X, 1,\n",
    "#                 p=np.apply_along_axis(lambda x: x / dist_sq_sum, 0, dist_sq)\n",
    "#             )\n",
    "            self.centroids[count_chosen] = X[new_c_index]    \n",
    "            count_chosen += 1\n",
    "                    \n",
    "                    \n",
    "    def pick_random_elems(self, count, elems_array):\n",
    "        return elems_array[np.random.choice(elems_array.shape[0], count)]\n",
    "#         random_indicies = np.random.choice(elems_array.shape[0], count)\n",
    "#         return np.apply_along_axis(lambda i: elems_array[i], 0, random_indicies)\n",
    "\n",
    "    def make_iterations(self, X):\n",
    "        for i in xrange(self.max_iter):\n",
    "            self.iterate(X)\n",
    "    \n",
    "    def iterate(self, X):\n",
    "#         def timed_get_nearest_cluster(elem):\n",
    "#             res = profile_print(self.get_nearest_cluster, elem)\n",
    "#             return res\n",
    "\n",
    "#         get_labels = np.vectorize(self.get_nearest_cluster, '')\n",
    "#         self.labels = get_labels(X)\n",
    "\n",
    "        self.labels = cdist(X, self.centroids, metric=self.metric).argmin(axis=1)\n",
    "#         dists = np.apply_along_axis(self.get_nearest_cluster, 1, X)\n",
    "        \n",
    "#         print(dists)\n",
    "\n",
    "#         self.labels = np.apply_along_axis(self.get_nearest_cluster, 1, X)\n",
    "        \n",
    "        to_bool_mask = np.vectorize(lambda cluster: cluster == class_id)\n",
    "\n",
    "        for class_id in xrange(self.k):\n",
    "            mask = to_bool_mask(self.labels)\n",
    "            self.centroids[class_id] = np.mean(X[mask], axis=0) \n",
    "class MiniBatchKMeans(Kmeans):\n",
    "    def __init__(self, *arg_pos, **arg_dict):\n",
    "        if 'b' in arg_dict:\n",
    "            self.b = arg_dict['b']\n",
    "        else:\n",
    "            self.b = None\n",
    "            \n",
    "        arg_dict_super = {key : arg_dict[key] for key in arg_dict if key != 'b'}\n",
    "        Kmeans.__init__(self, *arg_pos, **arg_dict_super)\n",
    "        \n",
    "    def make_iterations(self, X):\n",
    "        b = (X.shape[0] // 5) if self.b is None else self.b\n",
    "        v = np.zeros(self.k, dtype=int)\n",
    "        d = np.empty(b, dtype=int)\n",
    "        \n",
    "        for i in xrange(self.max_iter):\n",
    "            M = self.pick_random_elems(b, X)\n",
    "            d = cdist(M, self.centroids, metric=self.metric).argmin(axis=1)\n",
    "            \n",
    "#             for i, x in enumerate(M):\n",
    "#                 c_number = d[i]\n",
    "#                 v[c_number] += 1\n",
    "#                 eta = 1.0 / v[c_number]\n",
    "#                 self.centroids[c_number] = self.centroids[c_number] * (1 - eta) + eta * x\n",
    "            for class_id in xrange(self.k):\n",
    "                to_bool_mask = np.vectorize(lambda cluster: cluster == class_id)\n",
    "                mask = to_bool_mask(d)\n",
    "                M_c = M[mask]\n",
    "                old_v = v[class_id]\n",
    "                new_v = old_v + M_c.shape[0]\n",
    "                values = np.append([old_v * self.centroids[class_id]], M_c, axis=0)\n",
    "                self.centroids[class_id] = values.sum(axis=0) / new_v\n",
    "#                 old_sum = self.centroids[class_id] * old_v\n",
    "#                 new_sum = M_c.sum(axis=0)\n",
    "#                 print(new_sum.shape)\n",
    "#                 self.centroids[class_id] = (old_sum + new_sum) / (old_v + M_c.shape[0])\n",
    "# \n",
    "                v[class_id] = new_v\n",
    "#                 print(class_id, self.centroids[class_id])\n",
    "#                 print(old_sum)\n",
    "#                 print(new_sum)\n",
    "#                 print('-----')\n",
    "            \n",
    "        self.labels = cdist(X, self.centroids, metric=self.metric).argmin(axis=1)\n",
    "        "
   ]
  },
  {
   "cell_type": "code",
   "execution_count": 2,
   "metadata": {},
   "outputs": [
    {
     "ename": "NameError",
     "evalue": "name 'make_blobs' is not defined",
     "output_type": "error",
     "traceback": [
      "\u001b[0;31m---------------------------------------------------------------------------\u001b[0m",
      "\u001b[0;31mNameError\u001b[0m                                 Traceback (most recent call last)",
      "\u001b[0;32m<ipython-input-2-4a53dd055d22>\u001b[0m in \u001b[0;36m<module>\u001b[0;34m()\u001b[0m\n\u001b[1;32m      1\u001b[0m \u001b[0;31m# timetesting\u001b[0m\u001b[0;34m\u001b[0m\u001b[0;34m\u001b[0m\u001b[0m\n\u001b[1;32m      2\u001b[0m \u001b[0mcount_centers\u001b[0m \u001b[0;34m=\u001b[0m \u001b[0;36m5\u001b[0m\u001b[0;34m\u001b[0m\u001b[0m\n\u001b[0;32m----> 3\u001b[0;31m time_X, time_y = make_blobs(n_samples=1000, n_features=2, centers=count_centers, cluster_std=1, \n\u001b[0m\u001b[1;32m      4\u001b[0m            center_box=(-10.0, 10.0), shuffle=False, random_state=1234)\n\u001b[1;32m      5\u001b[0m \u001b[0;34m\u001b[0m\u001b[0m\n",
      "\u001b[0;31mNameError\u001b[0m: name 'make_blobs' is not defined"
     ]
    }
   ],
   "source": [
    "# timetesting\n",
    "count_centers = 5\n",
    "time_X, time_y = make_blobs(n_samples=1000, n_features=2, centers=count_centers, cluster_std=1, \n",
    "           center_box=(-10.0, 10.0), shuffle=False, random_state=1234)\n",
    "\n",
    "time_means = MiniBatchKMeans(k=count_centers, random_state=1000, max_iter=40)\n",
    "% timeit time_means.fit(time_X)\n",
    "# time_means.fit(time_X)\n",
    "# profile_print(time_means.fit, time_X)\n",
    "plt.scatter(time_X[:,0], time_X[:, 1], c=time_means.labels)"
   ]
  },
  {
   "cell_type": "markdown",
   "metadata": {},
   "source": [
    "### Проверка корректности метода\n",
    "\n",
    "Перед тем как применять алгоритм на реальных данных, нужно испытать его на простых \"игрушечных\" данных.\n",
    "\n",
    "Если алгоритм реализован правильно, то метод должен идеально разбивать на 3 кластера данные ниже. Проверьте это.\n",
    "\n",
    "ВНИМАНИЕ! Проверка должна быть осуществлена на всех реализациях, иначе реализация не будет зачтена!"
   ]
  },
  {
   "cell_type": "code",
   "execution_count": 3,
   "metadata": {},
   "outputs": [],
   "source": [
    "from sklearn.datasets import make_blobs"
   ]
  },
  {
   "cell_type": "code",
   "execution_count": 4,
   "metadata": {},
   "outputs": [],
   "source": [
    "X, y = make_blobs(n_samples=100, n_features=2, centers=3, cluster_std=1, \n",
    "           center_box=(-10.0, 10.0), shuffle=False, random_state=12324)"
   ]
  },
  {
   "cell_type": "code",
   "execution_count": 5,
   "metadata": {
    "scrolled": true
   },
   "outputs": [
    {
     "data": {
      "text/plain": [
       "<matplotlib.collections.PathCollection at 0x7f3591d6e290>"
      ]
     },
     "execution_count": 5,
     "metadata": {},
     "output_type": "execute_result"
    },
    {
     "data": {
      "image/png": "[encoded data removed]",
      "text/plain": [
       "<matplotlib.figure.Figure at 0x7f359935c3d0>"
      ]
     },
     "metadata": {},
     "output_type": "display_data"
    }
   ],
   "source": [
    "plt.scatter(X[:,0], X[:, 1], c=y)"
   ]
  },
  {
   "cell_type": "markdown",
   "metadata": {},
   "source": [
    "Проверьте Вашу имплементацию на простых данных (без этого пункта задание не считается выполненным).   \n",
    "КОММЕНТАРИИ НЕ СТИРАТЬ!"
   ]
  },
  {
   "cell_type": "code",
   "execution_count": 6,
   "metadata": {},
   "outputs": [],
   "source": [
    "random_state_kmeans = 1024\n",
    "benchmark_data = {key : [] for key in ['name', 'dots_count', 'taken_time']}\n",
    "test_Xs = []\n",
    "cluster_count = 4\n",
    "sample_counts = [100, 500, 1000, 2500, 5000]\n",
    "for sample_count in sample_counts:\n",
    "    test_X, _ = make_blobs(n_samples=sample_count, n_features=3, centers=cluster_count, cluster_std=1, \n",
    "                   center_box=(-10.0, 10.0), shuffle=False, random_state=1234)\n",
    "    test_Xs.append(test_X)"
   ]
  },
  {
   "cell_type": "code",
   "execution_count": 7,
   "metadata": {},
   "outputs": [
    {
     "name": "stdout",
     "output_type": "stream",
     "text": [
      "100 loops, best of 3: 5.3 ms per loop\n",
      "100 loops, best of 3: 9.96 ms per loop\n",
      "100 loops, best of 3: 15.8 ms per loop\n",
      "10 loops, best of 3: 33.2 ms per loop\n",
      "10 loops, best of 3: 62.1 ms per loop\n"
     ]
    },
    {
     "data": {
      "text/plain": [
       "<matplotlib.collections.PathCollection at 0x7f3591c941d0>"
      ]
     },
     "execution_count": 7,
     "metadata": {},
     "output_type": "execute_result"
    },
    {
     "data": {
      "image/png": "[encoded data removed]",
      "text/plain": [
       "<matplotlib.figure.Figure at 0x7f359935c350>"
      ]
     },
     "metadata": {},
     "output_type": "display_data"
    }
   ],
   "source": [
    "## Работоспособность KMeans\n",
    "for i, test_X in enumerate(test_Xs):\n",
    "    test_kmeans = Kmeans(k=cluster_count, random_state=random_state_kmeans, max_iter=10)\n",
    "    res = %timeit -o test_kmeans.fit(test_X)\n",
    "    benchmark_data['name'].append('kmeans')\n",
    "    benchmark_data['dots_count'].append(sample_counts[i])\n",
    "    benchmark_data['taken_time'].append(res.worst)\n",
    "    \n",
    "test_kmeans = Kmeans(k=3, random_state=random_state_kmeans, max_iter=3)\n",
    "test_kmeans.fit(X)\n",
    "plt.scatter(X[:,0], X[:, 1], c=test_kmeans.labels)\n"
   ]
  },
  {
   "cell_type": "code",
   "execution_count": 8,
   "metadata": {},
   "outputs": [
    {
     "name": "stdout",
     "output_type": "stream",
     "text": [
      "100 loops, best of 3: 5.79 ms per loop\n",
      "100 loops, best of 3: 10.9 ms per loop\n",
      "100 loops, best of 3: 16.6 ms per loop\n",
      "10 loops, best of 3: 33.7 ms per loop\n",
      "10 loops, best of 3: 62.5 ms per loop\n"
     ]
    },
    {
     "data": {
      "text/plain": [
       "<matplotlib.collections.PathCollection at 0x7f3591b61c90>"
      ]
     },
     "execution_count": 8,
     "metadata": {},
     "output_type": "execute_result"
    },
    {
     "data": {
      "image/png": "[encoded data removed]",
      "text/plain": [
       "<matplotlib.figure.Figure at 0x7f3591d9f510>"
      ]
     },
     "metadata": {},
     "output_type": "display_data"
    }
   ],
   "source": [
    "## Работоспособность KMeans++\n",
    "for i, test_X in enumerate(test_Xs):\n",
    "    test_pp_kmeans = Kmeans(k=cluster_count, random_state=random_state_kmeans, max_iter=10, init='k-means')\n",
    "    res = %timeit -o test_pp_kmeans.fit(test_X)\n",
    "    benchmark_data['name'].append('kmeans++')\n",
    "    benchmark_data['dots_count'].append(sample_counts[i])\n",
    "    benchmark_data['taken_time'].append(res.worst)\n",
    "    \n",
    "test_pp_kmeans = Kmeans(k=3, random_state=random_state_kmeans, max_iter=3, init='k-means')\n",
    "test_pp_kmeans.fit(X)\n",
    "plt.scatter(X[:,0], X[:, 1], c=test_pp_kmeans.labels)"
   ]
  },
  {
   "cell_type": "code",
   "execution_count": 9,
   "metadata": {},
   "outputs": [
    {
     "name": "stdout",
     "output_type": "stream",
     "text": [
      "100 loops, best of 3: 5.9 ms per loop\n",
      "100 loops, best of 3: 6.87 ms per loop\n",
      "100 loops, best of 3: 8.24 ms per loop\n",
      "100 loops, best of 3: 12.3 ms per loop\n",
      "10 loops, best of 3: 18.8 ms per loop\n"
     ]
    },
    {
     "data": {
      "text/plain": [
       "<matplotlib.collections.PathCollection at 0x7f3591aa3f50>"
      ]
     },
     "execution_count": 9,
     "metadata": {},
     "output_type": "execute_result"
    },
    {
     "data": {
      "image/png": "[encoded data removed]",
      "text/plain": [
       "<matplotlib.figure.Figure at 0x7f3591cd1210>"
      ]
     },
     "metadata": {},
     "output_type": "display_data"
    }
   ],
   "source": [
    "## Работоспособность KMeans с MiniBatchKMeans\n",
    "for i, test_X in enumerate(test_Xs):\n",
    "    test_b_kmeans = MiniBatchKMeans(k=cluster_count, random_state=random_state_kmeans, max_iter=10)\n",
    "    res = %timeit -o test_b_kmeans.fit(test_X)\n",
    "    benchmark_data['name'].append('mb_kmeans')\n",
    "    benchmark_data['dots_count'].append(sample_counts[i])\n",
    "    benchmark_data['taken_time'].append(res.worst)\n",
    "    \n",
    "test_b_kmeans = MiniBatchKMeans(k=3, random_state=random_state_kmeans, max_iter=10)\n",
    "test_b_kmeans.fit(X)\n",
    "plt.scatter(X[:,0], X[:, 1], c=test_b_kmeans.labels)\n"
   ]
  },
  {
   "cell_type": "code",
   "execution_count": 10,
   "metadata": {},
   "outputs": [
    {
     "name": "stdout",
     "output_type": "stream",
     "text": [
      "100 loops, best of 3: 6.48 ms per loop\n",
      "100 loops, best of 3: 7.56 ms per loop\n",
      "100 loops, best of 3: 9.27 ms per loop\n",
      "100 loops, best of 3: 13.6 ms per loop\n",
      "10 loops, best of 3: 20.3 ms per loop\n"
     ]
    },
    {
     "data": {
      "text/plain": [
       "<matplotlib.collections.PathCollection at 0x7f35919f3450>"
      ]
     },
     "execution_count": 10,
     "metadata": {},
     "output_type": "execute_result"
    },
    {
     "data": {
      "image/png": "[encoded data removed]",
      "text/plain": [
       "<matplotlib.figure.Figure at 0x7f3591d3cb90>"
      ]
     },
     "metadata": {},
     "output_type": "display_data"
    }
   ],
   "source": [
    "## Работоспособность KMeans++ с MiniBatchKMeans\n",
    "for i, test_X in enumerate(test_Xs):\n",
    "    test_all_kmeans = MiniBatchKMeans(k=cluster_count, random_state=random_state_kmeans, max_iter=10, init='k-means')\n",
    "    res = %timeit -o test_all_kmeans.fit(test_X)\n",
    "    benchmark_data['name'].append('mb_kmeans++')\n",
    "    benchmark_data['dots_count'].append(sample_counts[i])\n",
    "    benchmark_data['taken_time'].append(res.worst)\n",
    "    \n",
    "test_all_kmeans = MiniBatchKMeans(k=3, random_state=random_state_kmeans, max_iter=10, init='k-means')\n",
    "test_all_kmeans.fit(X)\n",
    "plt.scatter(X[:,0], X[:, 1], c=test_all_kmeans.labels)"
   ]
  },
  {
   "cell_type": "code",
   "execution_count": 11,
   "metadata": {},
   "outputs": [
    {
     "data": {
      "text/plain": [
       "<matplotlib.axes._subplots.AxesSubplot at 0x7f3590feb5d0>"
      ]
     },
     "execution_count": 11,
     "metadata": {},
     "output_type": "execute_result"
    },
    {
     "data": {
      "image/png": "[encoded data removed]",
      "text/plain": [
       "<matplotlib.figure.Figure at 0x7f35914a6990>"
      ]
     },
     "metadata": {},
     "output_type": "display_data"
    }
   ],
   "source": [
    "## Время выполнения алгоритма KMeans\n",
    "## Время выполнения алгоритма KMeans++\n",
    "## Время выполнения алгоритма KMeans с MiniBatchKMeans\n",
    "## Время выполнения алгоритма  KMeans++ с MiniBatchKMeans\n",
    "df_benchmark = pd.DataFrame.from_dict(benchmark_data)\n",
    "import seaborn as sns\n",
    "sns.pointplot(x=\"dots_count\", y=\"taken_time\", hue=\"name\", data=df_benchmark, dodge=True)"
   ]
  },
  {
   "cell_type": "markdown",
   "metadata": {},
   "source": [
    "# Применение K-means на реальных данных"
   ]
  },
  {
   "cell_type": "markdown",
   "metadata": {},
   "source": [
    "Загрузите [данные](https://github.com/brenden17/sklearnlab/blob/master/facebook/snsdata.csv) в которых содержится описание интересов профилей учеников старшей школы США.  (без этого пункта задание не считается выполненным).   \n",
    "ВНИМАНИЕ! Проверка должна быть осуществлена на всех реализациях, иначе реализация не будет зачтена!"
   ]
  },
  {
   "cell_type": "markdown",
   "metadata": {},
   "source": [
    "Данные устроены так: \n",
    "* Год выпуска\n",
    "* Пол\n",
    "* Возраст\n",
    "* Количество друзей\n",
    "* 36 ключевых слов, которые встречаются в профилe facebook (интересы, сообщества, встречи)"
   ]
  },
  {
   "cell_type": "markdown",
   "metadata": {},
   "source": [
    "* Удалите все признаки кроме 36 ключевых слов.\n",
    "* Нормализуйте данные - из каждого столбца вычтите его среднее значение и поделите на стандартное отклонение.\n",
    "* Используйте метод k-means чтобы выделить 9 кластеров\n",
    "* Попробуйте проинтерпретировать каждый кластер проанализировав полученные центройды (Некоторые кластеры могут быть очень большие и очень маленькие - плохо интерпретируются)   \n",
    "КОММЕНТАРИИ НЕ СТИРАТЬ!"
   ]
  },
  {
   "cell_type": "code",
   "execution_count": 12,
   "metadata": {},
   "outputs": [],
   "source": [
    "df_sns = pd.read_csv('snsdata.csv', sep=',')\n",
    "real_X = df_sns.iloc[:, 4:].as_matrix().astype(float)\n",
    "\n",
    "for i in xrange(real_X.shape[1]):\n",
    "    col = real_X[:,i]\n",
    "    col_std = np.std(col)\n",
    "    col_mean = np.mean(col)\n",
    "    real_X[:,i] = (col - col_mean) / col_std"
   ]
  },
  {
   "cell_type": "code",
   "execution_count": 16,
   "metadata": {},
   "outputs": [
    {
     "name": "stdout",
     "output_type": "stream",
     "text": [
      "1 loop, best of 3: 1.95 s per loop\n"
     ]
    },
    {
     "data": {
      "text/html": [
       "<div>\n",
       "<style>\n",
       "    .dataframe thead tr:only-child th {\n",
       "        text-align: right;\n",
       "    }\n",
       "\n",
       "    .dataframe thead th {\n",
       "        text-align: left;\n",
       "    }\n",
       "\n",
       "    .dataframe tbody tr th {\n",
       "        vertical-align: top;\n",
       "    }\n",
       "</style>\n",
       "<table border=\"1\" class=\"dataframe\">\n",
       "  <thead>\n",
       "    <tr>\n",
       "      <th></th>\n",
       "      <th>cluster</th>\n",
       "    </tr>\n",
       "    <tr>\n",
       "      <th></th>\n",
       "      <th>size</th>\n",
       "    </tr>\n",
       "    <tr>\n",
       "      <th>cluster</th>\n",
       "      <th></th>\n",
       "    </tr>\n",
       "  </thead>\n",
       "  <tbody>\n",
       "    <tr>\n",
       "      <th>0</th>\n",
       "      <td>2162</td>\n",
       "    </tr>\n",
       "    <tr>\n",
       "      <th>1</th>\n",
       "      <td>621</td>\n",
       "    </tr>\n",
       "    <tr>\n",
       "      <th>2</th>\n",
       "      <td>753</td>\n",
       "    </tr>\n",
       "    <tr>\n",
       "      <th>3</th>\n",
       "      <td>905</td>\n",
       "    </tr>\n",
       "    <tr>\n",
       "      <th>4</th>\n",
       "      <td>1790</td>\n",
       "    </tr>\n",
       "    <tr>\n",
       "      <th>5</th>\n",
       "      <td>828</td>\n",
       "    </tr>\n",
       "    <tr>\n",
       "      <th>6</th>\n",
       "      <td>3476</td>\n",
       "    </tr>\n",
       "    <tr>\n",
       "      <th>7</th>\n",
       "      <td>501</td>\n",
       "    </tr>\n",
       "    <tr>\n",
       "      <th>8</th>\n",
       "      <td>18964</td>\n",
       "    </tr>\n",
       "  </tbody>\n",
       "</table>\n",
       "</div>"
      ],
      "text/plain": [
       "        cluster\n",
       "           size\n",
       "cluster        \n",
       "0          2162\n",
       "1           621\n",
       "2           753\n",
       "3           905\n",
       "4          1790\n",
       "5           828\n",
       "6          3476\n",
       "7           501\n",
       "8         18964"
      ]
     },
     "execution_count": 16,
     "metadata": {},
     "output_type": "execute_result"
    }
   ],
   "source": [
    "## KMeans\n",
    "kmeans = Kmeans(k=9, random_state=10224, max_iter=20, metric='euclidean')\n",
    "kmeans.fit(real_X)\n",
    "# 1 loop, best of 3: 1.95 s per loop\n",
    "\n",
    "represent = df_sns.iloc[:, :4]\n",
    "represent['cluster'] = kmeans.labels\n",
    "represent.groupby('cluster').agg({'cluster':{'size': len}})"
   ]
  },
  {
   "cell_type": "code",
   "execution_count": 17,
   "metadata": {},
   "outputs": [
    {
     "name": "stdout",
     "output_type": "stream",
     "text": [
      "1 loop, best of 3: 2.29 s per loop\n"
     ]
    },
    {
     "data": {
      "text/html": [
       "<div>\n",
       "<style>\n",
       "    .dataframe thead tr:only-child th {\n",
       "        text-align: right;\n",
       "    }\n",
       "\n",
       "    .dataframe thead th {\n",
       "        text-align: left;\n",
       "    }\n",
       "\n",
       "    .dataframe tbody tr th {\n",
       "        vertical-align: top;\n",
       "    }\n",
       "</style>\n",
       "<table border=\"1\" class=\"dataframe\">\n",
       "  <thead>\n",
       "    <tr>\n",
       "      <th></th>\n",
       "      <th>cluster</th>\n",
       "    </tr>\n",
       "    <tr>\n",
       "      <th></th>\n",
       "      <th>size</th>\n",
       "    </tr>\n",
       "    <tr>\n",
       "      <th>cluster</th>\n",
       "      <th></th>\n",
       "    </tr>\n",
       "  </thead>\n",
       "  <tbody>\n",
       "    <tr>\n",
       "      <th>0</th>\n",
       "      <td>2517</td>\n",
       "    </tr>\n",
       "    <tr>\n",
       "      <th>1</th>\n",
       "      <td>2656</td>\n",
       "    </tr>\n",
       "    <tr>\n",
       "      <th>2</th>\n",
       "      <td>11648</td>\n",
       "    </tr>\n",
       "    <tr>\n",
       "      <th>3</th>\n",
       "      <td>1617</td>\n",
       "    </tr>\n",
       "    <tr>\n",
       "      <th>4</th>\n",
       "      <td>3044</td>\n",
       "    </tr>\n",
       "    <tr>\n",
       "      <th>5</th>\n",
       "      <td>1868</td>\n",
       "    </tr>\n",
       "    <tr>\n",
       "      <th>6</th>\n",
       "      <td>1538</td>\n",
       "    </tr>\n",
       "    <tr>\n",
       "      <th>7</th>\n",
       "      <td>2974</td>\n",
       "    </tr>\n",
       "    <tr>\n",
       "      <th>8</th>\n",
       "      <td>2138</td>\n",
       "    </tr>\n",
       "  </tbody>\n",
       "</table>\n",
       "</div>"
      ],
      "text/plain": [
       "        cluster\n",
       "           size\n",
       "cluster        \n",
       "0          2517\n",
       "1          2656\n",
       "2         11648\n",
       "3          1617\n",
       "4          3044\n",
       "5          1868\n",
       "6          1538\n",
       "7          2974\n",
       "8          2138"
      ]
     },
     "execution_count": 17,
     "metadata": {},
     "output_type": "execute_result"
    }
   ],
   "source": [
    "## KMeans++\n",
    "pp_kmeans = Kmeans(k=9, random_state=10224, max_iter=20, metric='cosine', init='k-means')\n",
    "pp_kmeans.fit(real_X)\n",
    "# 1 loop, best of 3: 2.29 s per loop\n",
    "\n",
    "represent = df_sns.iloc[:, :4]\n",
    "represent['cluster'] = pp_kmeans.labels\n",
    "represent.groupby('cluster').agg({'cluster':{'size': len}})"
   ]
  },
  {
   "cell_type": "code",
   "execution_count": 20,
   "metadata": {},
   "outputs": [
    {
     "name": "stdout",
     "output_type": "stream",
     "text": [
      "1 loop, best of 3: 1.16 s per loop\n"
     ]
    },
    {
     "data": {
      "text/html": [
       "<div>\n",
       "<style>\n",
       "    .dataframe thead tr:only-child th {\n",
       "        text-align: right;\n",
       "    }\n",
       "\n",
       "    .dataframe thead th {\n",
       "        text-align: left;\n",
       "    }\n",
       "\n",
       "    .dataframe tbody tr th {\n",
       "        vertical-align: top;\n",
       "    }\n",
       "</style>\n",
       "<table border=\"1\" class=\"dataframe\">\n",
       "  <thead>\n",
       "    <tr>\n",
       "      <th></th>\n",
       "      <th>cluster</th>\n",
       "    </tr>\n",
       "    <tr>\n",
       "      <th></th>\n",
       "      <th>size</th>\n",
       "    </tr>\n",
       "    <tr>\n",
       "      <th>cluster</th>\n",
       "      <th></th>\n",
       "    </tr>\n",
       "  </thead>\n",
       "  <tbody>\n",
       "    <tr>\n",
       "      <th>0</th>\n",
       "      <td>1713</td>\n",
       "    </tr>\n",
       "    <tr>\n",
       "      <th>1</th>\n",
       "      <td>366</td>\n",
       "    </tr>\n",
       "    <tr>\n",
       "      <th>2</th>\n",
       "      <td>822</td>\n",
       "    </tr>\n",
       "    <tr>\n",
       "      <th>3</th>\n",
       "      <td>443</td>\n",
       "    </tr>\n",
       "    <tr>\n",
       "      <th>4</th>\n",
       "      <td>1587</td>\n",
       "    </tr>\n",
       "    <tr>\n",
       "      <th>5</th>\n",
       "      <td>861</td>\n",
       "    </tr>\n",
       "    <tr>\n",
       "      <th>6</th>\n",
       "      <td>5961</td>\n",
       "    </tr>\n",
       "    <tr>\n",
       "      <th>7</th>\n",
       "      <td>487</td>\n",
       "    </tr>\n",
       "    <tr>\n",
       "      <th>8</th>\n",
       "      <td>17760</td>\n",
       "    </tr>\n",
       "  </tbody>\n",
       "</table>\n",
       "</div>"
      ],
      "text/plain": [
       "        cluster\n",
       "           size\n",
       "cluster        \n",
       "0          1713\n",
       "1           366\n",
       "2           822\n",
       "3           443\n",
       "4          1587\n",
       "5           861\n",
       "6          5961\n",
       "7           487\n",
       "8         17760"
      ]
     },
     "execution_count": 20,
     "metadata": {},
     "output_type": "execute_result"
    }
   ],
   "source": [
    "## KMeans с MiniBatchKMeans\n",
    "b_kmeans = MiniBatchKMeans(k=9, random_state=10224, max_iter=50, metric='euclidean')\n",
    "b_kmeans.fit(real_X)\n",
    "# 1 loop, best of 3: 1.16 s per loop\n",
    "\n",
    "represent = df_sns.iloc[:, :4]\n",
    "represent['cluster'] = b_kmeans.labels\n",
    "represent.groupby('cluster').agg({'cluster':{'size': len}})"
   ]
  },
  {
   "cell_type": "code",
   "execution_count": 22,
   "metadata": {},
   "outputs": [
    {
     "name": "stdout",
     "output_type": "stream",
     "text": [
      "1 loop, best of 3: 1.65 s per loop\n"
     ]
    },
    {
     "data": {
      "text/html": [
       "<div>\n",
       "<style>\n",
       "    .dataframe thead tr:only-child th {\n",
       "        text-align: right;\n",
       "    }\n",
       "\n",
       "    .dataframe thead th {\n",
       "        text-align: left;\n",
       "    }\n",
       "\n",
       "    .dataframe tbody tr th {\n",
       "        vertical-align: top;\n",
       "    }\n",
       "</style>\n",
       "<table border=\"1\" class=\"dataframe\">\n",
       "  <thead>\n",
       "    <tr>\n",
       "      <th></th>\n",
       "      <th>cluster</th>\n",
       "    </tr>\n",
       "    <tr>\n",
       "      <th></th>\n",
       "      <th>size</th>\n",
       "    </tr>\n",
       "    <tr>\n",
       "      <th>cluster</th>\n",
       "      <th></th>\n",
       "    </tr>\n",
       "  </thead>\n",
       "  <tbody>\n",
       "    <tr>\n",
       "      <th>0</th>\n",
       "      <td>2434</td>\n",
       "    </tr>\n",
       "    <tr>\n",
       "      <th>1</th>\n",
       "      <td>2741</td>\n",
       "    </tr>\n",
       "    <tr>\n",
       "      <th>2</th>\n",
       "      <td>11558</td>\n",
       "    </tr>\n",
       "    <tr>\n",
       "      <th>3</th>\n",
       "      <td>1921</td>\n",
       "    </tr>\n",
       "    <tr>\n",
       "      <th>4</th>\n",
       "      <td>2751</td>\n",
       "    </tr>\n",
       "    <tr>\n",
       "      <th>5</th>\n",
       "      <td>2055</td>\n",
       "    </tr>\n",
       "    <tr>\n",
       "      <th>6</th>\n",
       "      <td>1556</td>\n",
       "    </tr>\n",
       "    <tr>\n",
       "      <th>7</th>\n",
       "      <td>2818</td>\n",
       "    </tr>\n",
       "    <tr>\n",
       "      <th>8</th>\n",
       "      <td>2166</td>\n",
       "    </tr>\n",
       "  </tbody>\n",
       "</table>\n",
       "</div>"
      ],
      "text/plain": [
       "        cluster\n",
       "           size\n",
       "cluster        \n",
       "0          2434\n",
       "1          2741\n",
       "2         11558\n",
       "3          1921\n",
       "4          2751\n",
       "5          2055\n",
       "6          1556\n",
       "7          2818\n",
       "8          2166"
      ]
     },
     "execution_count": 22,
     "metadata": {},
     "output_type": "execute_result"
    }
   ],
   "source": [
    "## KMeans++ с MiniBatchKMeans\n",
    "all_kmeans = MiniBatchKMeans(k=9, random_state=10224, max_iter=50, metric='cosine', init='k-means')\n",
    "all_kmeans.fit(real_X)\n",
    "# 1 loop, best of 3: 1.65 s per loop\n",
    "\n",
    "represent = df_sns.iloc[:, :4]\n",
    "represent['cluster'] = all_kmeans.labels\n",
    "represent.groupby('cluster').agg({'cluster':{'size': len}})"
   ]
  },
  {
   "cell_type": "code",
   "execution_count": 88,
   "metadata": {},
   "outputs": [
    {
     "data": {
      "text/html": [
       "<div>\n",
       "<style>\n",
       "    .dataframe thead tr:only-child th {\n",
       "        text-align: right;\n",
       "    }\n",
       "\n",
       "    .dataframe thead th {\n",
       "        text-align: left;\n",
       "    }\n",
       "\n",
       "    .dataframe tbody tr th {\n",
       "        vertical-align: top;\n",
       "    }\n",
       "</style>\n",
       "<table border=\"1\" class=\"dataframe\">\n",
       "  <thead>\n",
       "    <tr>\n",
       "      <th></th>\n",
       "      <th>cute</th>\n",
       "      <th>drunk</th>\n",
       "      <th>dance</th>\n",
       "      <th>sex</th>\n",
       "      <th>hair</th>\n",
       "      <th>cluster</th>\n",
       "      <th>church</th>\n",
       "      <th>blonde</th>\n",
       "      <th>kissed</th>\n",
       "      <th>dress</th>\n",
       "      <th>marching</th>\n",
       "      <th>basketball</th>\n",
       "      <th>god</th>\n",
       "      <th>tennis</th>\n",
       "      <th>sports</th>\n",
       "      <th>hot</th>\n",
       "      <th>music</th>\n",
       "      <th>abercrombie</th>\n",
       "      <th>soccer</th>\n",
       "      <th>shopping</th>\n",
       "      <th>drugs</th>\n",
       "      <th>football</th>\n",
       "      <th>cheerleading</th>\n",
       "      <th>band</th>\n",
       "      <th>death</th>\n",
       "      <th>baseball</th>\n",
       "      <th>softball</th>\n",
       "      <th>sexy</th>\n",
       "      <th>jesus</th>\n",
       "      <th>bible</th>\n",
       "      <th>die</th>\n",
       "      <th>volleyball</th>\n",
       "      <th>mall</th>\n",
       "      <th>rock</th>\n",
       "      <th>hollister</th>\n",
       "      <th>clothes</th>\n",
       "      <th>swimming</th>\n",
       "    </tr>\n",
       "    <tr>\n",
       "      <th></th>\n",
       "      <th>sum</th>\n",
       "      <th>sum</th>\n",
       "      <th>sum</th>\n",
       "      <th>sum</th>\n",
       "      <th>sum</th>\n",
       "      <th>size</th>\n",
       "      <th>sum</th>\n",
       "      <th>sum</th>\n",
       "      <th>sum</th>\n",
       "      <th>sum</th>\n",
       "      <th>sum</th>\n",
       "      <th>sum</th>\n",
       "      <th>sum</th>\n",
       "      <th>sum</th>\n",
       "      <th>sum</th>\n",
       "      <th>sum</th>\n",
       "      <th>sum</th>\n",
       "      <th>sum</th>\n",
       "      <th>sum</th>\n",
       "      <th>sum</th>\n",
       "      <th>sum</th>\n",
       "      <th>sum</th>\n",
       "      <th>sum</th>\n",
       "      <th>sum</th>\n",
       "      <th>sum</th>\n",
       "      <th>sum</th>\n",
       "      <th>sum</th>\n",
       "      <th>sum</th>\n",
       "      <th>sum</th>\n",
       "      <th>sum</th>\n",
       "      <th>sum</th>\n",
       "      <th>sum</th>\n",
       "      <th>sum</th>\n",
       "      <th>sum</th>\n",
       "      <th>sum</th>\n",
       "      <th>sum</th>\n",
       "      <th>sum</th>\n",
       "    </tr>\n",
       "    <tr>\n",
       "      <th>cluster</th>\n",
       "      <th></th>\n",
       "      <th></th>\n",
       "      <th></th>\n",
       "      <th></th>\n",
       "      <th></th>\n",
       "      <th></th>\n",
       "      <th></th>\n",
       "      <th></th>\n",
       "      <th></th>\n",
       "      <th></th>\n",
       "      <th></th>\n",
       "      <th></th>\n",
       "      <th></th>\n",
       "      <th></th>\n",
       "      <th></th>\n",
       "      <th></th>\n",
       "      <th></th>\n",
       "      <th></th>\n",
       "      <th></th>\n",
       "      <th></th>\n",
       "      <th></th>\n",
       "      <th></th>\n",
       "      <th></th>\n",
       "      <th></th>\n",
       "      <th></th>\n",
       "      <th></th>\n",
       "      <th></th>\n",
       "      <th></th>\n",
       "      <th></th>\n",
       "      <th></th>\n",
       "      <th></th>\n",
       "      <th></th>\n",
       "      <th></th>\n",
       "      <th></th>\n",
       "      <th></th>\n",
       "      <th></th>\n",
       "      <th></th>\n",
       "    </tr>\n",
       "  </thead>\n",
       "  <tbody>\n",
       "    <tr>\n",
       "      <th>0</th>\n",
       "      <td>0.432790</td>\n",
       "      <td>0.057219</td>\n",
       "      <td>0.197805</td>\n",
       "      <td>0.083095</td>\n",
       "      <td>0.116510</td>\n",
       "      <td>2768</td>\n",
       "      <td>0.073606</td>\n",
       "      <td>0.108827</td>\n",
       "      <td>0.058786</td>\n",
       "      <td>0.059477</td>\n",
       "      <td>0.004926</td>\n",
       "      <td>0.070200</td>\n",
       "      <td>0.081883</td>\n",
       "      <td>0.051908</td>\n",
       "      <td>0.050250</td>\n",
       "      <td>0.506056</td>\n",
       "      <td>0.090806</td>\n",
       "      <td>0.015635</td>\n",
       "      <td>0.084094</td>\n",
       "      <td>0.113975</td>\n",
       "      <td>0.034749</td>\n",
       "      <td>0.070022</td>\n",
       "      <td>0.201938</td>\n",
       "      <td>0.045171</td>\n",
       "      <td>0.091042</td>\n",
       "      <td>0.049873</td>\n",
       "      <td>0.050455</td>\n",
       "      <td>0.389046</td>\n",
       "      <td>0.044021</td>\n",
       "      <td>0.023438</td>\n",
       "      <td>0.082564</td>\n",
       "      <td>0.089660</td>\n",
       "      <td>0.224323</td>\n",
       "      <td>0.088630</td>\n",
       "      <td>0.030057</td>\n",
       "      <td>0.131313</td>\n",
       "      <td>0.064236</td>\n",
       "    </tr>\n",
       "    <tr>\n",
       "      <th>1</th>\n",
       "      <td>0.113669</td>\n",
       "      <td>0.628268</td>\n",
       "      <td>0.148961</td>\n",
       "      <td>0.545686</td>\n",
       "      <td>0.396860</td>\n",
       "      <td>2535</td>\n",
       "      <td>0.078308</td>\n",
       "      <td>0.337601</td>\n",
       "      <td>0.675388</td>\n",
       "      <td>0.136377</td>\n",
       "      <td>0.029557</td>\n",
       "      <td>0.109601</td>\n",
       "      <td>0.127874</td>\n",
       "      <td>0.089695</td>\n",
       "      <td>0.167183</td>\n",
       "      <td>0.088468</td>\n",
       "      <td>0.163994</td>\n",
       "      <td>0.085993</td>\n",
       "      <td>0.100853</td>\n",
       "      <td>0.087535</td>\n",
       "      <td>0.726420</td>\n",
       "      <td>0.092879</td>\n",
       "      <td>0.097530</td>\n",
       "      <td>0.113485</td>\n",
       "      <td>0.325941</td>\n",
       "      <td>0.086086</td>\n",
       "      <td>0.066998</td>\n",
       "      <td>0.158404</td>\n",
       "      <td>0.069899</td>\n",
       "      <td>0.070312</td>\n",
       "      <td>0.400688</td>\n",
       "      <td>0.079879</td>\n",
       "      <td>0.152182</td>\n",
       "      <td>0.219315</td>\n",
       "      <td>0.064408</td>\n",
       "      <td>0.300337</td>\n",
       "      <td>0.094246</td>\n",
       "    </tr>\n",
       "    <tr>\n",
       "      <th>2</th>\n",
       "      <td>0.033863</td>\n",
       "      <td>0.025009</td>\n",
       "      <td>0.047824</td>\n",
       "      <td>0.029608</td>\n",
       "      <td>0.036128</td>\n",
       "      <td>1391</td>\n",
       "      <td>0.037743</td>\n",
       "      <td>0.027628</td>\n",
       "      <td>0.025517</td>\n",
       "      <td>0.032743</td>\n",
       "      <td>0.920361</td>\n",
       "      <td>0.029052</td>\n",
       "      <td>0.044344</td>\n",
       "      <td>0.037405</td>\n",
       "      <td>0.026911</td>\n",
       "      <td>0.026330</td>\n",
       "      <td>0.075491</td>\n",
       "      <td>0.007818</td>\n",
       "      <td>0.036062</td>\n",
       "      <td>0.032956</td>\n",
       "      <td>0.022063</td>\n",
       "      <td>0.039371</td>\n",
       "      <td>0.020944</td>\n",
       "      <td>0.538718</td>\n",
       "      <td>0.051940</td>\n",
       "      <td>0.019377</td>\n",
       "      <td>0.023780</td>\n",
       "      <td>0.035175</td>\n",
       "      <td>0.040452</td>\n",
       "      <td>0.031250</td>\n",
       "      <td>0.041282</td>\n",
       "      <td>0.024220</td>\n",
       "      <td>0.032120</td>\n",
       "      <td>0.065342</td>\n",
       "      <td>0.006202</td>\n",
       "      <td>0.035241</td>\n",
       "      <td>0.040923</td>\n",
       "    </tr>\n",
       "    <tr>\n",
       "      <th>3</th>\n",
       "      <td>0.056473</td>\n",
       "      <td>0.039788</td>\n",
       "      <td>0.079733</td>\n",
       "      <td>0.034702</td>\n",
       "      <td>0.058216</td>\n",
       "      <td>2327</td>\n",
       "      <td>0.508798</td>\n",
       "      <td>0.065027</td>\n",
       "      <td>0.034561</td>\n",
       "      <td>0.038750</td>\n",
       "      <td>0.012315</td>\n",
       "      <td>0.076060</td>\n",
       "      <td>0.341214</td>\n",
       "      <td>0.436641</td>\n",
       "      <td>0.067159</td>\n",
       "      <td>0.047920</td>\n",
       "      <td>0.087599</td>\n",
       "      <td>0.011726</td>\n",
       "      <td>0.161155</td>\n",
       "      <td>0.074504</td>\n",
       "      <td>0.041919</td>\n",
       "      <td>0.056018</td>\n",
       "      <td>0.077524</td>\n",
       "      <td>0.061193</td>\n",
       "      <td>0.107966</td>\n",
       "      <td>0.046061</td>\n",
       "      <td>0.044458</td>\n",
       "      <td>0.046034</td>\n",
       "      <td>0.565437</td>\n",
       "      <td>0.781250</td>\n",
       "      <td>0.085280</td>\n",
       "      <td>0.093153</td>\n",
       "      <td>0.070587</td>\n",
       "      <td>0.081781</td>\n",
       "      <td>0.014790</td>\n",
       "      <td>0.072503</td>\n",
       "      <td>0.055060</td>\n",
       "    </tr>\n",
       "    <tr>\n",
       "      <th>4</th>\n",
       "      <td>0.062461</td>\n",
       "      <td>0.037893</td>\n",
       "      <td>0.084516</td>\n",
       "      <td>0.063992</td>\n",
       "      <td>0.065867</td>\n",
       "      <td>2941</td>\n",
       "      <td>0.064338</td>\n",
       "      <td>0.127022</td>\n",
       "      <td>0.034561</td>\n",
       "      <td>0.027035</td>\n",
       "      <td>0.011494</td>\n",
       "      <td>0.408354</td>\n",
       "      <td>0.076510</td>\n",
       "      <td>0.089313</td>\n",
       "      <td>0.382234</td>\n",
       "      <td>0.056082</td>\n",
       "      <td>0.093833</td>\n",
       "      <td>0.011075</td>\n",
       "      <td>0.212629</td>\n",
       "      <td>0.061756</td>\n",
       "      <td>0.022614</td>\n",
       "      <td>0.520544</td>\n",
       "      <td>0.141919</td>\n",
       "      <td>0.044504</td>\n",
       "      <td>0.062737</td>\n",
       "      <td>0.617535</td>\n",
       "      <td>0.085401</td>\n",
       "      <td>0.069877</td>\n",
       "      <td>0.058894</td>\n",
       "      <td>0.021875</td>\n",
       "      <td>0.056491</td>\n",
       "      <td>0.234746</td>\n",
       "      <td>0.076674</td>\n",
       "      <td>0.114521</td>\n",
       "      <td>0.019561</td>\n",
       "      <td>0.060157</td>\n",
       "      <td>0.060516</td>\n",
       "    </tr>\n",
       "    <tr>\n",
       "      <th>5</th>\n",
       "      <td>0.078877</td>\n",
       "      <td>0.054187</td>\n",
       "      <td>0.076989</td>\n",
       "      <td>0.047119</td>\n",
       "      <td>0.088586</td>\n",
       "      <td>1589</td>\n",
       "      <td>0.043788</td>\n",
       "      <td>0.091644</td>\n",
       "      <td>0.050388</td>\n",
       "      <td>0.062481</td>\n",
       "      <td>0.007389</td>\n",
       "      <td>0.056858</td>\n",
       "      <td>0.046063</td>\n",
       "      <td>0.070611</td>\n",
       "      <td>0.056918</td>\n",
       "      <td>0.090311</td>\n",
       "      <td>0.055794</td>\n",
       "      <td>0.837785</td>\n",
       "      <td>0.069430</td>\n",
       "      <td>0.117469</td>\n",
       "      <td>0.045780</td>\n",
       "      <td>0.063945</td>\n",
       "      <td>0.160050</td>\n",
       "      <td>0.028037</td>\n",
       "      <td>0.058068</td>\n",
       "      <td>0.049873</td>\n",
       "      <td>0.049628</td>\n",
       "      <td>0.059490</td>\n",
       "      <td>0.036883</td>\n",
       "      <td>0.021875</td>\n",
       "      <td>0.052870</td>\n",
       "      <td>0.080112</td>\n",
       "      <td>0.113716</td>\n",
       "      <td>0.049726</td>\n",
       "      <td>0.822519</td>\n",
       "      <td>0.112458</td>\n",
       "      <td>0.071429</td>\n",
       "    </tr>\n",
       "    <tr>\n",
       "      <th>6</th>\n",
       "      <td>0.069895</td>\n",
       "      <td>0.037893</td>\n",
       "      <td>0.105057</td>\n",
       "      <td>0.046004</td>\n",
       "      <td>0.074623</td>\n",
       "      <td>2831</td>\n",
       "      <td>0.061786</td>\n",
       "      <td>0.077156</td>\n",
       "      <td>0.034884</td>\n",
       "      <td>0.030940</td>\n",
       "      <td>0.002463</td>\n",
       "      <td>0.063591</td>\n",
       "      <td>0.072355</td>\n",
       "      <td>0.075191</td>\n",
       "      <td>0.065015</td>\n",
       "      <td>0.060558</td>\n",
       "      <td>0.182471</td>\n",
       "      <td>0.011075</td>\n",
       "      <td>0.121203</td>\n",
       "      <td>0.337866</td>\n",
       "      <td>0.018753</td>\n",
       "      <td>0.049016</td>\n",
       "      <td>0.108471</td>\n",
       "      <td>0.047953</td>\n",
       "      <td>0.075285</td>\n",
       "      <td>0.036849</td>\n",
       "      <td>0.031224</td>\n",
       "      <td>0.052408</td>\n",
       "      <td>0.053540</td>\n",
       "      <td>0.017188</td>\n",
       "      <td>0.059207</td>\n",
       "      <td>0.108291</td>\n",
       "      <td>0.127963</td>\n",
       "      <td>0.174658</td>\n",
       "      <td>0.019561</td>\n",
       "      <td>0.146577</td>\n",
       "      <td>0.502480</td>\n",
       "    </tr>\n",
       "    <tr>\n",
       "      <th>7</th>\n",
       "      <td>0.070824</td>\n",
       "      <td>0.035620</td>\n",
       "      <td>0.111250</td>\n",
       "      <td>0.040115</td>\n",
       "      <td>0.070364</td>\n",
       "      <td>2019</td>\n",
       "      <td>0.062458</td>\n",
       "      <td>0.057951</td>\n",
       "      <td>0.035207</td>\n",
       "      <td>0.602583</td>\n",
       "      <td>0.011494</td>\n",
       "      <td>0.098005</td>\n",
       "      <td>0.058170</td>\n",
       "      <td>0.050763</td>\n",
       "      <td>0.077161</td>\n",
       "      <td>0.053976</td>\n",
       "      <td>0.064152</td>\n",
       "      <td>0.018893</td>\n",
       "      <td>0.060602</td>\n",
       "      <td>0.090463</td>\n",
       "      <td>0.028682</td>\n",
       "      <td>0.053640</td>\n",
       "      <td>0.079712</td>\n",
       "      <td>0.044281</td>\n",
       "      <td>0.067406</td>\n",
       "      <td>0.048602</td>\n",
       "      <td>0.600496</td>\n",
       "      <td>0.049339</td>\n",
       "      <td>0.039262</td>\n",
       "      <td>0.023438</td>\n",
       "      <td>0.058483</td>\n",
       "      <td>0.175361</td>\n",
       "      <td>0.084316</td>\n",
       "      <td>0.056575</td>\n",
       "      <td>0.022901</td>\n",
       "      <td>0.070483</td>\n",
       "      <td>0.047619</td>\n",
       "    </tr>\n",
       "    <tr>\n",
       "      <th>8</th>\n",
       "      <td>0.081148</td>\n",
       "      <td>0.084123</td>\n",
       "      <td>0.147864</td>\n",
       "      <td>0.109678</td>\n",
       "      <td>0.092845</td>\n",
       "      <td>11599</td>\n",
       "      <td>0.069174</td>\n",
       "      <td>0.107143</td>\n",
       "      <td>0.050711</td>\n",
       "      <td>0.009612</td>\n",
       "      <td>0.000000</td>\n",
       "      <td>0.088279</td>\n",
       "      <td>0.151587</td>\n",
       "      <td>0.098473</td>\n",
       "      <td>0.107168</td>\n",
       "      <td>0.070300</td>\n",
       "      <td>0.185859</td>\n",
       "      <td>0.000000</td>\n",
       "      <td>0.153973</td>\n",
       "      <td>0.083475</td>\n",
       "      <td>0.059018</td>\n",
       "      <td>0.054565</td>\n",
       "      <td>0.111910</td>\n",
       "      <td>0.076658</td>\n",
       "      <td>0.159615</td>\n",
       "      <td>0.045743</td>\n",
       "      <td>0.047560</td>\n",
       "      <td>0.140227</td>\n",
       "      <td>0.091612</td>\n",
       "      <td>0.009375</td>\n",
       "      <td>0.163136</td>\n",
       "      <td>0.114578</td>\n",
       "      <td>0.118119</td>\n",
       "      <td>0.149452</td>\n",
       "      <td>0.000000</td>\n",
       "      <td>0.070932</td>\n",
       "      <td>0.063492</td>\n",
       "    </tr>\n",
       "  </tbody>\n",
       "</table>\n",
       "</div>"
      ],
      "text/plain": [
       "             cute     drunk     dance       sex      hair cluster    church  \\\n",
       "              sum       sum       sum       sum       sum    size       sum   \n",
       "cluster                                                                       \n",
       "0        0.432790  0.057219  0.197805  0.083095  0.116510    2768  0.073606   \n",
       "1        0.113669  0.628268  0.148961  0.545686  0.396860    2535  0.078308   \n",
       "2        0.033863  0.025009  0.047824  0.029608  0.036128    1391  0.037743   \n",
       "3        0.056473  0.039788  0.079733  0.034702  0.058216    2327  0.508798   \n",
       "4        0.062461  0.037893  0.084516  0.063992  0.065867    2941  0.064338   \n",
       "5        0.078877  0.054187  0.076989  0.047119  0.088586    1589  0.043788   \n",
       "6        0.069895  0.037893  0.105057  0.046004  0.074623    2831  0.061786   \n",
       "7        0.070824  0.035620  0.111250  0.040115  0.070364    2019  0.062458   \n",
       "8        0.081148  0.084123  0.147864  0.109678  0.092845   11599  0.069174   \n",
       "\n",
       "           blonde    kissed     dress  marching basketball       god  \\\n",
       "              sum       sum       sum       sum        sum       sum   \n",
       "cluster                                                                \n",
       "0        0.108827  0.058786  0.059477  0.004926   0.070200  0.081883   \n",
       "1        0.337601  0.675388  0.136377  0.029557   0.109601  0.127874   \n",
       "2        0.027628  0.025517  0.032743  0.920361   0.029052  0.044344   \n",
       "3        0.065027  0.034561  0.038750  0.012315   0.076060  0.341214   \n",
       "4        0.127022  0.034561  0.027035  0.011494   0.408354  0.076510   \n",
       "5        0.091644  0.050388  0.062481  0.007389   0.056858  0.046063   \n",
       "6        0.077156  0.034884  0.030940  0.002463   0.063591  0.072355   \n",
       "7        0.057951  0.035207  0.602583  0.011494   0.098005  0.058170   \n",
       "8        0.107143  0.050711  0.009612  0.000000   0.088279  0.151587   \n",
       "\n",
       "           tennis    sports       hot     music abercrombie    soccer  \\\n",
       "              sum       sum       sum       sum         sum       sum   \n",
       "cluster                                                                 \n",
       "0        0.051908  0.050250  0.506056  0.090806    0.015635  0.084094   \n",
       "1        0.089695  0.167183  0.088468  0.163994    0.085993  0.100853   \n",
       "2        0.037405  0.026911  0.026330  0.075491    0.007818  0.036062   \n",
       "3        0.436641  0.067159  0.047920  0.087599    0.011726  0.161155   \n",
       "4        0.089313  0.382234  0.056082  0.093833    0.011075  0.212629   \n",
       "5        0.070611  0.056918  0.090311  0.055794    0.837785  0.069430   \n",
       "6        0.075191  0.065015  0.060558  0.182471    0.011075  0.121203   \n",
       "7        0.050763  0.077161  0.053976  0.064152    0.018893  0.060602   \n",
       "8        0.098473  0.107168  0.070300  0.185859    0.000000  0.153973   \n",
       "\n",
       "         shopping     drugs  football cheerleading      band     death  \\\n",
       "              sum       sum       sum          sum       sum       sum   \n",
       "cluster                                                                  \n",
       "0        0.113975  0.034749  0.070022     0.201938  0.045171  0.091042   \n",
       "1        0.087535  0.726420  0.092879     0.097530  0.113485  0.325941   \n",
       "2        0.032956  0.022063  0.039371     0.020944  0.538718  0.051940   \n",
       "3        0.074504  0.041919  0.056018     0.077524  0.061193  0.107966   \n",
       "4        0.061756  0.022614  0.520544     0.141919  0.044504  0.062737   \n",
       "5        0.117469  0.045780  0.063945     0.160050  0.028037  0.058068   \n",
       "6        0.337866  0.018753  0.049016     0.108471  0.047953  0.075285   \n",
       "7        0.090463  0.028682  0.053640     0.079712  0.044281  0.067406   \n",
       "8        0.083475  0.059018  0.054565     0.111910  0.076658  0.159615   \n",
       "\n",
       "         baseball  softball      sexy     jesus     bible       die  \\\n",
       "              sum       sum       sum       sum       sum       sum   \n",
       "cluster                                                               \n",
       "0        0.049873  0.050455  0.389046  0.044021  0.023438  0.082564   \n",
       "1        0.086086  0.066998  0.158404  0.069899  0.070312  0.400688   \n",
       "2        0.019377  0.023780  0.035175  0.040452  0.031250  0.041282   \n",
       "3        0.046061  0.044458  0.046034  0.565437  0.781250  0.085280   \n",
       "4        0.617535  0.085401  0.069877  0.058894  0.021875  0.056491   \n",
       "5        0.049873  0.049628  0.059490  0.036883  0.021875  0.052870   \n",
       "6        0.036849  0.031224  0.052408  0.053540  0.017188  0.059207   \n",
       "7        0.048602  0.600496  0.049339  0.039262  0.023438  0.058483   \n",
       "8        0.045743  0.047560  0.140227  0.091612  0.009375  0.163136   \n",
       "\n",
       "        volleyball      mall      rock hollister   clothes  swimming  \n",
       "               sum       sum       sum       sum       sum       sum  \n",
       "cluster                                                               \n",
       "0         0.089660  0.224323  0.088630  0.030057  0.131313  0.064236  \n",
       "1         0.079879  0.152182  0.219315  0.064408  0.300337  0.094246  \n",
       "2         0.024220  0.032120  0.065342  0.006202  0.035241  0.040923  \n",
       "3         0.093153  0.070587  0.081781  0.014790  0.072503  0.055060  \n",
       "4         0.234746  0.076674  0.114521  0.019561  0.060157  0.060516  \n",
       "5         0.080112  0.113716  0.049726  0.822519  0.112458  0.071429  \n",
       "6         0.108291  0.127963  0.174658  0.019561  0.146577  0.502480  \n",
       "7         0.175361  0.084316  0.056575  0.022901  0.070483  0.047619  \n",
       "8         0.114578  0.118119  0.149452  0.000000  0.070932  0.063492  "
      ]
     },
     "metadata": {},
     "output_type": "display_data"
    }
   ],
   "source": [
    "# understanding clusters\n",
    "u_kmeans = Kmeans(k=9, random_state=10224, max_iter=10, metric='cosine')\n",
    "u_kmeans.fit(real_X)\n",
    "\n",
    "represent = df_sns.iloc[:, :4]\n",
    "represent['cluster'] = u_kmeans.labels\n",
    "\n",
    "interests = df_sns.columns[4:-1]\n",
    "aggs = {key : np.sum for key in interests}\n",
    "aggs['cluster'] = {'size': len}\n",
    "\n",
    "represent = df_sns.iloc[:, :]\n",
    "represent['cluster'] = kmeans.labels\n",
    "res = represent.groupby('cluster').agg(aggs)\n",
    "\n",
    "for interest in interests:\n",
    "    res[interest] = res[interest]['sum'] / np.sum(res[interest]['sum'])\n",
    "    \n",
    "from IPython import display\n",
    "with pd.option_context('display.max_rows', None, 'display.max_columns', None):\n",
    "    display.display(res)"
   ]
  },
  {
   "cell_type": "markdown",
   "metadata": {},
   "source": [
    "## Вывод\n",
    "\n",
    "### Kmeans\n",
    "Модификации имеют свои преимущества и недостатки.\n",
    "\n",
    "MiniBatch дает ощутимый выигрыш по времени, однако точность несколько падает.\n",
    "\n",
    "KMeans++ позволяет защититься от ситуации, когда два центроида оказываются случайно выбраны слишком близко друг к другу. Тем не менее, при большом числе точек время кластеризации ощутимо растет.\n",
    "\n",
    "Таким образом, ни одну из модификаций алгоритма нельзя считать лучшей. Выбор должен определяться обстоятельствами.\n",
    "\n",
    "### Интерпретация реальных данных\n",
    "\n",
    "Исследовав результаты кластеризации обычным Kmeans с косинусной метрикой, я обнаружил следующие кластеры\n",
    "\n",
    "1. Интересующиеся танцами и магазинами, которым нравится все симпатичное и сексуальное\n",
    "1. Маргинальные любители наркотиков, секса и выпить, которые также больше других ценят поцелуи, волосы (!), блондинок, рок и смерть\n",
    "1. Конспирлогическая секта -- рассказали о своих интересах гораздо меньше других\n",
    "1. Любители церкви, Библии и Иисуса\n",
    "4. Фанаты игр с мячом\n",
    "5. Знают толк в шоппинге, разбираются в одежде, предпочитают бренд \"Hollister\" и \"Abercrombie\". У них также больше других встречается слово \"hot\" (?вероятно, перед \"sales\")\n",
    "6. Плавцы\n",
    "7. Софтболисты, которые также ценят одежду\n",
    "8. Самая большая группа. Из примечательного: в этом большом коллективе в ноль игнорируют \"Hollister\" и \"Abercrombie\", а также... походы (marching). В отличие от алкоголиков не маргинальны, хотя спектр интересов очень схож\n"
   ]
  }
 ],
 "metadata": {
  "anaconda-cloud": {},
  "kernelspec": {
   "display_name": "Python 2",
   "language": "python",
   "name": "python2"
  },
  "language_info": {
   "codemirror_mode": {
    "name": "ipython",
    "version": 2
   },
   "file_extension": ".py",
   "mimetype": "text/x-python",
   "name": "python",
   "nbconvert_exporter": "python",
   "pygments_lexer": "ipython2",
   "version": "2.7.13"
  },
  "nav_menu": {},
  "toc": {
   "navigate_menu": true,
   "number_sections": false,
   "sideBar": true,
   "threshold": 6,
   "toc_cell": false,
   "toc_section_display": "block",
   "toc_window_display": true
  }
 },
 "nbformat": 4,
 "nbformat_minor": 2
}
